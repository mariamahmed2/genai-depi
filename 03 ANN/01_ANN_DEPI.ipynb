{
  "nbformat": 4,
  "nbformat_minor": 0,
  "metadata": {
    "colab": {
      "provenance": [],
      "gpuType": "T4"
    },
    "kernelspec": {
      "name": "python3",
      "display_name": "Python 3"
    },
    "language_info": {
      "name": "python"
    },
    "accelerator": "GPU"
  },
  "cells": [
    {
      "cell_type": "markdown",
      "source": [
        "### `Import Libraries`"
      ],
      "metadata": {
        "id": "hG4Bq-kb1uM6"
      }
    },
    {
      "cell_type": "code",
      "source": [
        "# Major\n",
        "import numpy as np\n",
        "import pandas as pd\n",
        "import matplotlib.pyplot as plt\n",
        "import seaborn as sns\n",
        "\n",
        "## Sklearn\n",
        "from sklearn.model_selection import train_test_split\n",
        "from sklearn.metrics import accuracy_score, confusion_matrix\n",
        "\n",
        "## TensorFlow\n",
        "import tensorflow as tf\n",
        "tf.random.set_seed(2024)"
      ],
      "metadata": {
        "id": "Jakl55bXzs27"
      },
      "execution_count": null,
      "outputs": []
    },
    {
      "cell_type": "code",
      "source": [
        "tf.__version__"
      ],
      "metadata": {
        "colab": {
          "base_uri": "https://localhost:8080/",
          "height": 35
        },
        "id": "Kr60vhmoqVmX",
        "outputId": "74d7556f-fea5-4795-b80f-c25099708bf5"
      },
      "execution_count": null,
      "outputs": [
        {
          "output_type": "execute_result",
          "data": {
            "text/plain": [
              "'2.15.0'"
            ],
            "application/vnd.google.colaboratory.intrinsic+json": {
              "type": "string"
            }
          },
          "metadata": {},
          "execution_count": 20
        }
      ]
    },
    {
      "cell_type": "markdown",
      "source": [
        "### `Classifiction NN`"
      ],
      "metadata": {
        "id": "KD19Wboyneow"
      }
    },
    {
      "cell_type": "markdown",
      "source": [
        "### `Load the Dataset`"
      ],
      "metadata": {
        "id": "35GcwmAs2Bjn"
      }
    },
    {
      "cell_type": "code",
      "source": [
        "## loading the Fashion MNIST -> embedded in TensorFlow\n",
        "tf.random.set_seed(2024)\n",
        "(X_train_full, y_train_full), (X_test, y_test) = tf.keras.datasets.fashion_mnist.load_data()"
      ],
      "metadata": {
        "id": "SRxcfFiF2Ehm"
      },
      "execution_count": null,
      "outputs": []
    },
    {
      "cell_type": "code",
      "source": [
        "X_train_full.max()"
      ],
      "metadata": {
        "colab": {
          "base_uri": "https://localhost:8080/"
        },
        "id": "slwG4wG5ulck",
        "outputId": "f5da6bda-56ab-432a-9d84-5206e37e9b05"
      },
      "execution_count": null,
      "outputs": [
        {
          "output_type": "execute_result",
          "data": {
            "text/plain": [
              "255"
            ]
          },
          "metadata": {},
          "execution_count": 30
        }
      ]
    },
    {
      "cell_type": "markdown",
      "source": [
        "### `Data Processing`"
      ],
      "metadata": {
        "id": "X5wZP7Zr2iCa"
      }
    },
    {
      "cell_type": "code",
      "source": [
        "## Normalizing and Transfer datatypes to (float32 & int32, enough for NN)\n",
        "X_train_full = (X_train_full/255.0).astype('float32')\n",
        "y_train_full = y_train_full.astype('int32')\n",
        "np.unique(y_train_full)"
      ],
      "metadata": {
        "colab": {
          "base_uri": "https://localhost:8080/"
        },
        "id": "9sYwsERmuS4g",
        "outputId": "fdcbf0f5-2b78-487f-b939-cd34d61ac902"
      },
      "execution_count": null,
      "outputs": [
        {
          "output_type": "execute_result",
          "data": {
            "text/plain": [
              "array([0, 1, 2, 3, 4, 5, 6, 7, 8, 9], dtype=int32)"
            ]
          },
          "metadata": {},
          "execution_count": 25
        }
      ]
    },
    {
      "cell_type": "code",
      "source": [
        "X_train_full.max()"
      ],
      "metadata": {
        "colab": {
          "base_uri": "https://localhost:8080/"
        },
        "id": "ZeI08QS2uiiN",
        "outputId": "3bd39c92-6941-4711-907a-e92cc6a974c5"
      },
      "execution_count": null,
      "outputs": [
        {
          "output_type": "execute_result",
          "data": {
            "text/plain": [
              "9.274685e-13"
            ]
          },
          "metadata": {},
          "execution_count": 26
        }
      ]
    },
    {
      "cell_type": "code",
      "source": [
        "X_test = (X_test/255.0).astype('float32')\n",
        "y_test = y_test.astype('int32')"
      ],
      "metadata": {
        "id": "4ywrqHt62nQg"
      },
      "execution_count": null,
      "outputs": []
    },
    {
      "cell_type": "markdown",
      "source": [
        "### `Split the Dataset`"
      ],
      "metadata": {
        "id": "uG3E2-IN2yHR"
      }
    },
    {
      "cell_type": "code",
      "source": [
        "## Split train to train & valid\n",
        "X_train, X_valid, y_train, y_valid = train_test_split(X_train_full, y_train_full,\n",
        "                                                      test_size=0.1, shuffle=True, stratify=y_train_full)\n",
        "\n",
        "print('X_train shape =>', X_train.shape)\n",
        "print('y_train shape =>', y_train.shape)\n",
        "\n",
        "print('----'*10)\n",
        "\n",
        "print('X_val shape =>', X_valid.shape)\n",
        "print('y_val shape =>', y_valid.shape)\n",
        "\n",
        "print('----'*10)\n",
        "\n",
        "print('X_test shape =>', X_test.shape)\n",
        "print('y_test shape =>', y_test.shape)"
      ],
      "metadata": {
        "colab": {
          "base_uri": "https://localhost:8080/"
        },
        "id": "5BqR1UN721MG",
        "outputId": "7cfbf162-6bb0-4c0c-f31e-f0750586b748"
      },
      "execution_count": null,
      "outputs": [
        {
          "output_type": "stream",
          "name": "stdout",
          "text": [
            "X_train shape => (54000, 28, 28)\n",
            "y_train shape => (54000,)\n",
            "----------------------------------------\n",
            "X_val shape => (6000, 28, 28)\n",
            "y_val shape => (6000,)\n",
            "----------------------------------------\n",
            "X_test shape => (10000, 28, 28)\n",
            "y_test shape => (10000,)\n"
          ]
        }
      ]
    },
    {
      "cell_type": "markdown",
      "source": [
        "### `Getting Labels`"
      ],
      "metadata": {
        "id": "ybAN6TTl3oi6"
      }
    },
    {
      "cell_type": "code",
      "source": [
        "## What about the target\n",
        "## Each target is represented by numbers , If we plot these matrices according to its numbers\n",
        "## we will get the corresponding photo to each number , I will do that"
      ],
      "metadata": {
        "id": "ZiVBG899z6eV"
      },
      "execution_count": null,
      "outputs": []
    },
    {
      "cell_type": "code",
      "source": [
        "X_train[0].shape"
      ],
      "metadata": {
        "colab": {
          "base_uri": "https://localhost:8080/"
        },
        "id": "PkLF1lJCw8zM",
        "outputId": "7d743a67-ee52-4d52-f0e4-19a92a518dfb"
      },
      "execution_count": null,
      "outputs": [
        {
          "output_type": "execute_result",
          "data": {
            "text/plain": [
              "(28, 28)"
            ]
          },
          "metadata": {},
          "execution_count": 31
        }
      ]
    },
    {
      "cell_type": "code",
      "source": [
        "# Just an exmaple\n",
        "plt.imshow(X_train[0], cmap='binary');"
      ],
      "metadata": {
        "colab": {
          "base_uri": "https://localhost:8080/",
          "height": 430
        },
        "id": "iCA_Djag3RUd",
        "outputId": "b2305c1b-4710-44f5-8f8b-86e4f457e01b"
      },
      "execution_count": null,
      "outputs": [
        {
          "output_type": "display_data",
          "data": {
            "text/plain": [
              "<Figure size 640x480 with 1 Axes>"
            ],
            "image/png": "[encoded data removed]"
          },
          "metadata": {}
        }
      ]
    },
    {
      "cell_type": "code",
      "source": [
        "target_only_plot = pd.DataFrame(y_train, columns=['target'])\n",
        "target_only_plot"
      ],
      "metadata": {
        "colab": {
          "base_uri": "https://localhost:8080/",
          "height": 423
        },
        "id": "DeDoqiWRxC50",
        "outputId": "85e523ee-23a7-49d4-9977-16f4a7e0067a"
      },
      "execution_count": null,
      "outputs": [
        {
          "output_type": "execute_result",
          "data": {
            "text/plain": [
              "       target\n",
              "0           6\n",
              "1           4\n",
              "2           5\n",
              "3           4\n",
              "4           4\n",
              "...       ...\n",
              "53995       6\n",
              "53996       9\n",
              "53997       6\n",
              "53998       9\n",
              "53999       1\n",
              "\n",
              "[54000 rows x 1 columns]"
            ],
            "text/html": [
              "\n",
              "  <div id=\"df-55f1caac-5133-4148-b4ef-8cb69f2ff678\" class=\"colab-df-container\">\n",
              "    <div>\n",
              "<style scoped>\n",
              "    .dataframe tbody tr th:only-of-type {\n",
              "        vertical-align: middle;\n",
              "    }\n",
              "\n",
              "    .dataframe tbody tr th {\n",
              "        vertical-align: top;\n",
              "    }\n",
              "\n",
              "    .dataframe thead th {\n",
              "        text-align: right;\n",
              "    }\n",
              "</style>\n",
              "<table border=\"1\" class=\"dataframe\">\n",
              "  <thead>\n",
              "    <tr style=\"text-align: right;\">\n",
              "      <th></th>\n",
              "      <th>target</th>\n",
              "    </tr>\n",
              "  </thead>\n",
              "  <tbody>\n",
              "    <tr>\n",
              "      <th>0</th>\n",
              "      <td>6</td>\n",
              "    </tr>\n",
              "    <tr>\n",
              "      <th>1</th>\n",
              "      <td>4</td>\n",
              "    </tr>\n",
              "    <tr>\n",
              "      <th>2</th>\n",
              "      <td>5</td>\n",
              "    </tr>\n",
              "    <tr>\n",
              "      <th>3</th>\n",
              "      <td>4</td>\n",
              "    </tr>\n",
              "    <tr>\n",
              "      <th>4</th>\n",
              "      <td>4</td>\n",
              "    </tr>\n",
              "    <tr>\n",
              "      <th>...</th>\n",
              "      <td>...</td>\n",
              "    </tr>\n",
              "    <tr>\n",
              "      <th>53995</th>\n",
              "      <td>6</td>\n",
              "    </tr>\n",
              "    <tr>\n",
              "      <th>53996</th>\n",
              "      <td>9</td>\n",
              "    </tr>\n",
              "    <tr>\n",
              "      <th>53997</th>\n",
              "      <td>6</td>\n",
              "    </tr>\n",
              "    <tr>\n",
              "      <th>53998</th>\n",
              "      <td>9</td>\n",
              "    </tr>\n",
              "    <tr>\n",
              "      <th>53999</th>\n",
              "      <td>1</td>\n",
              "    </tr>\n",
              "  </tbody>\n",
              "</table>\n",
              "<p>54000 rows × 1 columns</p>\n",
              "</div>\n",
              "    <div class=\"colab-df-buttons\">\n",
              "\n",
              "  <div class=\"colab-df-container\">\n",
              "    <button class=\"colab-df-convert\" onclick=\"convertToInteractive('df-55f1caac-5133-4148-b4ef-8cb69f2ff678')\"\n",
              "            title=\"Convert this dataframe to an interactive table.\"\n",
              "            style=\"display:none;\">\n",
              "\n",
              "  <svg xmlns=\"http://www.w3.org/2000/svg\" height=\"24px\" viewBox=\"0 -960 960 960\">\n",
              "    <path d=\"M120-120v-720h720v720H120Zm60-500h600v-160H180v160Zm220 220h160v-160H400v160Zm0 220h160v-160H400v160ZM180-400h160v-160H180v160Zm440 0h160v-160H620v160ZM180-180h160v-160H180v160Zm440 0h160v-160H620v160Z\"/>\n",
              "  </svg>\n",
              "    </button>\n",
              "\n",
              "  <style>\n",
              "    .colab-df-container {\n",
              "      display:flex;\n",
              "      gap: 12px;\n",
              "    }\n",
              "\n",
              "    .colab-df-convert {\n",
              "      background-color: #E8F0FE;\n",
              "      border: none;\n",
              "      border-radius: 50%;\n",
              "      cursor: pointer;\n",
              "      display: none;\n",
              "      fill: #1967D2;\n",
              "      height: 32px;\n",
              "      padding: 0 0 0 0;\n",
              "      width: 32px;\n",
              "    }\n",
              "\n",
              "    .colab-df-convert:hover {\n",
              "      background-color: #E2EBFA;\n",
              "      box-shadow: 0px 1px 2px rgba(60, 64, 67, 0.3), 0px 1px 3px 1px rgba(60, 64, 67, 0.15);\n",
              "      fill: #174EA6;\n",
              "    }\n",
              "\n",
              "    .colab-df-buttons div {\n",
              "      margin-bottom: 4px;\n",
              "    }\n",
              "\n",
              "    [theme=dark] .colab-df-convert {\n",
              "      background-color: #3B4455;\n",
              "      fill: #D2E3FC;\n",
              "    }\n",
              "\n",
              "    [theme=dark] .colab-df-convert:hover {\n",
              "      background-color: #434B5C;\n",
              "      box-shadow: 0px 1px 3px 1px rgba(0, 0, 0, 0.15);\n",
              "      filter: drop-shadow(0px 1px 2px rgba(0, 0, 0, 0.3));\n",
              "      fill: #FFFFFF;\n",
              "    }\n",
              "  </style>\n",
              "\n",
              "    <script>\n",
              "      const buttonEl =\n",
              "        document.querySelector('#df-55f1caac-5133-4148-b4ef-8cb69f2ff678 button.colab-df-convert');\n",
              "      buttonEl.style.display =\n",
              "        google.colab.kernel.accessAllowed ? 'block' : 'none';\n",
              "\n",
              "      async function convertToInteractive(key) {\n",
              "        const element = document.querySelector('#df-55f1caac-5133-4148-b4ef-8cb69f2ff678');\n",
              "        const dataTable =\n",
              "          await google.colab.kernel.invokeFunction('convertToInteractive',\n",
              "                                                    [key], {});\n",
              "        if (!dataTable) return;\n",
              "\n",
              "        const docLinkHtml = 'Like what you see? Visit the ' +\n",
              "          '<a target=\"_blank\" href=https://colab.research.google.com/notebooks/data_table.ipynb>data table notebook</a>'\n",
              "          + ' to learn more about interactive tables.';\n",
              "        element.innerHTML = '';\n",
              "        dataTable['output_type'] = 'display_data';\n",
              "        await google.colab.output.renderOutput(dataTable, element);\n",
              "        const docLink = document.createElement('div');\n",
              "        docLink.innerHTML = docLinkHtml;\n",
              "        element.appendChild(docLink);\n",
              "      }\n",
              "    </script>\n",
              "  </div>\n",
              "\n",
              "\n",
              "<div id=\"df-1cdbc068-f634-4c41-9c98-176e7045a51c\">\n",
              "  <button class=\"colab-df-quickchart\" onclick=\"quickchart('df-1cdbc068-f634-4c41-9c98-176e7045a51c')\"\n",
              "            title=\"Suggest charts\"\n",
              "            style=\"display:none;\">\n",
              "\n",
              "<svg xmlns=\"http://www.w3.org/2000/svg\" height=\"24px\"viewBox=\"0 0 24 24\"\n",
              "     width=\"24px\">\n",
              "    <g>\n",
              "        <path d=\"M19 3H5c-1.1 0-2 .9-2 2v14c0 1.1.9 2 2 2h14c1.1 0 2-.9 2-2V5c0-1.1-.9-2-2-2zM9 17H7v-7h2v7zm4 0h-2V7h2v10zm4 0h-2v-4h2v4z\"/>\n",
              "    </g>\n",
              "</svg>\n",
              "  </button>\n",
              "\n",
              "<style>\n",
              "  .colab-df-quickchart {\n",
              "      --bg-color: #E8F0FE;\n",
              "      --fill-color: #1967D2;\n",
              "      --hover-bg-color: #E2EBFA;\n",
              "      --hover-fill-color: #174EA6;\n",
              "      --disabled-fill-color: #AAA;\n",
              "      --disabled-bg-color: #DDD;\n",
              "  }\n",
              "\n",
              "  [theme=dark] .colab-df-quickchart {\n",
              "      --bg-color: #3B4455;\n",
              "      --fill-color: #D2E3FC;\n",
              "      --hover-bg-color: #434B5C;\n",
              "      --hover-fill-color: #FFFFFF;\n",
              "      --disabled-bg-color: #3B4455;\n",
              "      --disabled-fill-color: #666;\n",
              "  }\n",
              "\n",
              "  .colab-df-quickchart {\n",
              "    background-color: var(--bg-color);\n",
              "    border: none;\n",
              "    border-radius: 50%;\n",
              "    cursor: pointer;\n",
              "    display: none;\n",
              "    fill: var(--fill-color);\n",
              "    height: 32px;\n",
              "    padding: 0;\n",
              "    width: 32px;\n",
              "  }\n",
              "\n",
              "  .colab-df-quickchart:hover {\n",
              "    background-color: var(--hover-bg-color);\n",
              "    box-shadow: 0 1px 2px rgba(60, 64, 67, 0.3), 0 1px 3px 1px rgba(60, 64, 67, 0.15);\n",
              "    fill: var(--button-hover-fill-color);\n",
              "  }\n",
              "\n",
              "  .colab-df-quickchart-complete:disabled,\n",
              "  .colab-df-quickchart-complete:disabled:hover {\n",
              "    background-color: var(--disabled-bg-color);\n",
              "    fill: var(--disabled-fill-color);\n",
              "    box-shadow: none;\n",
              "  }\n",
              "\n",
              "  .colab-df-spinner {\n",
              "    border: 2px solid var(--fill-color);\n",
              "    border-color: transparent;\n",
              "    border-bottom-color: var(--fill-color);\n",
              "    animation:\n",
              "      spin 1s steps(1) infinite;\n",
              "  }\n",
              "\n",
              "  @keyframes spin {\n",
              "    0% {\n",
              "      border-color: transparent;\n",
              "      border-bottom-color: var(--fill-color);\n",
              "      border-left-color: var(--fill-color);\n",
              "    }\n",
              "    20% {\n",
              "      border-color: transparent;\n",
              "      border-left-color: var(--fill-color);\n",
              "      border-top-color: var(--fill-color);\n",
              "    }\n",
              "    30% {\n",
              "      border-color: transparent;\n",
              "      border-left-color: var(--fill-color);\n",
              "      border-top-color: var(--fill-color);\n",
              "      border-right-color: var(--fill-color);\n",
              "    }\n",
              "    40% {\n",
              "      border-color: transparent;\n",
              "      border-right-color: var(--fill-color);\n",
              "      border-top-color: var(--fill-color);\n",
              "    }\n",
              "    60% {\n",
              "      border-color: transparent;\n",
              "      border-right-color: var(--fill-color);\n",
              "    }\n",
              "    80% {\n",
              "      border-color: transparent;\n",
              "      border-right-color: var(--fill-color);\n",
              "      border-bottom-color: var(--fill-color);\n",
              "    }\n",
              "    90% {\n",
              "      border-color: transparent;\n",
              "      border-bottom-color: var(--fill-color);\n",
              "    }\n",
              "  }\n",
              "</style>\n",
              "\n",
              "  <script>\n",
              "    async function quickchart(key) {\n",
              "      const quickchartButtonEl =\n",
              "        document.querySelector('#' + key + ' button');\n",
              "      quickchartButtonEl.disabled = true;  // To prevent multiple clicks.\n",
              "      quickchartButtonEl.classList.add('colab-df-spinner');\n",
              "      try {\n",
              "        const charts = await google.colab.kernel.invokeFunction(\n",
              "            'suggestCharts', [key], {});\n",
              "      } catch (error) {\n",
              "        console.error('Error during call to suggestCharts:', error);\n",
              "      }\n",
              "      quickchartButtonEl.classList.remove('colab-df-spinner');\n",
              "      quickchartButtonEl.classList.add('colab-df-quickchart-complete');\n",
              "    }\n",
              "    (() => {\n",
              "      let quickchartButtonEl =\n",
              "        document.querySelector('#df-1cdbc068-f634-4c41-9c98-176e7045a51c button');\n",
              "      quickchartButtonEl.style.display =\n",
              "        google.colab.kernel.accessAllowed ? 'block' : 'none';\n",
              "    })();\n",
              "  </script>\n",
              "</div>\n",
              "\n",
              "  <div id=\"id_46105470-ebf9-469a-be3e-faf6114e4213\">\n",
              "    <style>\n",
              "      .colab-df-generate {\n",
              "        background-color: #E8F0FE;\n",
              "        border: none;\n",
              "        border-radius: 50%;\n",
              "        cursor: pointer;\n",
              "        display: none;\n",
              "        fill: #1967D2;\n",
              "        height: 32px;\n",
              "        padding: 0 0 0 0;\n",
              "        width: 32px;\n",
              "      }\n",
              "\n",
              "      .colab-df-generate:hover {\n",
              "        background-color: #E2EBFA;\n",
              "        box-shadow: 0px 1px 2px rgba(60, 64, 67, 0.3), 0px 1px 3px 1px rgba(60, 64, 67, 0.15);\n",
              "        fill: #174EA6;\n",
              "      }\n",
              "\n",
              "      [theme=dark] .colab-df-generate {\n",
              "        background-color: #3B4455;\n",
              "        fill: #D2E3FC;\n",
              "      }\n",
              "\n",
              "      [theme=dark] .colab-df-generate:hover {\n",
              "        background-color: #434B5C;\n",
              "        box-shadow: 0px 1px 3px 1px rgba(0, 0, 0, 0.15);\n",
              "        filter: drop-shadow(0px 1px 2px rgba(0, 0, 0, 0.3));\n",
              "        fill: #FFFFFF;\n",
              "      }\n",
              "    </style>\n",
              "    <button class=\"colab-df-generate\" onclick=\"generateWithVariable('target_only_plot')\"\n",
              "            title=\"Generate code using this dataframe.\"\n",
              "            style=\"display:none;\">\n",
              "\n",
              "  <svg xmlns=\"http://www.w3.org/2000/svg\" height=\"24px\"viewBox=\"0 0 24 24\"\n",
              "       width=\"24px\">\n",
              "    <path d=\"M7,19H8.4L18.45,9,17,7.55,7,17.6ZM5,21V16.75L18.45,3.32a2,2,0,0,1,2.83,0l1.4,1.43a1.91,1.91,0,0,1,.58,1.4,1.91,1.91,0,0,1-.58,1.4L9.25,21ZM18.45,9,17,7.55Zm-12,3A5.31,5.31,0,0,0,4.9,8.1,5.31,5.31,0,0,0,1,6.5,5.31,5.31,0,0,0,4.9,4.9,5.31,5.31,0,0,0,6.5,1,5.31,5.31,0,0,0,8.1,4.9,5.31,5.31,0,0,0,12,6.5,5.46,5.46,0,0,0,6.5,12Z\"/>\n",
              "  </svg>\n",
              "    </button>\n",
              "    <script>\n",
              "      (() => {\n",
              "      const buttonEl =\n",
              "        document.querySelector('#id_46105470-ebf9-469a-be3e-faf6114e4213 button.colab-df-generate');\n",
              "      buttonEl.style.display =\n",
              "        google.colab.kernel.accessAllowed ? 'block' : 'none';\n",
              "\n",
              "      buttonEl.onclick = () => {\n",
              "        google.colab.notebook.generateWithVariable('target_only_plot');\n",
              "      }\n",
              "      })();\n",
              "    </script>\n",
              "  </div>\n",
              "\n",
              "    </div>\n",
              "  </div>\n"
            ],
            "application/vnd.google.colaboratory.intrinsic+json": {
              "type": "dataframe",
              "variable_name": "target_only_plot",
              "summary": "{\n  \"name\": \"target_only_plot\",\n  \"rows\": 54000,\n  \"fields\": [\n    {\n      \"column\": \"target\",\n      \"properties\": {\n        \"dtype\": \"int32\",\n        \"num_unique_values\": 10,\n        \"samples\": [\n          1,\n          4,\n          2\n        ],\n        \"semantic_type\": \"\",\n        \"description\": \"\"\n      }\n    }\n  ]\n}"
            }
          },
          "metadata": {},
          "execution_count": 33
        }
      ]
    },
    {
      "cell_type": "code",
      "source": [
        "## Get one unique label with its index in dataset\n",
        "## Get first unique value only. What this number belong to what photo\n",
        "img_indicies = {}   # label: index\n",
        "for i in range(len(np.unique(y_train))):\n",
        "    img_indicies[i] = target_only_plot[target_only_plot['target']==i].index[0]\n",
        "img_indicies"
      ],
      "metadata": {
        "colab": {
          "base_uri": "https://localhost:8080/"
        },
        "id": "2OyEEI3r3u8a",
        "outputId": "88d340da-bc66-47b6-b724-bbe62e1e7bcc"
      },
      "execution_count": null,
      "outputs": [
        {
          "output_type": "execute_result",
          "data": {
            "text/plain": [
              "{0: 6, 1: 14, 2: 7, 3: 5, 4: 1, 5: 2, 6: 0, 7: 28, 8: 8, 9: 13}"
            ]
          },
          "metadata": {},
          "execution_count": 7
        }
      ]
    },
    {
      "cell_type": "code",
      "source": [
        "keys = list(img_indicies.keys())\n",
        "keys"
      ],
      "metadata": {
        "colab": {
          "base_uri": "https://localhost:8080/"
        },
        "id": "CXp5ipV246hO",
        "outputId": "841ed2ca-61dd-4240-ecc9-f72324e9c921"
      },
      "execution_count": null,
      "outputs": [
        {
          "output_type": "execute_result",
          "data": {
            "text/plain": [
              "[0, 1, 2, 3, 4, 5, 6, 7, 8, 9]"
            ]
          },
          "metadata": {},
          "execution_count": 8
        }
      ]
    },
    {
      "cell_type": "code",
      "source": [
        "y_train[6]"
      ],
      "metadata": {
        "colab": {
          "base_uri": "https://localhost:8080/"
        },
        "id": "IiwD96CEyEaG",
        "outputId": "9941514e-aca7-43d8-9e50-2a97f3bd8c0e"
      },
      "execution_count": null,
      "outputs": [
        {
          "output_type": "execute_result",
          "data": {
            "text/plain": [
              "0"
            ]
          },
          "metadata": {},
          "execution_count": 34
        }
      ]
    },
    {
      "cell_type": "code",
      "source": [
        "## Now as an exmaple\n",
        "plt.imshow(X_train[img_indicies[0]], cmap='binary')"
      ],
      "metadata": {
        "colab": {
          "base_uri": "https://localhost:8080/",
          "height": 447
        },
        "id": "BCEqbnjD5MoT",
        "outputId": "2826e908-1f11-4282-9990-605ed1f53c12"
      },
      "execution_count": null,
      "outputs": [
        {
          "output_type": "execute_result",
          "data": {
            "text/plain": [
              "<matplotlib.image.AxesImage at 0x77fdd6fe4640>"
            ]
          },
          "metadata": {},
          "execution_count": 9
        },
        {
          "output_type": "display_data",
          "data": {
            "text/plain": [
              "<Figure size 640x480 with 1 Axes>"
            ],
            "image/png": "[encoded data removed]"
          },
          "metadata": {}
        }
      ]
    },
    {
      "cell_type": "code",
      "source": [
        "## Plotting\n",
        "fig, ax = plt.subplots(2, 5, figsize=(12, 6))\n",
        "\n",
        "label = 0\n",
        "for row in range(2):\n",
        "  for col in range(5):\n",
        "    plt.sca(ax[row, col])\n",
        "    plt.imshow(X_train[img_indicies[label]], cmap='binary')\n",
        "    plt.title(f'y = {keys[label]}', fontsize=12, c='k')\n",
        "    plt.axis('off')\n",
        "    label += 1"
      ],
      "metadata": {
        "colab": {
          "base_uri": "https://localhost:8080/",
          "height": 471
        },
        "id": "0SU312jL0RiG",
        "outputId": "65281172-a8c9-49c9-9950-9b61cd418c8d"
      },
      "execution_count": null,
      "outputs": [
        {
          "output_type": "display_data",
          "data": {
            "text/plain": [
              "<Figure size 1200x600 with 10 Axes>"
            ],
            "image/png": "[encoded data removed]"
          },
          "metadata": {}
        }
      ]
    },
    {
      "cell_type": "code",
      "source": [
        "### you can now know for each target value belong to what class\n",
        "class_names = ['T_Shirt', 'Trouser', 'Pullover', 'Dress', 'Coat',\n",
        "               'Sandal', 'Shirt', 'Sneaker', 'Bag', 'Ankle_Boot']\n",
        "\n",
        "\n",
        "## you can now work like this\n",
        "print('y_train in row 1 =>', y_train[0])\n",
        "print('get its corresponding class =>', class_names[y_train[0]])"
      ],
      "metadata": {
        "colab": {
          "base_uri": "https://localhost:8080/"
        },
        "id": "pB70dF0N0V_e",
        "outputId": "fad4605e-712f-4d33-daca-b9194896e13c"
      },
      "execution_count": null,
      "outputs": [
        {
          "output_type": "stream",
          "name": "stdout",
          "text": [
            "y_train in row 1 => 6\n",
            "get its corresponding class => Shirt\n"
          ]
        }
      ]
    },
    {
      "cell_type": "markdown",
      "source": [
        "### `Building Sequential Model`"
      ],
      "metadata": {
        "id": "XzGdbs386bD5"
      }
    },
    {
      "cell_type": "code",
      "source": [
        "## Model but flatten firstly as we want to use only ANN (Dense) not Conv\n",
        "model = tf.keras.models.Sequential([\n",
        "    tf.keras.layers.Flatten(input_shape=(28, 28)),\n",
        "    tf.keras.layers.Dense(128, activation='relu'),\n",
        "    tf.keras.layers.Dense(64, activation='relu'),\n",
        "    tf.keras.layers.Dense(32, activation='relu'),\n",
        "    tf.keras.layers.Dense(10, activation='softmax')\n",
        "])\n",
        "\n",
        "model.summary()"
      ],
      "metadata": {
        "colab": {
          "base_uri": "https://localhost:8080/"
        },
        "id": "hOJ2GaGC6mum",
        "outputId": "731ad838-95be-4b65-9840-ba0e3fc7d3ee"
      },
      "execution_count": null,
      "outputs": [
        {
          "output_type": "stream",
          "name": "stdout",
          "text": [
            "Model: \"sequential\"\n",
            "_________________________________________________________________\n",
            " Layer (type)                Output Shape              Param #   \n",
            "=================================================================\n",
            " flatten (Flatten)           (None, 784)               0         \n",
            "                                                                 \n",
            " dense (Dense)               (None, 128)               100480    \n",
            "                                                                 \n",
            " dense_1 (Dense)             (None, 64)                8256      \n",
            "                                                                 \n",
            " dense_2 (Dense)             (None, 32)                2080      \n",
            "                                                                 \n",
            " dense_3 (Dense)             (None, 10)                330       \n",
            "                                                                 \n",
            "=================================================================\n",
            "Total params: 111146 (434.16 KB)\n",
            "Trainable params: 111146 (434.16 KB)\n",
            "Non-trainable params: 0 (0.00 Byte)\n",
            "_________________________________________________________________\n"
          ]
        }
      ]
    },
    {
      "cell_type": "code",
      "source": [
        "## show the layers\n",
        "model.layers"
      ],
      "metadata": {
        "colab": {
          "base_uri": "https://localhost:8080/"
        },
        "id": "6ZSj0r9-0sFt",
        "outputId": "1fbe4b40-a7aa-46ef-cc68-85f72ac08d3d"
      },
      "execution_count": null,
      "outputs": [
        {
          "output_type": "execute_result",
          "data": {
            "text/plain": [
              "[<keras.src.layers.reshaping.flatten.Flatten at 0x77fdd6d6fbb0>,\n",
              " <keras.src.layers.core.dense.Dense at 0x77fdd6d98fa0>,\n",
              " <keras.src.layers.core.dense.Dense at 0x77fdd6d99390>,\n",
              " <keras.src.layers.core.dense.Dense at 0x77fdd6d99750>,\n",
              " <keras.src.layers.core.dense.Dense at 0x77fdd6d99b10>]"
            ]
          },
          "metadata": {},
          "execution_count": 13
        }
      ]
    },
    {
      "cell_type": "code",
      "source": [
        "## bias and weights ==> initialization\n",
        "## we will look at many initialization techniques later, by default it is (glorot_uniform) init.\n",
        "weights, biases = model.layers[1].get_weights()\n",
        "weights.shape"
      ],
      "metadata": {
        "colab": {
          "base_uri": "https://localhost:8080/"
        },
        "id": "D_EMvAvb7i1r",
        "outputId": "1fec8993-0f0e-4fed-f773-5ae204aa27c8"
      },
      "execution_count": null,
      "outputs": [
        {
          "output_type": "execute_result",
          "data": {
            "text/plain": [
              "(784, 128)"
            ]
          },
          "metadata": {},
          "execution_count": 14
        }
      ]
    },
    {
      "cell_type": "code",
      "source": [
        "biases.shape"
      ],
      "metadata": {
        "colab": {
          "base_uri": "https://localhost:8080/"
        },
        "id": "GZ89Kyuu4jTB",
        "outputId": "d8ccd114-42f5-4b0c-aa4b-d41eb5ab26c8"
      },
      "execution_count": null,
      "outputs": [
        {
          "output_type": "execute_result",
          "data": {
            "text/plain": [
              "(128,)"
            ]
          },
          "metadata": {},
          "execution_count": 39
        }
      ]
    },
    {
      "cell_type": "code",
      "source": [
        "## Choose any features to show\n",
        "pd.DataFrame(weights).iloc[:, 5].hist(bins=20);"
      ],
      "metadata": {
        "colab": {
          "base_uri": "https://localhost:8080/",
          "height": 430
        },
        "id": "LcQTCCQf9iNL",
        "outputId": "43e4e899-04a1-4bd8-9990-18e102b15d45"
      },
      "execution_count": null,
      "outputs": [
        {
          "output_type": "display_data",
          "data": {
            "text/plain": [
              "<Figure size 640x480 with 1 Axes>"
            ],
            "image/png": "[encoded data removed]"
          },
          "metadata": {}
        }
      ]
    },
    {
      "cell_type": "code",
      "source": [
        "## Plot the model\n",
        "tf.keras.utils.plot_model(model, show_shapes=True)"
      ],
      "metadata": {
        "colab": {
          "base_uri": "https://localhost:8080/",
          "height": 644
        },
        "id": "0Eio5xAR07Ea",
        "outputId": "cc041909-668a-41b2-f8c3-9328c95a1f1e"
      },
      "execution_count": null,
      "outputs": [
        {
          "output_type": "execute_result",
          "data": {
            "image/png": "[encoded data removed]",
            "text/plain": [
              "<IPython.core.display.Image object>"
            ]
          },
          "metadata": {},
          "execution_count": 16
        }
      ]
    },
    {
      "cell_type": "code",
      "source": [
        "tf.keras.optimizers.SGD()"
      ],
      "metadata": {
        "id": "byCLGZNl6Cmg"
      },
      "execution_count": null,
      "outputs": []
    },
    {
      "cell_type": "code",
      "source": [
        "## Early Stopping (Optional) callback to reduce overfitting\n",
        "early_stopp = tf.keras.callbacks.EarlyStopping(monitor='val_loss',\n",
        "                                               patience=7, restore_best_weights=True)\n",
        "\n",
        "## Compiling\n",
        "model.compile(loss='sparse_categorical_crossentropy',\n",
        "              optimizer='sgd', #tf.keras.optimizers.SGD\n",
        "              metrics=['accuracy'])\n",
        "## Training\n",
        "history = model.fit(X_train, y_train,\n",
        "                    validation_data=(X_valid, y_valid), epochs=20, batch_size=32,\n",
        "                    callbacks=[early_stopp])"
      ],
      "metadata": {
        "id": "fBwtWjy61Qck",
        "colab": {
          "base_uri": "https://localhost:8080/"
        },
        "outputId": "117d4037-6e87-4ca9-9112-c8abe751d3f7"
      },
      "execution_count": null,
      "outputs": [
        {
          "output_type": "stream",
          "name": "stdout",
          "text": [
            "Epoch 1/20\n",
            "1688/1688 [==============================] - 15s 7ms/step - loss: 0.8258 - accuracy: 0.7151 - val_loss: 0.5926 - val_accuracy: 0.7870\n",
            "Epoch 2/20\n",
            "1688/1688 [==============================] - 6s 4ms/step - loss: 0.5163 - accuracy: 0.8169 - val_loss: 0.5022 - val_accuracy: 0.8248\n",
            "Epoch 3/20\n",
            "1688/1688 [==============================] - 5s 3ms/step - loss: 0.4602 - accuracy: 0.8364 - val_loss: 0.4476 - val_accuracy: 0.8422\n",
            "Epoch 4/20\n",
            "1688/1688 [==============================] - 6s 3ms/step - loss: 0.4280 - accuracy: 0.8489 - val_loss: 0.4097 - val_accuracy: 0.8607\n",
            "Epoch 5/20\n",
            "1688/1688 [==============================] - 6s 4ms/step - loss: 0.4035 - accuracy: 0.8563 - val_loss: 0.4959 - val_accuracy: 0.8202\n",
            "Epoch 6/20\n",
            "1688/1688 [==============================] - 5s 3ms/step - loss: 0.3856 - accuracy: 0.8642 - val_loss: 0.3746 - val_accuracy: 0.8725\n",
            "Epoch 7/20\n",
            "1688/1688 [==============================] - 8s 4ms/step - loss: 0.3705 - accuracy: 0.8671 - val_loss: 0.3705 - val_accuracy: 0.8742\n",
            "Epoch 8/20\n",
            "1688/1688 [==============================] - 6s 3ms/step - loss: 0.3561 - accuracy: 0.8719 - val_loss: 0.4016 - val_accuracy: 0.8530\n",
            "Epoch 9/20\n",
            "1688/1688 [==============================] - 6s 4ms/step - loss: 0.3451 - accuracy: 0.8763 - val_loss: 0.4487 - val_accuracy: 0.8357\n",
            "Epoch 10/20\n",
            "1688/1688 [==============================] - 5s 3ms/step - loss: 0.3358 - accuracy: 0.8779 - val_loss: 0.3454 - val_accuracy: 0.8803\n",
            "Epoch 11/20\n",
            "1688/1688 [==============================] - 6s 4ms/step - loss: 0.3257 - accuracy: 0.8820 - val_loss: 0.3541 - val_accuracy: 0.8752\n",
            "Epoch 12/20\n",
            "1688/1688 [==============================] - 6s 3ms/step - loss: 0.3182 - accuracy: 0.8850 - val_loss: 0.3545 - val_accuracy: 0.8752\n",
            "Epoch 13/20\n",
            "1688/1688 [==============================] - 6s 3ms/step - loss: 0.3117 - accuracy: 0.8863 - val_loss: 0.3375 - val_accuracy: 0.8830\n",
            "Epoch 14/20\n",
            "1688/1688 [==============================] - 6s 4ms/step - loss: 0.3041 - accuracy: 0.8892 - val_loss: 0.3555 - val_accuracy: 0.8727\n",
            "Epoch 15/20\n",
            "1688/1688 [==============================] - 6s 4ms/step - loss: 0.2978 - accuracy: 0.8900 - val_loss: 0.3377 - val_accuracy: 0.8770\n",
            "Epoch 16/20\n",
            "1688/1688 [==============================] - 7s 4ms/step - loss: 0.2913 - accuracy: 0.8922 - val_loss: 0.3246 - val_accuracy: 0.8865\n",
            "Epoch 17/20\n",
            "1688/1688 [==============================] - 6s 3ms/step - loss: 0.2856 - accuracy: 0.8951 - val_loss: 0.3292 - val_accuracy: 0.8832\n",
            "Epoch 18/20\n",
            "1688/1688 [==============================] - 6s 4ms/step - loss: 0.2794 - accuracy: 0.8975 - val_loss: 0.3447 - val_accuracy: 0.8817\n",
            "Epoch 19/20\n",
            "1688/1688 [==============================] - 6s 3ms/step - loss: 0.2752 - accuracy: 0.8996 - val_loss: 0.3423 - val_accuracy: 0.8772\n",
            "Epoch 20/20\n",
            "1688/1688 [==============================] - 6s 4ms/step - loss: 0.2709 - accuracy: 0.9011 - val_loss: 0.3298 - val_accuracy: 0.8780\n"
          ]
        }
      ]
    },
    {
      "cell_type": "code",
      "source": [
        "history.history"
      ],
      "metadata": {
        "colab": {
          "base_uri": "https://localhost:8080/"
        },
        "id": "WXpCWcXg84bY",
        "outputId": "4923dc1f-bd9d-4f9b-f7bd-8793eae43871"
      },
      "execution_count": null,
      "outputs": [
        {
          "output_type": "execute_result",
          "data": {
            "text/plain": [
              "{'loss': [0.8257995247840881,\n",
              "  0.5162594318389893,\n",
              "  0.46018439531326294,\n",
              "  0.42800554633140564,\n",
              "  0.40348705649375916,\n",
              "  0.38558945059776306,\n",
              "  0.3704654574394226,\n",
              "  0.35605016350746155,\n",
              "  0.34509292244911194,\n",
              "  0.3358123302459717,\n",
              "  0.3257409632205963,\n",
              "  0.318219393491745,\n",
              "  0.311744749546051,\n",
              "  0.3040628731250763,\n",
              "  0.29775476455688477,\n",
              "  0.29130294919013977,\n",
              "  0.28564801812171936,\n",
              "  0.27941203117370605,\n",
              "  0.2751508355140686,\n",
              "  0.27093079686164856],\n",
              " 'accuracy': [0.7150740623474121,\n",
              "  0.816870391368866,\n",
              "  0.836388885974884,\n",
              "  0.8489444255828857,\n",
              "  0.8562963008880615,\n",
              "  0.8642407655715942,\n",
              "  0.8671481609344482,\n",
              "  0.8719074130058289,\n",
              "  0.8763333559036255,\n",
              "  0.8778889179229736,\n",
              "  0.882018506526947,\n",
              "  0.8849814534187317,\n",
              "  0.8863148093223572,\n",
              "  0.8892037272453308,\n",
              "  0.8899999856948853,\n",
              "  0.8922222256660461,\n",
              "  0.8951481580734253,\n",
              "  0.8975370526313782,\n",
              "  0.8995741009712219,\n",
              "  0.9011296033859253],\n",
              " 'val_loss': [0.5925880074501038,\n",
              "  0.5021891593933105,\n",
              "  0.4475746154785156,\n",
              "  0.4097130596637726,\n",
              "  0.4959201514720917,\n",
              "  0.3746017515659332,\n",
              "  0.37050479650497437,\n",
              "  0.4016372561454773,\n",
              "  0.4486541748046875,\n",
              "  0.3453943729400635,\n",
              "  0.35413017868995667,\n",
              "  0.3545125722885132,\n",
              "  0.33745720982551575,\n",
              "  0.35545608401298523,\n",
              "  0.33770132064819336,\n",
              "  0.32461434602737427,\n",
              "  0.3291851580142975,\n",
              "  0.34468576312065125,\n",
              "  0.34233206510543823,\n",
              "  0.32981640100479126],\n",
              " 'val_accuracy': [0.7870000004768372,\n",
              "  0.824833333492279,\n",
              "  0.8421666622161865,\n",
              "  0.8606666922569275,\n",
              "  0.8201666474342346,\n",
              "  0.8725000023841858,\n",
              "  0.8741666674613953,\n",
              "  0.8529999852180481,\n",
              "  0.8356666564941406,\n",
              "  0.8803333044052124,\n",
              "  0.875166654586792,\n",
              "  0.875166654586792,\n",
              "  0.8830000162124634,\n",
              "  0.8726666569709778,\n",
              "  0.8769999742507935,\n",
              "  0.8865000009536743,\n",
              "  0.8831666707992554,\n",
              "  0.8816666603088379,\n",
              "  0.8771666884422302,\n",
              "  0.878000020980835]}"
            ]
          },
          "metadata": {},
          "execution_count": 44
        }
      ]
    },
    {
      "cell_type": "code",
      "source": [
        "## Plotting History Results\n",
        "history_info = history.history\n",
        "pd.DataFrame(history_info).plot(figsize=(8, 5))\n",
        "plt.xlabel('Epochs', fontsize=15)\n",
        "plt.legend(loc='lower left')\n",
        "plt.show()"
      ],
      "metadata": {
        "id": "bb9o1hc41jhp",
        "colab": {
          "base_uri": "https://localhost:8080/",
          "height": 471
        },
        "outputId": "a7329834-7313-4fbe-d014-c57dab22d377"
      },
      "execution_count": null,
      "outputs": [
        {
          "output_type": "display_data",
          "data": {
            "text/plain": [
              "<Figure size 800x500 with 1 Axes>"
            ],
            "image/png": "[encoded data removed]"
          },
          "metadata": {}
        }
      ]
    },
    {
      "cell_type": "markdown",
      "source": [
        "### `Evaluating`"
      ],
      "metadata": {
        "id": "9i_ZDjXQ_G_g"
      }
    },
    {
      "cell_type": "code",
      "source": [
        "## Example of sample of new data point\n",
        "X_new = X_test[:3]\n",
        "y_new = y_test[:3]\n",
        "\n",
        "y_pred_new = np.argmax(model.predict(X_new), axis=-1)\n",
        "print('Predicted Labels: ', y_pred_new)\n",
        "print()\n",
        "\n",
        "## To get thier class_names\n",
        "y_pred_names = [class_names[y_pred_new[i]] for i in range(len(y_pred_new))]\n",
        "print('Predicted Class Names: ', y_pred_names)\n",
        "\n",
        "## visualize what we get in this cell\n",
        "print('==='*25)\n",
        "fig, ax = plt.subplots(1, 3, figsize=(20, 4))\n",
        "\n",
        "plt.sca(ax[0])\n",
        "plt.imshow(X_new[0], cmap='binary')\n",
        "plt.title(f'true = {y_new[0]}, pred = {y_pred_new[0]}, name = {y_pred_names[0]}')\n",
        "plt.axis('off')\n",
        "plt.sca(ax[1])\n",
        "plt.imshow(X_new[1], cmap='binary')\n",
        "plt.title(f'true = {y_new[1]}, pred = {y_pred_new[1]}, name = {y_pred_names[1]}')\n",
        "plt.axis('off')\n",
        "plt.sca(ax[2])\n",
        "plt.imshow(X_new[2], cmap='binary')\n",
        "plt.title(f'true = {y_new[2]}, pred = {y_pred_new[2]}, name = {y_pred_names[2]}')\n",
        "plt.axis('off');"
      ],
      "metadata": {
        "colab": {
          "base_uri": "https://localhost:8080/",
          "height": 413
        },
        "id": "ecirAXDg_lyJ",
        "outputId": "71d4df56-5870-4921-966a-758d6a1ce1b9"
      },
      "execution_count": null,
      "outputs": [
        {
          "output_type": "stream",
          "name": "stdout",
          "text": [
            "1/1 [==============================] - 0s 79ms/step\n",
            "Predicted Labels:  [9 2 1]\n",
            "\n",
            "Predicted Class Names:  ['Ankle_Boot', 'Pullover', 'Trouser']\n",
            "===========================================================================\n"
          ]
        },
        {
          "output_type": "display_data",
          "data": {
            "text/plain": [
              "<Figure size 2000x400 with 3 Axes>"
            ],
            "image/png": "[encoded data removed]"
          },
          "metadata": {}
        }
      ]
    },
    {
      "cell_type": "markdown",
      "source": [
        "-----"
      ],
      "metadata": {
        "id": "uYuxc6Fb_7mv"
      }
    }
  ]
}