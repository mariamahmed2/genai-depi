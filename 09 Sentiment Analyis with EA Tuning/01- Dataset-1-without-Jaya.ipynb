{
 "cells": [
  {
   "cell_type": "markdown",
   "id": "66edcefd",
   "metadata": {},
   "source": [
    "### `Import the main Libraries`"
   ]
  },
  {
   "cell_type": "code",
   "execution_count": 66,
   "id": "086804a6",
   "metadata": {},
   "outputs": [],
   "source": [
    "## Major\n",
    "import numpy as np\n",
    "import pandas as pd\n",
    "pd.set_option(\"display.max_colwidth\", 200)\n",
    "import re\n",
    "import string\n",
    "from tqdm import tqdm # progress bar \n",
    "import joblib\n",
    "\n",
    "## plotting\n",
    "import matplotlib.pyplot as plt\n",
    "import seaborn as sns\n",
    "from wordcloud import WordCloud\n",
    "\n",
    "## nltk -- for text processing\n",
    "import nltk\n",
    "from nltk.stem import WordNetLemmatizer\n",
    "from nltk.tokenize import RegexpTokenizer\n",
    "from nltk import word_tokenize\n",
    "from nltk import PorterStemmer, WordNetLemmatizer\n",
    "from nltk.corpus import stopwords\n",
    "\n",
    "## sklearn -- for processing and models\n",
    "from sklearn.feature_extraction.text import CountVectorizer, TfidfVectorizer\n",
    "from sklearn.svm import SVC\n",
    "from sklearn.linear_model import LogisticRegression\n",
    "from sklearn.neighbors import KNeighborsClassifier\n",
    "from sklearn.ensemble import RandomForestClassifier\n",
    "from sklearn.tree import DecisionTreeClassifier\n",
    "from sklearn.naive_bayes import GaussianNB\n",
    "from xgboost import XGBClassifier\n",
    "from sklearn.cluster import KMeans\n",
    "from sklearn.preprocessing import LabelEncoder, StandardScaler\n",
    "from sklearn.model_selection import train_test_split\n",
    "from sklearn.metrics import accuracy_score\n",
    "\n",
    "## SMOTE for imblanced dataset\n",
    "from imblearn.over_sampling import SMOTE\n",
    "\n",
    "## Optimization Algorithm using Jaya Optimizer\n",
    "from mealpy.swarm_based.JA import BaseJA, OriginalJA, LevyJA\n",
    "\n",
    "## Filter Warnings\n",
    "import warnings\n",
    "warnings.filterwarnings('ignore')"
   ]
  },
  {
   "cell_type": "markdown",
   "id": "fa1636ab",
   "metadata": {},
   "source": [
    "### `Load the Dataset & Look at the big picture`"
   ]
  },
  {
   "cell_type": "code",
   "execution_count": 67,
   "id": "66f46a68",
   "metadata": {
    "scrolled": false
   },
   "outputs": [
    {
     "data": {
      "text/html": [
       "<div>\n",
       "<style scoped>\n",
       "    .dataframe tbody tr th:only-of-type {\n",
       "        vertical-align: middle;\n",
       "    }\n",
       "\n",
       "    .dataframe tbody tr th {\n",
       "        vertical-align: top;\n",
       "    }\n",
       "\n",
       "    .dataframe thead th {\n",
       "        text-align: right;\n",
       "    }\n",
       "</style>\n",
       "<table border=\"1\" class=\"dataframe\">\n",
       "  <thead>\n",
       "    <tr style=\"text-align: right;\">\n",
       "      <th></th>\n",
       "      <th>target</th>\n",
       "      <th>id</th>\n",
       "      <th>date</th>\n",
       "      <th>flags</th>\n",
       "      <th>user</th>\n",
       "      <th>text</th>\n",
       "    </tr>\n",
       "  </thead>\n",
       "  <tbody>\n",
       "    <tr>\n",
       "      <th>0</th>\n",
       "      <td>4</td>\n",
       "      <td>3</td>\n",
       "      <td>Mon May 11 03:17:40 UTC 2009</td>\n",
       "      <td>kindle2</td>\n",
       "      <td>tpryan</td>\n",
       "      <td>@stellargirl I loooooooovvvvvveee my Kindle2. Not that the DX is cool, but the 2 is fantastic in its own right.</td>\n",
       "    </tr>\n",
       "    <tr>\n",
       "      <th>1</th>\n",
       "      <td>4</td>\n",
       "      <td>4</td>\n",
       "      <td>Mon May 11 03:18:03 UTC 2009</td>\n",
       "      <td>kindle2</td>\n",
       "      <td>vcu451</td>\n",
       "      <td>Reading my kindle2...  Love it... Lee childs is good read.</td>\n",
       "    </tr>\n",
       "    <tr>\n",
       "      <th>2</th>\n",
       "      <td>4</td>\n",
       "      <td>5</td>\n",
       "      <td>Mon May 11 03:18:54 UTC 2009</td>\n",
       "      <td>kindle2</td>\n",
       "      <td>chadfu</td>\n",
       "      <td>Ok, first assesment of the #kindle2 ...it fucking rocks!!!</td>\n",
       "    </tr>\n",
       "    <tr>\n",
       "      <th>3</th>\n",
       "      <td>4</td>\n",
       "      <td>6</td>\n",
       "      <td>Mon May 11 03:19:04 UTC 2009</td>\n",
       "      <td>kindle2</td>\n",
       "      <td>SIX15</td>\n",
       "      <td>@kenburbary You'll love your Kindle2. I've had mine for a few months and never looked back. The new big one is huge! No need for remorse! :)</td>\n",
       "    </tr>\n",
       "    <tr>\n",
       "      <th>4</th>\n",
       "      <td>4</td>\n",
       "      <td>7</td>\n",
       "      <td>Mon May 11 03:21:41 UTC 2009</td>\n",
       "      <td>kindle2</td>\n",
       "      <td>yamarama</td>\n",
       "      <td>@mikefish  Fair enough. But i have the Kindle2 and I think it's perfect  :)</td>\n",
       "    </tr>\n",
       "  </tbody>\n",
       "</table>\n",
       "</div>"
      ],
      "text/plain": [
       "   target  id                          date    flags      user  \\\n",
       "0       4   3  Mon May 11 03:17:40 UTC 2009  kindle2    tpryan   \n",
       "1       4   4  Mon May 11 03:18:03 UTC 2009  kindle2    vcu451   \n",
       "2       4   5  Mon May 11 03:18:54 UTC 2009  kindle2    chadfu   \n",
       "3       4   6  Mon May 11 03:19:04 UTC 2009  kindle2     SIX15   \n",
       "4       4   7  Mon May 11 03:21:41 UTC 2009  kindle2  yamarama   \n",
       "\n",
       "                                                                                                                                           text  \n",
       "0                               @stellargirl I loooooooovvvvvveee my Kindle2. Not that the DX is cool, but the 2 is fantastic in its own right.  \n",
       "1                                                                                    Reading my kindle2...  Love it... Lee childs is good read.  \n",
       "2                                                                                    Ok, first assesment of the #kindle2 ...it fucking rocks!!!  \n",
       "3  @kenburbary You'll love your Kindle2. I've had mine for a few months and never looked back. The new big one is huge! No need for remorse! :)  \n",
       "4                                                                   @mikefish  Fair enough. But i have the Kindle2 and I think it's perfect  :)  "
      ]
     },
     "execution_count": 67,
     "metadata": {},
     "output_type": "execute_result"
    }
   ],
   "source": [
    "## Readind using pandas\n",
    "df = pd.read_csv('testdata.manual.2009.06.14.csv', \n",
    "                 encoding='ISO-8859-1', names=['target', 'id', 'date', 'flags', 'user', 'text'])\n",
    "df.head()"
   ]
  },
  {
   "cell_type": "markdown",
   "id": "a3dedd2a",
   "metadata": {},
   "source": [
    "----"
   ]
  },
  {
   "cell_type": "markdown",
   "id": "b3d1f8d6",
   "metadata": {},
   "source": [
    "### `Exploratory Data Analyis`"
   ]
  },
  {
   "cell_type": "code",
   "execution_count": 68,
   "id": "9e598a3c",
   "metadata": {},
   "outputs": [
    {
     "name": "stdout",
     "output_type": "stream",
     "text": [
      "The Shape of the Dataset is:  (498, 6)\n"
     ]
    }
   ],
   "source": [
    "print('The Shape of the Dataset is: ', df.shape)"
   ]
  },
  {
   "cell_type": "code",
   "execution_count": 69,
   "id": "0ee27f71",
   "metadata": {},
   "outputs": [
    {
     "name": "stdout",
     "output_type": "stream",
     "text": [
      "<class 'pandas.core.frame.DataFrame'>\n",
      "RangeIndex: 498 entries, 0 to 497\n",
      "Data columns (total 6 columns):\n",
      " #   Column  Non-Null Count  Dtype \n",
      "---  ------  --------------  ----- \n",
      " 0   target  498 non-null    int64 \n",
      " 1   id      498 non-null    int64 \n",
      " 2   date    498 non-null    object\n",
      " 3   flags   498 non-null    object\n",
      " 4   user    498 non-null    object\n",
      " 5   text    498 non-null    object\n",
      "dtypes: int64(2), object(4)\n",
      "memory usage: 23.5+ KB\n"
     ]
    }
   ],
   "source": [
    "## Check the info\n",
    "df.info()"
   ]
  },
  {
   "cell_type": "code",
   "execution_count": 70,
   "id": "1c4ba8f8",
   "metadata": {},
   "outputs": [
    {
     "data": {
      "text/plain": [
       "target     int64\n",
       "id         int64\n",
       "date      object\n",
       "flags     object\n",
       "user      object\n",
       "text      object\n",
       "dtype: object"
      ]
     },
     "execution_count": 70,
     "metadata": {},
     "output_type": "execute_result"
    }
   ],
   "source": [
    "## DataTypes\n",
    "df.dtypes"
   ]
  },
  {
   "cell_type": "code",
   "execution_count": 71,
   "id": "c5e0df5c",
   "metadata": {},
   "outputs": [
    {
     "data": {
      "text/plain": [
       "target    0\n",
       "id        0\n",
       "date      0\n",
       "flags     0\n",
       "user      0\n",
       "text      0\n",
       "dtype: int64"
      ]
     },
     "execution_count": 71,
     "metadata": {},
     "output_type": "execute_result"
    }
   ],
   "source": [
    "## check null values\n",
    "df.isna().sum(axis=0)  ## ok"
   ]
  },
  {
   "cell_type": "code",
   "execution_count": 72,
   "id": "a7bd0d2b",
   "metadata": {},
   "outputs": [
    {
     "data": {
      "text/plain": [
       "array([4, 0, 2])"
      ]
     },
     "execution_count": 72,
     "metadata": {},
     "output_type": "execute_result"
    }
   ],
   "source": [
    "## Check the Traget values\n",
    "df['target'].unique()      # 0-> -ve, 2 -> normal, 4-> +ve"
   ]
  },
  {
   "cell_type": "code",
   "execution_count": 73,
   "id": "a3110ebf",
   "metadata": {},
   "outputs": [
    {
     "data": {
      "text/plain": [
       "4    182\n",
       "0    177\n",
       "2    139\n",
       "Name: target, dtype: int64"
      ]
     },
     "execution_count": 73,
     "metadata": {},
     "output_type": "execute_result"
    }
   ],
   "source": [
    "## Distr. of target\n",
    "df['target'].value_counts()  ## imblanced dataset -- 4:Positive, 0: Negative, 2: Neutral"
   ]
  },
  {
   "cell_type": "code",
   "execution_count": 74,
   "id": "2fd30c7d",
   "metadata": {},
   "outputs": [
    {
     "data": {
      "image/png": "[encoded data removed]",
      "text/plain": [
       "<Figure size 720x432 with 1 Axes>"
      ]
     },
     "metadata": {
      "needs_background": "light"
     },
     "output_type": "display_data"
    }
   ],
   "source": [
    "## countplot of target\n",
    "plt.figure(figsize=(10, 6))\n",
    "sns.countplot(data=df, x='target')\n",
    "plt.title('Distr. of target in Dataset', fontsize=14, c='k')\n",
    "plt.xlabel('Target', c='k', fontsize=12)\n",
    "plt.ylabel('Count', c='k', fontsize=12)\n",
    "plt.show()"
   ]
  },
  {
   "cell_type": "code",
   "execution_count": 75,
   "id": "8729d346",
   "metadata": {},
   "outputs": [
    {
     "data": {
      "text/html": [
       "<div>\n",
       "<style scoped>\n",
       "    .dataframe tbody tr th:only-of-type {\n",
       "        vertical-align: middle;\n",
       "    }\n",
       "\n",
       "    .dataframe tbody tr th {\n",
       "        vertical-align: top;\n",
       "    }\n",
       "\n",
       "    .dataframe thead th {\n",
       "        text-align: right;\n",
       "    }\n",
       "</style>\n",
       "<table border=\"1\" class=\"dataframe\">\n",
       "  <thead>\n",
       "    <tr style=\"text-align: right;\">\n",
       "      <th></th>\n",
       "      <th>target</th>\n",
       "      <th>text</th>\n",
       "    </tr>\n",
       "  </thead>\n",
       "  <tbody>\n",
       "    <tr>\n",
       "      <th>0</th>\n",
       "      <td>4</td>\n",
       "      <td>@stellargirl I loooooooovvvvvveee my Kindle2. Not that the DX is cool, but the 2 is fantastic in its own right.</td>\n",
       "    </tr>\n",
       "    <tr>\n",
       "      <th>1</th>\n",
       "      <td>4</td>\n",
       "      <td>Reading my kindle2...  Love it... Lee childs is good read.</td>\n",
       "    </tr>\n",
       "    <tr>\n",
       "      <th>2</th>\n",
       "      <td>4</td>\n",
       "      <td>Ok, first assesment of the #kindle2 ...it fucking rocks!!!</td>\n",
       "    </tr>\n",
       "    <tr>\n",
       "      <th>3</th>\n",
       "      <td>4</td>\n",
       "      <td>@kenburbary You'll love your Kindle2. I've had mine for a few months and never looked back. The new big one is huge! No need for remorse! :)</td>\n",
       "    </tr>\n",
       "    <tr>\n",
       "      <th>4</th>\n",
       "      <td>4</td>\n",
       "      <td>@mikefish  Fair enough. But i have the Kindle2 and I think it's perfect  :)</td>\n",
       "    </tr>\n",
       "    <tr>\n",
       "      <th>...</th>\n",
       "      <td>...</td>\n",
       "      <td>...</td>\n",
       "    </tr>\n",
       "    <tr>\n",
       "      <th>493</th>\n",
       "      <td>2</td>\n",
       "      <td>Ask Programming: LaTeX or InDesign?: submitted by calcio1 [link] [1 comment] http://tinyurl.com/myfmf7</td>\n",
       "    </tr>\n",
       "    <tr>\n",
       "      <th>494</th>\n",
       "      <td>0</td>\n",
       "      <td>On that note, I hate Word. I hate Pages. I hate LaTeX. There, I said it. I hate LaTeX. All you TEXN3RDS can come kill me now.</td>\n",
       "    </tr>\n",
       "    <tr>\n",
       "      <th>495</th>\n",
       "      <td>4</td>\n",
       "      <td>Ahhh... back in a *real* text editing environment. I &amp;lt;3 LaTeX.</td>\n",
       "    </tr>\n",
       "    <tr>\n",
       "      <th>496</th>\n",
       "      <td>0</td>\n",
       "      <td>Trouble in Iran, I see. Hmm. Iran. Iran so far away. #flockofseagullsweregeopoliticallycorrect</td>\n",
       "    </tr>\n",
       "    <tr>\n",
       "      <th>497</th>\n",
       "      <td>0</td>\n",
       "      <td>Reading the tweets coming out of Iran... The whole thing is terrifying and incredibly sad...</td>\n",
       "    </tr>\n",
       "  </tbody>\n",
       "</table>\n",
       "<p>498 rows × 2 columns</p>\n",
       "</div>"
      ],
      "text/plain": [
       "     target  \\\n",
       "0         4   \n",
       "1         4   \n",
       "2         4   \n",
       "3         4   \n",
       "4         4   \n",
       "..      ...   \n",
       "493       2   \n",
       "494       0   \n",
       "495       4   \n",
       "496       0   \n",
       "497       0   \n",
       "\n",
       "                                                                                                                                             text  \n",
       "0                                 @stellargirl I loooooooovvvvvveee my Kindle2. Not that the DX is cool, but the 2 is fantastic in its own right.  \n",
       "1                                                                                      Reading my kindle2...  Love it... Lee childs is good read.  \n",
       "2                                                                                      Ok, first assesment of the #kindle2 ...it fucking rocks!!!  \n",
       "3    @kenburbary You'll love your Kindle2. I've had mine for a few months and never looked back. The new big one is huge! No need for remorse! :)  \n",
       "4                                                                     @mikefish  Fair enough. But i have the Kindle2 and I think it's perfect  :)  \n",
       "..                                                                                                                                            ...  \n",
       "493                                        Ask Programming: LaTeX or InDesign?: submitted by calcio1 [link] [1 comment] http://tinyurl.com/myfmf7  \n",
       "494                 On that note, I hate Word. I hate Pages. I hate LaTeX. There, I said it. I hate LaTeX. All you TEXN3RDS can come kill me now.  \n",
       "495                                                                             Ahhh... back in a *real* text editing environment. I &lt;3 LaTeX.  \n",
       "496                                                Trouble in Iran, I see. Hmm. Iran. Iran so far away. #flockofseagullsweregeopoliticallycorrect  \n",
       "497                                                  Reading the tweets coming out of Iran... The whole thing is terrifying and incredibly sad...  \n",
       "\n",
       "[498 rows x 2 columns]"
      ]
     },
     "execution_count": 75,
     "metadata": {},
     "output_type": "execute_result"
    }
   ],
   "source": [
    "## take a deep copy from the DF\n",
    "dataset = df[['target', 'text']]\n",
    "dataset"
   ]
  },
  {
   "cell_type": "markdown",
   "id": "936bd6f5",
   "metadata": {},
   "source": [
    "----"
   ]
  },
  {
   "cell_type": "markdown",
   "id": "71732363",
   "metadata": {},
   "source": [
    "### `Text Cleaning & Visualization`"
   ]
  },
  {
   "cell_type": "code",
   "execution_count": 76,
   "id": "93688d81",
   "metadata": {},
   "outputs": [
    {
     "data": {
      "image/png": "[encoded data removed]",
      "text/plain": [
       "<Figure size 720x432 with 1 Axes>"
      ]
     },
     "metadata": {
      "needs_background": "light"
     },
     "output_type": "display_data"
    }
   ],
   "source": [
    "## Check Length of Tweets\n",
    "length_tweets = dataset['text'].str.len()\n",
    "## Plotting\n",
    "plt.figure(figsize=(10, 6))\n",
    "plt.hist(length_tweets, bins=50)\n",
    "plt.title('Length of Tweets')\n",
    "plt.xlabel('Tweets Length')\n",
    "plt.ylabel('Frequency')\n",
    "plt.show()"
   ]
  },
  {
   "cell_type": "code",
   "execution_count": 77,
   "id": "15833a7b",
   "metadata": {},
   "outputs": [],
   "source": [
    "## Hashtags\n",
    "def hashtag_extract(x):\n",
    "    hashtags = []\n",
    "    ## Loop over the words in the tweet\n",
    "    for i in x:\n",
    "        ht = re.findall(r\"#(\\w+)\", i)\n",
    "        hashtags.append(ht)\n",
    "\n",
    "    return hashtags\n",
    "\n",
    "## Extracting hashtags from non racist tweets # slicing\n",
    "hash_neg = hashtag_extract(dataset['text'][dataset['target'] == 0])  ## Negative\n",
    "hash_pos = hashtag_extract(dataset['text'][dataset['target'] == 4])  ## Positive\n",
    "hash_neu = hashtag_extract(dataset['text'][dataset['target'] == 2])  ## Neutral\n",
    "\n",
    "## Unnesting list\n",
    "hash_neg = sum(hash_neg, [])\n",
    "hash_pos = sum(hash_pos, [])\n",
    "hash_neu = sum(hash_neu, [])"
   ]
  },
  {
   "cell_type": "code",
   "execution_count": 78,
   "id": "a2b54ad2",
   "metadata": {},
   "outputs": [
    {
     "data": {
      "text/plain": [
       "['p2',\n",
       " 'bipart',\n",
       " 'tlot',\n",
       " 'tcot',\n",
       " 'hhrs',\n",
       " 'GOP',\n",
       " 'DNC',\n",
       " 'd',\n",
       " 'at',\n",
       " 'att',\n",
       " 'wolfram',\n",
       " 'google',\n",
       " 'wikipedia',\n",
       " 'tcot',\n",
       " 'ala',\n",
       " 'RantsAndRaves',\n",
       " 'WFTB',\n",
       " 'iranelection',\n",
       " 'flockofseagullsweregeopoliticallycorrect']"
      ]
     },
     "execution_count": 78,
     "metadata": {},
     "output_type": "execute_result"
    }
   ],
   "source": [
    "hash_neg"
   ]
  },
  {
   "cell_type": "code",
   "execution_count": 79,
   "id": "7b4301c3",
   "metadata": {},
   "outputs": [
    {
     "data": {
      "text/plain": [
       "FreqDist({'tcot': 2, 'p2': 1, 'bipart': 1, 'tlot': 1, 'hhrs': 1, 'GOP': 1, 'DNC': 1, 'd': 1, 'at': 1, 'att': 1, ...})"
      ]
     },
     "execution_count": 79,
     "metadata": {},
     "output_type": "execute_result"
    }
   ],
   "source": [
    "## Hashtags in Tweets # same value count\n",
    "a_neg = nltk.FreqDist(hash_neg)\n",
    "a_pos = nltk.FreqDist(hash_pos)\n",
    "a_neu = nltk.FreqDist(hash_neu)\n",
    "\n",
    "a_neg"
   ]
  },
  {
   "cell_type": "code",
   "execution_count": 80,
   "id": "09d389ce",
   "metadata": {},
   "outputs": [
    {
     "data": {
      "image/png": "[encoded data removed]",
      "text/plain": [
       "<Figure size 1152x720 with 3 Axes>"
      ]
     },
     "metadata": {
      "needs_background": "light"
     },
     "output_type": "display_data"
    }
   ],
   "source": [
    "## Hashtags in Tweets\n",
    "a_neg = nltk.FreqDist(hash_neg)\n",
    "a_pos = nltk.FreqDist(hash_pos)\n",
    "a_neu = nltk.FreqDist(hash_neu)\n",
    "\n",
    "## Negative Tweets\n",
    "df_neg = pd.DataFrame({'Hashtag': list(a_neg.keys()),\n",
    "                  'Count': list(a_neg.values())})\n",
    "\n",
    "## Positive Tweets\n",
    "df_pos = pd.DataFrame({'Hashtag': list(a_pos.keys()),\n",
    "                  'Count': list(a_pos.values())})\n",
    "\n",
    "## Neutral Tweets\n",
    "df_neu = pd.DataFrame({'Hashtag': list(a_neu.keys()),\n",
    "                  'Count': list(a_neu.values())})\n",
    "\n",
    "# selecting top 15 most frequent hashtags     \n",
    "df_neg = df_neg.nlargest(columns='Count', n=15) \n",
    "df_pos = df_pos.nlargest(columns='Count', n=15) \n",
    "df_neu = df_pos.nlargest(columns='Count', n=15)\n",
    "\n",
    "## Plotting\n",
    "fig, ax = plt.subplots(3, 1, figsize=(16, 10))\n",
    "fig.tight_layout(pad=5)\n",
    "plt.sca(ax[0])\n",
    "sns.barplot(data=df_neg, x='Hashtag', y='Count')\n",
    "plt.xticks(rotation=30)\n",
    "plt.title('Distr. of Most Frequent Hastags in Negative Tweets', fontsize=14, c='k')\n",
    "plt.xlabel('')\n",
    "##\n",
    "plt.sca(ax[1])\n",
    "sns.barplot(data=df_pos, x='Hashtag', y='Count')\n",
    "plt.xticks(rotation=30)\n",
    "plt.title('Distr. of Most Frequent Hastags in Positive Tweets', fontsize=14, c='k')\n",
    "plt.xlabel('')\n",
    "##\n",
    "plt.sca(ax[2])\n",
    "sns.barplot(data=df_neu, x='Hashtag', y='Count')\n",
    "plt.xticks(rotation=30)\n",
    "plt.title('Distr. of Most Frequent Hastags in Neutral Tweets', fontsize=14, c='k')\n",
    "plt.show()"
   ]
  },
  {
   "cell_type": "markdown",
   "id": "462ed420",
   "metadata": {},
   "source": [
    "---"
   ]
  },
  {
   "cell_type": "code",
   "execution_count": 81,
   "id": "732851e4",
   "metadata": {},
   "outputs": [],
   "source": [
    "## Remove unwanted text patterns from the tweets\n",
    "def remove_pattern(input_txt: str, pattern: str):\n",
    "    ''' This Function takes the input and pattern you want to remove\n",
    "\n",
    "    Args:\n",
    "    *****\n",
    "        (input_text: str) --> The text you want to apply the function to it.\n",
    "        (pattern: str) --> The pattern you want to remove from the text.\n",
    "    '''\n",
    "  \n",
    "    input_txt = re.sub(pattern, '', input_txt)\n",
    "    return input_txt"
   ]
  },
  {
   "cell_type": "markdown",
   "id": "24a46f96",
   "metadata": {},
   "source": [
    "------"
   ]
  },
  {
   "cell_type": "markdown",
   "id": "d263b26f",
   "metadata": {},
   "source": [
    "####  `Remove tags`"
   ]
  },
  {
   "cell_type": "code",
   "execution_count": 82,
   "id": "95e41219",
   "metadata": {},
   "outputs": [
    {
     "data": {
      "text/html": [
       "<div>\n",
       "<style scoped>\n",
       "    .dataframe tbody tr th:only-of-type {\n",
       "        vertical-align: middle;\n",
       "    }\n",
       "\n",
       "    .dataframe tbody tr th {\n",
       "        vertical-align: top;\n",
       "    }\n",
       "\n",
       "    .dataframe thead th {\n",
       "        text-align: right;\n",
       "    }\n",
       "</style>\n",
       "<table border=\"1\" class=\"dataframe\">\n",
       "  <thead>\n",
       "    <tr style=\"text-align: right;\">\n",
       "      <th></th>\n",
       "      <th>target</th>\n",
       "      <th>text</th>\n",
       "    </tr>\n",
       "  </thead>\n",
       "  <tbody>\n",
       "    <tr>\n",
       "      <th>0</th>\n",
       "      <td>4</td>\n",
       "      <td>I loooooooovvvvvveee my Kindle2. Not that the DX is cool, but the 2 is fantastic in its own right.</td>\n",
       "    </tr>\n",
       "    <tr>\n",
       "      <th>1</th>\n",
       "      <td>4</td>\n",
       "      <td>Reading my kindle2...  Love it... Lee childs is good read.</td>\n",
       "    </tr>\n",
       "    <tr>\n",
       "      <th>2</th>\n",
       "      <td>4</td>\n",
       "      <td>Ok, first assesment of the #kindle2 ...it fucking rocks!!!</td>\n",
       "    </tr>\n",
       "    <tr>\n",
       "      <th>3</th>\n",
       "      <td>4</td>\n",
       "      <td>You'll love your Kindle2. I've had mine for a few months and never looked back. The new big one is huge! No need for remorse! :)</td>\n",
       "    </tr>\n",
       "    <tr>\n",
       "      <th>4</th>\n",
       "      <td>4</td>\n",
       "      <td>Fair enough. But i have the Kindle2 and I think it's perfect  :)</td>\n",
       "    </tr>\n",
       "  </tbody>\n",
       "</table>\n",
       "</div>"
      ],
      "text/plain": [
       "   target  \\\n",
       "0       4   \n",
       "1       4   \n",
       "2       4   \n",
       "3       4   \n",
       "4       4   \n",
       "\n",
       "                                                                                                                                text  \n",
       "0                                 I loooooooovvvvvveee my Kindle2. Not that the DX is cool, but the 2 is fantastic in its own right.  \n",
       "1                                                                         Reading my kindle2...  Love it... Lee childs is good read.  \n",
       "2                                                                         Ok, first assesment of the #kindle2 ...it fucking rocks!!!  \n",
       "3   You'll love your Kindle2. I've had mine for a few months and never looked back. The new big one is huge! No need for remorse! :)  \n",
       "4                                                                   Fair enough. But i have the Kindle2 and I think it's perfect  :)  "
      ]
     },
     "execution_count": 82,
     "metadata": {},
     "output_type": "execute_result"
    }
   ],
   "source": [
    "## Removing @user in tweets, and apply the function\n",
    "dataset['text'] = dataset['text'].apply(remove_pattern, pattern=r'@[\\w]*')\n",
    "dataset.head()"
   ]
  },
  {
   "cell_type": "markdown",
   "id": "2f1944c0",
   "metadata": {},
   "source": [
    "----"
   ]
  },
  {
   "cell_type": "markdown",
   "id": "8b13716c",
   "metadata": {},
   "source": [
    "#### `Rmove Hyperlinks`"
   ]
  },
  {
   "cell_type": "code",
   "execution_count": 83,
   "id": "f60f90b0",
   "metadata": {},
   "outputs": [
    {
     "data": {
      "text/plain": [
       "'Ask Programming: LaTeX or InDesign?: submitted by calcio1 [link] [1 comment] http://tinyurl.com/myfmf7'"
      ]
     },
     "execution_count": 83,
     "metadata": {},
     "output_type": "execute_result"
    }
   ],
   "source": [
    "## An exmaple before removing links\n",
    "dataset['text'].iloc[493]"
   ]
  },
  {
   "cell_type": "code",
   "execution_count": 84,
   "id": "1ab0920d",
   "metadata": {},
   "outputs": [
    {
     "data": {
      "text/html": [
       "<div>\n",
       "<style scoped>\n",
       "    .dataframe tbody tr th:only-of-type {\n",
       "        vertical-align: middle;\n",
       "    }\n",
       "\n",
       "    .dataframe tbody tr th {\n",
       "        vertical-align: top;\n",
       "    }\n",
       "\n",
       "    .dataframe thead th {\n",
       "        text-align: right;\n",
       "    }\n",
       "</style>\n",
       "<table border=\"1\" class=\"dataframe\">\n",
       "  <thead>\n",
       "    <tr style=\"text-align: right;\">\n",
       "      <th></th>\n",
       "      <th>target</th>\n",
       "      <th>text</th>\n",
       "    </tr>\n",
       "  </thead>\n",
       "  <tbody>\n",
       "    <tr>\n",
       "      <th>0</th>\n",
       "      <td>4</td>\n",
       "      <td>I loooooooovvvvvveee my Kindle2. Not that the DX is cool, but the 2 is fantastic in its own right.</td>\n",
       "    </tr>\n",
       "    <tr>\n",
       "      <th>1</th>\n",
       "      <td>4</td>\n",
       "      <td>Reading my kindle2...  Love it... Lee childs is good read.</td>\n",
       "    </tr>\n",
       "    <tr>\n",
       "      <th>2</th>\n",
       "      <td>4</td>\n",
       "      <td>Ok, first assesment of the #kindle2 ...it fucking rocks!!!</td>\n",
       "    </tr>\n",
       "    <tr>\n",
       "      <th>3</th>\n",
       "      <td>4</td>\n",
       "      <td>You'll love your Kindle2. I've had mine for a few months and never looked back. The new big one is huge! No need for remorse! :)</td>\n",
       "    </tr>\n",
       "    <tr>\n",
       "      <th>4</th>\n",
       "      <td>4</td>\n",
       "      <td>Fair enough. But i have the Kindle2 and I think it's perfect  :)</td>\n",
       "    </tr>\n",
       "  </tbody>\n",
       "</table>\n",
       "</div>"
      ],
      "text/plain": [
       "   target  \\\n",
       "0       4   \n",
       "1       4   \n",
       "2       4   \n",
       "3       4   \n",
       "4       4   \n",
       "\n",
       "                                                                                                                                text  \n",
       "0                                 I loooooooovvvvvveee my Kindle2. Not that the DX is cool, but the 2 is fantastic in its own right.  \n",
       "1                                                                         Reading my kindle2...  Love it... Lee childs is good read.  \n",
       "2                                                                         Ok, first assesment of the #kindle2 ...it fucking rocks!!!  \n",
       "3   You'll love your Kindle2. I've had mine for a few months and never looked back. The new big one is huge! No need for remorse! :)  \n",
       "4                                                                   Fair enough. But i have the Kindle2 and I think it's perfect  :)  "
      ]
     },
     "execution_count": 84,
     "metadata": {},
     "output_type": "execute_result"
    }
   ],
   "source": [
    "## Define a regular expression pattern to match URLs\n",
    "## Apply the above function\n",
    "dataset['text'] = dataset['text'].apply(remove_pattern, pattern=r'https?://\\S+|www\\.\\S+')\n",
    "dataset.head()"
   ]
  },
  {
   "cell_type": "code",
   "execution_count": 85,
   "id": "c7589622",
   "metadata": {},
   "outputs": [
    {
     "data": {
      "text/plain": [
       "'Ask Programming: LaTeX or InDesign?: submitted by calcio1 [link] [1 comment] '"
      ]
     },
     "execution_count": 85,
     "metadata": {},
     "output_type": "execute_result"
    }
   ],
   "source": [
    "## The same exmaple after removing links\n",
    "dataset['text'].iloc[493]"
   ]
  },
  {
   "cell_type": "markdown",
   "id": "dc0a3fff",
   "metadata": {},
   "source": [
    "----"
   ]
  },
  {
   "cell_type": "markdown",
   "id": "ee4c735b",
   "metadata": {},
   "source": [
    "#### `Remove Repeated Characters`\n",
    "* It is very challenging, There is no unique solution for this problem.\n",
    "* We can remove repeated chars from words but it will affect other correct words like (happy be hapy)\n",
    "* So, We can solve it bydefining a max repeat, Let's make it 2\n",
    "* Note: It may produces some a few errors (But there is no better solution for that)\n",
    "* These errors may be solved in stemmer or lemmatizer later"
   ]
  },
  {
   "cell_type": "code",
   "execution_count": 86,
   "id": "cdd1f997",
   "metadata": {},
   "outputs": [
    {
     "data": {
      "text/plain": [
       "' I loooooooovvvvvveee my Kindle2. Not that the DX is cool, but the 2 is fantastic in its own right.'"
      ]
     },
     "execution_count": 86,
     "metadata": {},
     "output_type": "execute_result"
    }
   ],
   "source": [
    "## An exmaple before removing repeated chars\n",
    "dataset['text'].iloc[0]"
   ]
  },
  {
   "cell_type": "code",
   "execution_count": 87,
   "id": "3ceafb82",
   "metadata": {},
   "outputs": [
    {
     "data": {
      "text/html": [
       "<div>\n",
       "<style scoped>\n",
       "    .dataframe tbody tr th:only-of-type {\n",
       "        vertical-align: middle;\n",
       "    }\n",
       "\n",
       "    .dataframe tbody tr th {\n",
       "        vertical-align: top;\n",
       "    }\n",
       "\n",
       "    .dataframe thead th {\n",
       "        text-align: right;\n",
       "    }\n",
       "</style>\n",
       "<table border=\"1\" class=\"dataframe\">\n",
       "  <thead>\n",
       "    <tr style=\"text-align: right;\">\n",
       "      <th></th>\n",
       "      <th>target</th>\n",
       "      <th>text</th>\n",
       "    </tr>\n",
       "  </thead>\n",
       "  <tbody>\n",
       "    <tr>\n",
       "      <th>0</th>\n",
       "      <td>4</td>\n",
       "      <td>I love my Kindle2. Not that the DX is cool, but the 2 is fantastic in its own right.</td>\n",
       "    </tr>\n",
       "    <tr>\n",
       "      <th>1</th>\n",
       "      <td>4</td>\n",
       "      <td>Reading my kindle2...  Love it... Lee childs is good read.</td>\n",
       "    </tr>\n",
       "    <tr>\n",
       "      <th>2</th>\n",
       "      <td>4</td>\n",
       "      <td>Ok, first assesment of the #kindle2 ...it fucking rocks!!!</td>\n",
       "    </tr>\n",
       "    <tr>\n",
       "      <th>3</th>\n",
       "      <td>4</td>\n",
       "      <td>You'll love your Kindle2. I've had mine for a few months and never looked back. The new big one is huge! No need for remorse! :)</td>\n",
       "    </tr>\n",
       "    <tr>\n",
       "      <th>4</th>\n",
       "      <td>4</td>\n",
       "      <td>Fair enough. But i have the Kindle2 and I think it's perfect  :)</td>\n",
       "    </tr>\n",
       "  </tbody>\n",
       "</table>\n",
       "</div>"
      ],
      "text/plain": [
       "   target  \\\n",
       "0       4   \n",
       "1       4   \n",
       "2       4   \n",
       "3       4   \n",
       "4       4   \n",
       "\n",
       "                                                                                                                                text  \n",
       "0                                               I love my Kindle2. Not that the DX is cool, but the 2 is fantastic in its own right.  \n",
       "1                                                                         Reading my kindle2...  Love it... Lee childs is good read.  \n",
       "2                                                                         Ok, first assesment of the #kindle2 ...it fucking rocks!!!  \n",
       "3   You'll love your Kindle2. I've had mine for a few months and never looked back. The new big one is huge! No need for remorse! :)  \n",
       "4                                                                   Fair enough. But i have the Kindle2 and I think it's perfect  :)  "
      ]
     },
     "execution_count": 87,
     "metadata": {},
     "output_type": "execute_result"
    }
   ],
   "source": [
    "## A Function to remove excessive repeated chars while preserving correct words \n",
    "def remove_excessive_repeated_characters(input_string, max_repeats=2):\n",
    "    ## Define a regular expression pattern to match consecutive repeated characters\n",
    "    pattern = f\"(\\\\w)\\\\1{{{max_repeats},}}\"\n",
    "    ## Replace the matched pattern with a single occurrence of the character\n",
    "    cleaned_string = re.sub(pattern, r\"\\1\", input_string)\n",
    "    \n",
    "    return cleaned_string\n",
    "\n",
    "## Apply the above function\n",
    "dataset['text'] = dataset['text'].apply(remove_excessive_repeated_characters)\n",
    "dataset.head()"
   ]
  },
  {
   "cell_type": "code",
   "execution_count": 88,
   "id": "9f9d2053",
   "metadata": {},
   "outputs": [
    {
     "data": {
      "text/plain": [
       "' I love my Kindle2. Not that the DX is cool, but the 2 is fantastic in its own right.'"
      ]
     },
     "execution_count": 88,
     "metadata": {},
     "output_type": "execute_result"
    }
   ],
   "source": [
    "## The same exmaple after removing repeated chars\n",
    "dataset['text'].iloc[0]"
   ]
  },
  {
   "cell_type": "markdown",
   "id": "7cb73915",
   "metadata": {},
   "source": [
    "----"
   ]
  },
  {
   "cell_type": "markdown",
   "id": "237484ab",
   "metadata": {},
   "source": [
    "#### `Emoticons Mapping`"
   ]
  },
  {
   "cell_type": "code",
   "execution_count": 89,
   "id": "741c9f73",
   "metadata": {},
   "outputs": [
    {
     "data": {
      "text/plain": [
       "'Back when I worked for Nike we had one fav word : JUST DO IT! :)'"
      ]
     },
     "execution_count": 89,
     "metadata": {},
     "output_type": "execute_result"
    }
   ],
   "source": [
    "## Check on sample before mapping emoticons\n",
    "dataset['text'].iloc[73]"
   ]
  },
  {
   "cell_type": "code",
   "execution_count": 90,
   "id": "d5c69dbc",
   "metadata": {},
   "outputs": [
    {
     "data": {
      "text/html": [
       "<div>\n",
       "<style scoped>\n",
       "    .dataframe tbody tr th:only-of-type {\n",
       "        vertical-align: middle;\n",
       "    }\n",
       "\n",
       "    .dataframe tbody tr th {\n",
       "        vertical-align: top;\n",
       "    }\n",
       "\n",
       "    .dataframe thead th {\n",
       "        text-align: right;\n",
       "    }\n",
       "</style>\n",
       "<table border=\"1\" class=\"dataframe\">\n",
       "  <thead>\n",
       "    <tr style=\"text-align: right;\">\n",
       "      <th></th>\n",
       "      <th>target</th>\n",
       "      <th>text</th>\n",
       "    </tr>\n",
       "  </thead>\n",
       "  <tbody>\n",
       "    <tr>\n",
       "      <th>0</th>\n",
       "      <td>4</td>\n",
       "      <td>I love my Kindle2. Not that the DX is cool, but the 2 is fantastic in its own right.</td>\n",
       "    </tr>\n",
       "    <tr>\n",
       "      <th>1</th>\n",
       "      <td>4</td>\n",
       "      <td>Reading my kindle2...  Love it... Lee childs is good read.</td>\n",
       "    </tr>\n",
       "    <tr>\n",
       "      <th>2</th>\n",
       "      <td>4</td>\n",
       "      <td>Ok, first assesment of the #kindle2 ...it fucking rocks!!!</td>\n",
       "    </tr>\n",
       "    <tr>\n",
       "      <th>3</th>\n",
       "      <td>4</td>\n",
       "      <td>You'll love your Kindle2. I've had mine for a few months and never looked back. The new big one is huge! No need for remorse! Happy</td>\n",
       "    </tr>\n",
       "    <tr>\n",
       "      <th>4</th>\n",
       "      <td>4</td>\n",
       "      <td>Fair enough. But i have the Kindle2 and I think it's perfect  Happy</td>\n",
       "    </tr>\n",
       "  </tbody>\n",
       "</table>\n",
       "</div>"
      ],
      "text/plain": [
       "   target  \\\n",
       "0       4   \n",
       "1       4   \n",
       "2       4   \n",
       "3       4   \n",
       "4       4   \n",
       "\n",
       "                                                                                                                                   text  \n",
       "0                                                  I love my Kindle2. Not that the DX is cool, but the 2 is fantastic in its own right.  \n",
       "1                                                                            Reading my kindle2...  Love it... Lee childs is good read.  \n",
       "2                                                                            Ok, first assesment of the #kindle2 ...it fucking rocks!!!  \n",
       "3   You'll love your Kindle2. I've had mine for a few months and never looked back. The new big one is huge! No need for remorse! Happy  \n",
       "4                                                                   Fair enough. But i have the Kindle2 and I think it's perfect  Happy  "
      ]
     },
     "execution_count": 90,
     "metadata": {},
     "output_type": "execute_result"
    }
   ],
   "source": [
    "## Convert Emojis to Text : example 😀 to Happy , 😢 Sad\n",
    "## This Dataset doesn't contains emojis, but it contains emotioncons like that :D, :)\n",
    "## So, We can't demojize, but we will map the moticons to its meaning.\n",
    "\n",
    "emoticon_meanings = {\n",
    "    \":)\": \"Happy\",\n",
    "    \":(\": \"Sad\",\n",
    "    \":D\": \"Very Happy\",\n",
    "    \":|\": \"Neutral\",\n",
    "    \":O\": \"Surprised\",\n",
    "    \"<3\": \"Love\",\n",
    "    \";)\": \"Wink\",\n",
    "    \":P\": \"Playful\",\n",
    "    \":/\": \"Confused\",\n",
    "    \":*\": \"Kiss\",\n",
    "    \":')\": \"Touched\",\n",
    "    \"XD\": \"Laughing\",\n",
    "    \":3\": \"Cute\",\n",
    "    \">:(\": \"Angry\",\n",
    "    \":-O\": \"Shocked\",\n",
    "    \":|]\": \"Robot\",\n",
    "    \":>\": \"Sly\",\n",
    "    \"^_^\": \"Happy\",\n",
    "    \"O_o\": \"Confused\",\n",
    "    \":-|\": \"Straight Face\",\n",
    "    \":X\": \"Silent\",\n",
    "    \"B-)\": \"Cool\",\n",
    "    \"<(‘.'<)\": \"Dance\",\n",
    "    \"(-_-)\": \"Bored\",\n",
    "    \"(>_<)\": \"Upset\",\n",
    "    \"(¬‿¬)\": \"Sarcastic\",\n",
    "    \"(o_o)\": \"Surprised\",\n",
    "    \"(o.O)\": \"Shocked\",\n",
    "    \":0\": \"Shocked\",\n",
    "    \":*(\": \"Crying\",\n",
    "    \":v\": \"Pac-Man\",\n",
    "    \"(^_^)v\": \"Double Victory\",\n",
    "    \":-D\": \"Big Grin\",\n",
    "    \":-*\": \"Blowing a Kiss\",\n",
    "    \":^)\": \"Nosey\",\n",
    "    \":-((\": \"Very Sad\",\n",
    "    \":-(\": \"Frowning\",\n",
    "}\n",
    "\n",
    "\n",
    "## Function to replace emoticons with their meanings\n",
    "def convert_emoticons(text: str):\n",
    "    ''' This Function is to replace the emoticons with thier meaning instead \n",
    "    '''\n",
    "    for emoticon, meaning in emoticon_meanings.items():\n",
    "        text = text.replace(emoticon, meaning)\n",
    "    return text\n",
    "\n",
    "## Apply the function on our dataset\n",
    "dataset['text'] = dataset['text'].apply(convert_emoticons)\n",
    "dataset.head()"
   ]
  },
  {
   "cell_type": "code",
   "execution_count": 91,
   "id": "022f17b9",
   "metadata": {},
   "outputs": [
    {
     "data": {
      "text/plain": [
       "'Back when I worked for Nike we had one fav word : JUST DO IT! Happy'"
      ]
     },
     "execution_count": 91,
     "metadata": {},
     "output_type": "execute_result"
    }
   ],
   "source": [
    "## The same exmaple after mapping emoticons\n",
    "dataset['text'].iloc[73]"
   ]
  },
  {
   "cell_type": "markdown",
   "id": "8c5d7c75",
   "metadata": {},
   "source": [
    "-----"
   ]
  },
  {
   "cell_type": "markdown",
   "id": "22110b8b",
   "metadata": {},
   "source": [
    "#### `Remove Punctuations, Numbers, and Special Characters`"
   ]
  },
  {
   "cell_type": "code",
   "execution_count": 92,
   "id": "fc4fe6d8",
   "metadata": {},
   "outputs": [
    {
     "data": {
      "text/html": [
       "<div>\n",
       "<style scoped>\n",
       "    .dataframe tbody tr th:only-of-type {\n",
       "        vertical-align: middle;\n",
       "    }\n",
       "\n",
       "    .dataframe tbody tr th {\n",
       "        vertical-align: top;\n",
       "    }\n",
       "\n",
       "    .dataframe thead th {\n",
       "        text-align: right;\n",
       "    }\n",
       "</style>\n",
       "<table border=\"1\" class=\"dataframe\">\n",
       "  <thead>\n",
       "    <tr style=\"text-align: right;\">\n",
       "      <th></th>\n",
       "      <th>target</th>\n",
       "      <th>text</th>\n",
       "    </tr>\n",
       "  </thead>\n",
       "  <tbody>\n",
       "    <tr>\n",
       "      <th>0</th>\n",
       "      <td>4</td>\n",
       "      <td>I love my Kindle   Not that the DX is cool  but the   is fantastic in its own right</td>\n",
       "    </tr>\n",
       "    <tr>\n",
       "      <th>1</th>\n",
       "      <td>4</td>\n",
       "      <td>Reading my kindle      Love it    Lee childs is good read</td>\n",
       "    </tr>\n",
       "    <tr>\n",
       "      <th>2</th>\n",
       "      <td>4</td>\n",
       "      <td>Ok  first assesment of the #kindle     it fucking rocks</td>\n",
       "    </tr>\n",
       "    <tr>\n",
       "      <th>3</th>\n",
       "      <td>4</td>\n",
       "      <td>You ll love your Kindle   I ve had mine for a few months and never looked back  The new big one is huge  No need for remorse  Happy</td>\n",
       "    </tr>\n",
       "    <tr>\n",
       "      <th>4</th>\n",
       "      <td>4</td>\n",
       "      <td>Fair enough  But i have the Kindle  and I think it s perfect  Happy</td>\n",
       "    </tr>\n",
       "  </tbody>\n",
       "</table>\n",
       "</div>"
      ],
      "text/plain": [
       "   target  \\\n",
       "0       4   \n",
       "1       4   \n",
       "2       4   \n",
       "3       4   \n",
       "4       4   \n",
       "\n",
       "                                                                                                                                   text  \n",
       "0                                                  I love my Kindle   Not that the DX is cool  but the   is fantastic in its own right   \n",
       "1                                                                            Reading my kindle      Love it    Lee childs is good read   \n",
       "2                                                                            Ok  first assesment of the #kindle     it fucking rocks     \n",
       "3   You ll love your Kindle   I ve had mine for a few months and never looked back  The new big one is huge  No need for remorse  Happy  \n",
       "4                                                                   Fair enough  But i have the Kindle  and I think it s perfect  Happy  "
      ]
     },
     "execution_count": 92,
     "metadata": {},
     "output_type": "execute_result"
    }
   ],
   "source": [
    "## Removing Punctuations, Numbers, and Special Characters\n",
    "dataset['text'] = dataset['text'].str.replace('[^a-zA-Z#]', ' ')\n",
    "dataset.head()"
   ]
  },
  {
   "cell_type": "markdown",
   "id": "10107bae",
   "metadata": {},
   "source": [
    "-----"
   ]
  },
  {
   "cell_type": "markdown",
   "id": "406f4597",
   "metadata": {},
   "source": [
    "#### `Removing Short Words`"
   ]
  },
  {
   "cell_type": "code",
   "execution_count": 93,
   "id": "e302dffb",
   "metadata": {},
   "outputs": [
    {
     "data": {
      "text/html": [
       "<div>\n",
       "<style scoped>\n",
       "    .dataframe tbody tr th:only-of-type {\n",
       "        vertical-align: middle;\n",
       "    }\n",
       "\n",
       "    .dataframe tbody tr th {\n",
       "        vertical-align: top;\n",
       "    }\n",
       "\n",
       "    .dataframe thead th {\n",
       "        text-align: right;\n",
       "    }\n",
       "</style>\n",
       "<table border=\"1\" class=\"dataframe\">\n",
       "  <thead>\n",
       "    <tr style=\"text-align: right;\">\n",
       "      <th></th>\n",
       "      <th>target</th>\n",
       "      <th>text</th>\n",
       "    </tr>\n",
       "  </thead>\n",
       "  <tbody>\n",
       "    <tr>\n",
       "      <th>0</th>\n",
       "      <td>4</td>\n",
       "      <td>love Kindle that cool fantastic right</td>\n",
       "    </tr>\n",
       "    <tr>\n",
       "      <th>1</th>\n",
       "      <td>4</td>\n",
       "      <td>Reading kindle Love childs good read</td>\n",
       "    </tr>\n",
       "    <tr>\n",
       "      <th>2</th>\n",
       "      <td>4</td>\n",
       "      <td>first assesment #kindle fucking rocks</td>\n",
       "    </tr>\n",
       "    <tr>\n",
       "      <th>3</th>\n",
       "      <td>4</td>\n",
       "      <td>love your Kindle mine months never looked back huge need remorse Happy</td>\n",
       "    </tr>\n",
       "    <tr>\n",
       "      <th>4</th>\n",
       "      <td>4</td>\n",
       "      <td>Fair enough have Kindle think perfect Happy</td>\n",
       "    </tr>\n",
       "  </tbody>\n",
       "</table>\n",
       "</div>"
      ],
      "text/plain": [
       "   target  \\\n",
       "0       4   \n",
       "1       4   \n",
       "2       4   \n",
       "3       4   \n",
       "4       4   \n",
       "\n",
       "                                                                     text  \n",
       "0                                   love Kindle that cool fantastic right  \n",
       "1                                    Reading kindle Love childs good read  \n",
       "2                                   first assesment #kindle fucking rocks  \n",
       "3  love your Kindle mine months never looked back huge need remorse Happy  \n",
       "4                             Fair enough have Kindle think perfect Happy  "
      ]
     },
     "execution_count": 93,
     "metadata": {},
     "output_type": "execute_result"
    }
   ],
   "source": [
    "## Removing Short Words\n",
    "dataset['text'] = dataset['text'].apply(lambda x: ' '.join([w for w in x.split() if len(w)>3]))\n",
    "dataset.head()"
   ]
  },
  {
   "cell_type": "markdown",
   "id": "c54eb607",
   "metadata": {},
   "source": [
    "-------"
   ]
  },
  {
   "cell_type": "markdown",
   "id": "e1b95e09",
   "metadata": {},
   "source": [
    "#### `Rmove Numbers from words`"
   ]
  },
  {
   "cell_type": "code",
   "execution_count": 94,
   "id": "33af59b9",
   "metadata": {
    "scrolled": true
   },
   "outputs": [
    {
     "data": {
      "text/html": [
       "<div>\n",
       "<style scoped>\n",
       "    .dataframe tbody tr th:only-of-type {\n",
       "        vertical-align: middle;\n",
       "    }\n",
       "\n",
       "    .dataframe tbody tr th {\n",
       "        vertical-align: top;\n",
       "    }\n",
       "\n",
       "    .dataframe thead th {\n",
       "        text-align: right;\n",
       "    }\n",
       "</style>\n",
       "<table border=\"1\" class=\"dataframe\">\n",
       "  <thead>\n",
       "    <tr style=\"text-align: right;\">\n",
       "      <th></th>\n",
       "      <th>target</th>\n",
       "      <th>text</th>\n",
       "    </tr>\n",
       "  </thead>\n",
       "  <tbody>\n",
       "    <tr>\n",
       "      <th>0</th>\n",
       "      <td>4</td>\n",
       "      <td>love Kindle that cool fantastic right</td>\n",
       "    </tr>\n",
       "    <tr>\n",
       "      <th>1</th>\n",
       "      <td>4</td>\n",
       "      <td>Reading kindle Love childs good read</td>\n",
       "    </tr>\n",
       "    <tr>\n",
       "      <th>2</th>\n",
       "      <td>4</td>\n",
       "      <td>first assesment #kindle fucking rocks</td>\n",
       "    </tr>\n",
       "    <tr>\n",
       "      <th>3</th>\n",
       "      <td>4</td>\n",
       "      <td>love your Kindle mine months never looked back huge need remorse Happy</td>\n",
       "    </tr>\n",
       "    <tr>\n",
       "      <th>4</th>\n",
       "      <td>4</td>\n",
       "      <td>Fair enough have Kindle think perfect Happy</td>\n",
       "    </tr>\n",
       "  </tbody>\n",
       "</table>\n",
       "</div>"
      ],
      "text/plain": [
       "   target  \\\n",
       "0       4   \n",
       "1       4   \n",
       "2       4   \n",
       "3       4   \n",
       "4       4   \n",
       "\n",
       "                                                                     text  \n",
       "0                                   love Kindle that cool fantastic right  \n",
       "1                                    Reading kindle Love childs good read  \n",
       "2                                   first assesment #kindle fucking rocks  \n",
       "3  love your Kindle mine months never looked back huge need remorse Happy  \n",
       "4                             Fair enough have Kindle think perfect Happy  "
      ]
     },
     "execution_count": 94,
     "metadata": {},
     "output_type": "execute_result"
    }
   ],
   "source": [
    "## Call the above function (remove_pattern), We want to remove the numbers from words \n",
    "## We don't remove all numbers on the dataset, The pattern only removes the numbers within the words\n",
    "dataset['text'] = np.vectorize(remove_pattern)(input_txt=dataset['text'], pattern='(?<=\\w)\\d+|\\d+(?=\\w)')\n",
    "dataset.head()"
   ]
  },
  {
   "cell_type": "markdown",
   "id": "84c6f5be",
   "metadata": {},
   "source": [
    "---------"
   ]
  },
  {
   "cell_type": "markdown",
   "id": "5a5d0f20",
   "metadata": {},
   "source": [
    "#### `Remove Special Characters`"
   ]
  },
  {
   "cell_type": "code",
   "execution_count": 95,
   "id": "b15b6068",
   "metadata": {},
   "outputs": [
    {
     "data": {
      "text/plain": [
       "'first assesment #kindle fucking rocks'"
      ]
     },
     "execution_count": 95,
     "metadata": {},
     "output_type": "execute_result"
    }
   ],
   "source": [
    "## An exmaple before removing special chars\n",
    "dataset['text'].iloc[2]"
   ]
  },
  {
   "cell_type": "code",
   "execution_count": 96,
   "id": "7820df10",
   "metadata": {},
   "outputs": [
    {
     "data": {
      "text/html": [
       "<div>\n",
       "<style scoped>\n",
       "    .dataframe tbody tr th:only-of-type {\n",
       "        vertical-align: middle;\n",
       "    }\n",
       "\n",
       "    .dataframe tbody tr th {\n",
       "        vertical-align: top;\n",
       "    }\n",
       "\n",
       "    .dataframe thead th {\n",
       "        text-align: right;\n",
       "    }\n",
       "</style>\n",
       "<table border=\"1\" class=\"dataframe\">\n",
       "  <thead>\n",
       "    <tr style=\"text-align: right;\">\n",
       "      <th></th>\n",
       "      <th>target</th>\n",
       "      <th>text</th>\n",
       "    </tr>\n",
       "  </thead>\n",
       "  <tbody>\n",
       "    <tr>\n",
       "      <th>0</th>\n",
       "      <td>4</td>\n",
       "      <td>love Kindle that cool fantastic right</td>\n",
       "    </tr>\n",
       "    <tr>\n",
       "      <th>1</th>\n",
       "      <td>4</td>\n",
       "      <td>Reading kindle Love childs good read</td>\n",
       "    </tr>\n",
       "    <tr>\n",
       "      <th>2</th>\n",
       "      <td>4</td>\n",
       "      <td>first assesment kindle fucking rocks</td>\n",
       "    </tr>\n",
       "    <tr>\n",
       "      <th>3</th>\n",
       "      <td>4</td>\n",
       "      <td>love your Kindle mine months never looked back huge need remorse Happy</td>\n",
       "    </tr>\n",
       "    <tr>\n",
       "      <th>4</th>\n",
       "      <td>4</td>\n",
       "      <td>Fair enough have Kindle think perfect Happy</td>\n",
       "    </tr>\n",
       "  </tbody>\n",
       "</table>\n",
       "</div>"
      ],
      "text/plain": [
       "   target  \\\n",
       "0       4   \n",
       "1       4   \n",
       "2       4   \n",
       "3       4   \n",
       "4       4   \n",
       "\n",
       "                                                                     text  \n",
       "0                                   love Kindle that cool fantastic right  \n",
       "1                                    Reading kindle Love childs good read  \n",
       "2                                    first assesment kindle fucking rocks  \n",
       "3  love your Kindle mine months never looked back huge need remorse Happy  \n",
       "4                             Fair enough have Kindle think perfect Happy  "
      ]
     },
     "execution_count": 96,
     "metadata": {},
     "output_type": "execute_result"
    }
   ],
   "source": [
    "## Define a regular expression pattern to match special characters\n",
    "## Apply the function to the dataset\n",
    "dataset['text'] = dataset['text'].apply(remove_pattern, pattern=r'[!@#$%^&*()_+{}\\[\\]:;<>,.?~\\\\|\\/]')\n",
    "dataset.head()"
   ]
  },
  {
   "cell_type": "code",
   "execution_count": 97,
   "id": "35722b61",
   "metadata": {},
   "outputs": [
    {
     "data": {
      "text/plain": [
       "'first assesment kindle fucking rocks'"
      ]
     },
     "execution_count": 97,
     "metadata": {},
     "output_type": "execute_result"
    }
   ],
   "source": [
    "## The same exmaple after removing special chars\n",
    "dataset['text'].iloc[2]"
   ]
  },
  {
   "cell_type": "markdown",
   "id": "8b272abc",
   "metadata": {},
   "source": [
    "-------"
   ]
  },
  {
   "cell_type": "markdown",
   "id": "b375588c",
   "metadata": {},
   "source": [
    "#### `Remove redundant words and extra spaces`\n",
    "\n",
    "``` python\n",
    "    ## Download it if it is required\n",
    "    nltk.download('stopwords')\n",
    "```"
   ]
  },
  {
   "cell_type": "code",
   "execution_count": 98,
   "id": "7d71bdd9",
   "metadata": {},
   "outputs": [
    {
     "data": {
      "text/plain": [
       "'love your Kindle mine months never looked back huge need remorse Happy'"
      ]
     },
     "execution_count": 98,
     "metadata": {},
     "output_type": "execute_result"
    }
   ],
   "source": [
    "## An exmaple before solving that\n",
    "dataset['text'].iloc[3]"
   ]
  },
  {
   "cell_type": "code",
   "execution_count": 99,
   "id": "860ba4d4",
   "metadata": {},
   "outputs": [
    {
     "name": "stderr",
     "output_type": "stream",
     "text": [
      "[nltk_data] Downloading package stopwords to /home/mariam/nltk_data...\n",
      "[nltk_data]   Package stopwords is already up-to-date!\n"
     ]
    },
    {
     "data": {
      "text/plain": [
       "True"
      ]
     },
     "execution_count": 99,
     "metadata": {},
     "output_type": "execute_result"
    }
   ],
   "source": [
    "import nltk\n",
    "nltk.download('stopwords')\n"
   ]
  },
  {
   "cell_type": "code",
   "execution_count": 100,
   "id": "3e97670d",
   "metadata": {},
   "outputs": [],
   "source": [
    "## A Function to remove redundant words like (I've, You'll)\n",
    "## Again, It is challenging\n",
    "\n",
    "def remove_redundant_words_extra_spaces(text: str):\n",
    "    ## Remove contractions using regular expressions\n",
    "    contraction_pattern = re.compile(r\"'\\w+|\\w+'\\w+|\\w+'\")\n",
    "    text = contraction_pattern.sub('', text)\n",
    "\n",
    "    ## Define a set of stopwords\n",
    "    stop_words = set(stopwords.words(\"english\"))\n",
    "\n",
    "    ## Remove stopwords and extra spaces\n",
    "    words = text.split()\n",
    "    filtered_words = [word for word in words if word.lower() not in stop_words]\n",
    "    clean_text = ' '.join(filtered_words)\n",
    "\n",
    "    ## Remove extra spaces\n",
    "    clean_text = ' '.join(clean_text.split())\n",
    "    \n",
    "    return clean_text\n",
    "\n",
    "\n",
    "## Apply the above function\n",
    "dataset['text'] = dataset['text'].apply(remove_redundant_words_extra_spaces)"
   ]
  },
  {
   "cell_type": "code",
   "execution_count": 101,
   "id": "12a179fd",
   "metadata": {},
   "outputs": [
    {
     "data": {
      "text/plain": [
       "'love Kindle mine months never looked back huge need remorse Happy'"
      ]
     },
     "execution_count": 101,
     "metadata": {},
     "output_type": "execute_result"
    }
   ],
   "source": [
    "## The same exmaple after solving that \n",
    "dataset['text'].iloc[3]"
   ]
  },
  {
   "cell_type": "code",
   "execution_count": 102,
   "id": "adec9bc8",
   "metadata": {},
   "outputs": [],
   "source": [
    "## Download the dataset here at this step before Stemming or Lemmatizing\n",
    "dataset.to_excel('dataset_1_cleaned.xlsx', index=False)"
   ]
  },
  {
   "cell_type": "markdown",
   "id": "73d2151f",
   "metadata": {},
   "source": [
    "------"
   ]
  },
  {
   "cell_type": "markdown",
   "id": "dceb9c0e",
   "metadata": {},
   "source": [
    "#### `Tokenizing, Stemming & Lemmatization`\n",
    "`It is optional, But We can use it to limit the variations in the dataset`"
   ]
  },
  {
   "cell_type": "code",
   "execution_count": 103,
   "id": "fe609569",
   "metadata": {},
   "outputs": [
    {
     "data": {
      "text/plain": [
       "0                                           [love, Kindle, cool, fantastic, right]\n",
       "1                                      [Reading, kindle, Love, childs, good, read]\n",
       "2                                       [first, assesment, kindle, fucking, rocks]\n",
       "3    [love, Kindle, mine, months, never, looked, back, huge, need, remorse, Happy]\n",
       "4                                    [Fair, enough, Kindle, think, perfect, Happy]\n",
       "Name: text, dtype: object"
      ]
     },
     "execution_count": 103,
     "metadata": {},
     "output_type": "execute_result"
    }
   ],
   "source": [
    "## Tokenization\n",
    "tokenized_tweet = dataset['text'].apply(lambda x: x.split()) \n",
    "tokenized_tweet.head()"
   ]
  },
  {
   "cell_type": "code",
   "execution_count": 104,
   "id": "d852e3b5",
   "metadata": {},
   "outputs": [],
   "source": [
    "# ## Stemming\n",
    "# stemmer = PorterStemmer()\n",
    "\n",
    "# tokenized_tweet = tokenized_tweet.apply(lambda x: [stemmer.stem(i) for i in x]) # stemming\n",
    "# tokenized_tweet.head()"
   ]
  },
  {
   "cell_type": "code",
   "execution_count": 105,
   "id": "44286a6e",
   "metadata": {},
   "outputs": [
    {
     "name": "stderr",
     "output_type": "stream",
     "text": [
      "[nltk_data] Downloading package wordnet to /home/mariam/nltk_data...\n",
      "[nltk_data]   Package wordnet is already up-to-date!\n"
     ]
    },
    {
     "data": {
      "text/plain": [
       "True"
      ]
     },
     "execution_count": 105,
     "metadata": {},
     "output_type": "execute_result"
    }
   ],
   "source": [
    "import nltk\n",
    "nltk.download('wordnet')\n"
   ]
  },
  {
   "cell_type": "code",
   "execution_count": 106,
   "id": "8cc9c361",
   "metadata": {},
   "outputs": [
    {
     "data": {
      "text/plain": [
       "0                                          [love, Kindle, cool, fantastic, right]\n",
       "1                                      [Reading, kindle, Love, child, good, read]\n",
       "2                                       [first, assesment, kindle, fucking, rock]\n",
       "3    [love, Kindle, mine, month, never, looked, back, huge, need, remorse, Happy]\n",
       "4                                   [Fair, enough, Kindle, think, perfect, Happy]\n",
       "Name: text, dtype: object"
      ]
     },
     "execution_count": 106,
     "metadata": {},
     "output_type": "execute_result"
    }
   ],
   "source": [
    "## Lemmatization or stemming \n",
    "lemmatizer = WordNetLemmatizer()\n",
    "tokenized_tweet = tokenized_tweet.apply(lambda x: [lemmatizer.lemmatize(i) for i in x]) # lemmatizer\n",
    "tokenized_tweet.head()"
   ]
  },
  {
   "cell_type": "code",
   "execution_count": 107,
   "id": "792c39f9",
   "metadata": {},
   "outputs": [
    {
     "data": {
      "text/html": [
       "<div>\n",
       "<style scoped>\n",
       "    .dataframe tbody tr th:only-of-type {\n",
       "        vertical-align: middle;\n",
       "    }\n",
       "\n",
       "    .dataframe tbody tr th {\n",
       "        vertical-align: top;\n",
       "    }\n",
       "\n",
       "    .dataframe thead th {\n",
       "        text-align: right;\n",
       "    }\n",
       "</style>\n",
       "<table border=\"1\" class=\"dataframe\">\n",
       "  <thead>\n",
       "    <tr style=\"text-align: right;\">\n",
       "      <th></th>\n",
       "      <th>target</th>\n",
       "      <th>text</th>\n",
       "    </tr>\n",
       "  </thead>\n",
       "  <tbody>\n",
       "    <tr>\n",
       "      <th>0</th>\n",
       "      <td>4</td>\n",
       "      <td>love Kindle cool fantastic right</td>\n",
       "    </tr>\n",
       "    <tr>\n",
       "      <th>1</th>\n",
       "      <td>4</td>\n",
       "      <td>Reading kindle Love child good read</td>\n",
       "    </tr>\n",
       "    <tr>\n",
       "      <th>2</th>\n",
       "      <td>4</td>\n",
       "      <td>first assesment kindle fucking rock</td>\n",
       "    </tr>\n",
       "    <tr>\n",
       "      <th>3</th>\n",
       "      <td>4</td>\n",
       "      <td>love Kindle mine month never looked back huge need remorse Happy</td>\n",
       "    </tr>\n",
       "    <tr>\n",
       "      <th>4</th>\n",
       "      <td>4</td>\n",
       "      <td>Fair enough Kindle think perfect Happy</td>\n",
       "    </tr>\n",
       "  </tbody>\n",
       "</table>\n",
       "</div>"
      ],
      "text/plain": [
       "   target                                                              text\n",
       "0       4                                  love Kindle cool fantastic right\n",
       "1       4                               Reading kindle Love child good read\n",
       "2       4                               first assesment kindle fucking rock\n",
       "3       4  love Kindle mine month never looked back huge need remorse Happy\n",
       "4       4                            Fair enough Kindle think perfect Happy"
      ]
     },
     "execution_count": 107,
     "metadata": {},
     "output_type": "execute_result"
    }
   ],
   "source": [
    "## Join words again and append it to (dataset DF) ##############\n",
    "for i in range(len(tokenized_tweet)):\n",
    "    tokenized_tweet[i] = ' '.join(tokenized_tweet[i])\n",
    "    \n",
    "dataset['text'] = tokenized_tweet\n",
    "dataset.head()"
   ]
  },
  {
   "cell_type": "code",
   "execution_count": 108,
   "id": "5ee312fc",
   "metadata": {},
   "outputs": [],
   "source": [
    "## Download the dataset after tokenizing, stemming, lemmatizing\n",
    "dataset.to_excel('dataset_1_after_tokenized.xlsx', index=False)"
   ]
  },
  {
   "cell_type": "markdown",
   "id": "ca8fe144",
   "metadata": {},
   "source": [
    "----"
   ]
  },
  {
   "cell_type": "markdown",
   "id": "ac3dc265",
   "metadata": {},
   "source": [
    "### `Some Vizualization`"
   ]
  },
  {
   "cell_type": "code",
   "execution_count": 109,
   "id": "83b0f4d4",
   "metadata": {},
   "outputs": [
    {
     "ename": "RuntimeError",
     "evalue": "textsize is deprecated and should be removed.",
     "output_type": "error",
     "traceback": [
      "\u001b[0;31m---------------------------------------------------------------------------\u001b[0m",
      "\u001b[0;31mRuntimeError\u001b[0m                              Traceback (most recent call last)",
      "\u001b[0;32m/tmp/ipykernel_14977/1812026075.py\u001b[0m in \u001b[0;36m<module>\u001b[0;34m\u001b[0m\n\u001b[1;32m      1\u001b[0m \u001b[0;31m## For Positive Words\u001b[0m\u001b[0;34m\u001b[0m\u001b[0;34m\u001b[0m\u001b[0;34m\u001b[0m\u001b[0m\n\u001b[1;32m      2\u001b[0m \u001b[0mplt\u001b[0m\u001b[0;34m.\u001b[0m\u001b[0mfigure\u001b[0m\u001b[0;34m(\u001b[0m\u001b[0mfigsize\u001b[0m\u001b[0;34m=\u001b[0m\u001b[0;34m(\u001b[0m\u001b[0;36m20\u001b[0m\u001b[0;34m,\u001b[0m \u001b[0;36m8\u001b[0m\u001b[0;34m)\u001b[0m\u001b[0;34m)\u001b[0m\u001b[0;34m\u001b[0m\u001b[0;34m\u001b[0m\u001b[0m\n\u001b[0;32m----> 3\u001b[0;31m wc = WordCloud(max_words=10000, width=1600, height=500, \n\u001b[0m\u001b[1;32m      4\u001b[0m                collocations=False).generate(\" \".join(dataset[dataset['target']==4]['text'].astype(str)))\n\u001b[1;32m      5\u001b[0m \u001b[0mplt\u001b[0m\u001b[0;34m.\u001b[0m\u001b[0mtitle\u001b[0m\u001b[0;34m(\u001b[0m\u001b[0;34m'Positve Words Visualization'\u001b[0m\u001b[0;34m,\u001b[0m \u001b[0mfontsize\u001b[0m\u001b[0;34m=\u001b[0m\u001b[0;36m14\u001b[0m\u001b[0;34m,\u001b[0m \u001b[0mc\u001b[0m\u001b[0;34m=\u001b[0m\u001b[0;34m'k'\u001b[0m\u001b[0;34m)\u001b[0m\u001b[0;34m\u001b[0m\u001b[0;34m\u001b[0m\u001b[0m\n",
      "\u001b[0;32m~/.local/lib/python3.8/site-packages/wordcloud/wordcloud.py\u001b[0m in \u001b[0;36mgenerate\u001b[0;34m(self, text)\u001b[0m\n\u001b[1;32m    637\u001b[0m \u001b[0;34m\u001b[0m\u001b[0m\n\u001b[1;32m    638\u001b[0m         \u001b[0mReturns\u001b[0m\u001b[0;34m\u001b[0m\u001b[0;34m\u001b[0m\u001b[0m\n\u001b[0;32m--> 639\u001b[0;31m         \u001b[0;34m-\u001b[0m\u001b[0;34m-\u001b[0m\u001b[0;34m-\u001b[0m\u001b[0;34m-\u001b[0m\u001b[0;34m-\u001b[0m\u001b[0;34m-\u001b[0m\u001b[0;34m-\u001b[0m\u001b[0;34m\u001b[0m\u001b[0;34m\u001b[0m\u001b[0m\n\u001b[0m\u001b[1;32m    640\u001b[0m         \u001b[0mself\u001b[0m\u001b[0;34m\u001b[0m\u001b[0;34m\u001b[0m\u001b[0m\n\u001b[1;32m    641\u001b[0m         \"\"\"\n",
      "\u001b[0;32m~/.local/lib/python3.8/site-packages/wordcloud/wordcloud.py\u001b[0m in \u001b[0;36mgenerate_from_text\u001b[0;34m(self, text)\u001b[0m\n\u001b[1;32m    619\u001b[0m         \u001b[0mReturns\u001b[0m\u001b[0;34m\u001b[0m\u001b[0;34m\u001b[0m\u001b[0m\n\u001b[1;32m    620\u001b[0m         \u001b[0;34m-\u001b[0m\u001b[0;34m-\u001b[0m\u001b[0;34m-\u001b[0m\u001b[0;34m-\u001b[0m\u001b[0;34m-\u001b[0m\u001b[0;34m-\u001b[0m\u001b[0;34m-\u001b[0m\u001b[0;34m\u001b[0m\u001b[0;34m\u001b[0m\u001b[0m\n\u001b[0;32m--> 621\u001b[0;31m         \u001b[0mself\u001b[0m\u001b[0;34m\u001b[0m\u001b[0;34m\u001b[0m\u001b[0m\n\u001b[0m\u001b[1;32m    622\u001b[0m         \"\"\"\n\u001b[1;32m    623\u001b[0m         \u001b[0mwords\u001b[0m \u001b[0;34m=\u001b[0m \u001b[0mself\u001b[0m\u001b[0;34m.\u001b[0m\u001b[0mprocess_text\u001b[0m\u001b[0;34m(\u001b[0m\u001b[0mtext\u001b[0m\u001b[0;34m)\u001b[0m\u001b[0;34m\u001b[0m\u001b[0;34m\u001b[0m\u001b[0m\n",
      "\u001b[0;32m~/.local/lib/python3.8/site-packages/wordcloud/wordcloud.py\u001b[0m in \u001b[0;36mgenerate_from_frequencies\u001b[0;34m(self, frequencies, max_font_size)\u001b[0m\n\u001b[1;32m    451\u001b[0m                 \u001b[0mfont_size\u001b[0m \u001b[0;34m=\u001b[0m \u001b[0mself\u001b[0m\u001b[0;34m.\u001b[0m\u001b[0mheight\u001b[0m\u001b[0;34m\u001b[0m\u001b[0;34m\u001b[0m\u001b[0m\n\u001b[1;32m    452\u001b[0m             \u001b[0;32melse\u001b[0m\u001b[0;34m:\u001b[0m\u001b[0;34m\u001b[0m\u001b[0;34m\u001b[0m\u001b[0m\n\u001b[0;32m--> 453\u001b[0;31m                 self.generate_from_frequencies(dict(frequencies[:2]),\n\u001b[0m\u001b[1;32m    454\u001b[0m                                                max_font_size=self.height)\n\u001b[1;32m    455\u001b[0m                 \u001b[0;31m# find font sizes\u001b[0m\u001b[0;34m\u001b[0m\u001b[0;34m\u001b[0m\u001b[0;34m\u001b[0m\u001b[0m\n",
      "\u001b[0;32m~/.local/lib/python3.8/site-packages/wordcloud/wordcloud.py\u001b[0m in \u001b[0;36mgenerate_from_frequencies\u001b[0;34m(self, frequencies, max_font_size)\u001b[0m\n\u001b[1;32m    506\u001b[0m                 \u001b[0mfont\u001b[0m \u001b[0;34m=\u001b[0m \u001b[0mImageFont\u001b[0m\u001b[0;34m.\u001b[0m\u001b[0mtruetype\u001b[0m\u001b[0;34m(\u001b[0m\u001b[0mself\u001b[0m\u001b[0;34m.\u001b[0m\u001b[0mfont_path\u001b[0m\u001b[0;34m,\u001b[0m \u001b[0mfont_size\u001b[0m\u001b[0;34m)\u001b[0m\u001b[0;34m\u001b[0m\u001b[0;34m\u001b[0m\u001b[0m\n\u001b[1;32m    507\u001b[0m                 \u001b[0;31m# transpose font optionally\u001b[0m\u001b[0;34m\u001b[0m\u001b[0;34m\u001b[0m\u001b[0;34m\u001b[0m\u001b[0m\n\u001b[0;32m--> 508\u001b[0;31m                 transposed_font = ImageFont.TransposedFont(\n\u001b[0m\u001b[1;32m    509\u001b[0m                     font, orientation=orientation)\n\u001b[1;32m    510\u001b[0m                 \u001b[0;31m# get size of resulting text\u001b[0m\u001b[0;34m\u001b[0m\u001b[0;34m\u001b[0m\u001b[0;34m\u001b[0m\u001b[0m\n",
      "\u001b[0;32m~/.local/lib/python3.8/site-packages/PIL/ImageDraw.py\u001b[0m in \u001b[0;36mtextsize\u001b[0;34m(self, text, font, spacing, direction, features, language, stroke_width)\u001b[0m\n\u001b[1;32m    657\u001b[0m             \u001b[0;32mfor\u001b[0m \u001b[0mline\u001b[0m \u001b[0;32min\u001b[0m \u001b[0mlines\u001b[0m\u001b[0;34m:\u001b[0m\u001b[0;34m\u001b[0m\u001b[0;34m\u001b[0m\u001b[0m\n\u001b[1;32m    658\u001b[0m                 line_width, line_height = self.textsize(\n\u001b[0;32m--> 659\u001b[0;31m                     \u001b[0mline\u001b[0m\u001b[0;34m,\u001b[0m\u001b[0;34m\u001b[0m\u001b[0;34m\u001b[0m\u001b[0m\n\u001b[0m\u001b[1;32m    660\u001b[0m                     \u001b[0mfont\u001b[0m\u001b[0;34m,\u001b[0m\u001b[0;34m\u001b[0m\u001b[0;34m\u001b[0m\u001b[0m\n\u001b[1;32m    661\u001b[0m                     \u001b[0mspacing\u001b[0m\u001b[0;34m,\u001b[0m\u001b[0;34m\u001b[0m\u001b[0;34m\u001b[0m\u001b[0m\n",
      "\u001b[0;32m~/.local/lib/python3.8/site-packages/PIL/_deprecate.py\u001b[0m in \u001b[0;36mdeprecate\u001b[0;34m(deprecated, when, replacement, action, plural)\u001b[0m\n\u001b[1;32m     45\u001b[0m     \u001b[0;32melif\u001b[0m \u001b[0mwhen\u001b[0m \u001b[0;34m<=\u001b[0m \u001b[0mint\u001b[0m\u001b[0;34m(\u001b[0m\u001b[0m__version__\u001b[0m\u001b[0;34m.\u001b[0m\u001b[0msplit\u001b[0m\u001b[0;34m(\u001b[0m\u001b[0;34m\".\"\u001b[0m\u001b[0;34m)\u001b[0m\u001b[0;34m[\u001b[0m\u001b[0;36m0\u001b[0m\u001b[0;34m]\u001b[0m\u001b[0;34m)\u001b[0m\u001b[0;34m:\u001b[0m\u001b[0;34m\u001b[0m\u001b[0;34m\u001b[0m\u001b[0m\n\u001b[1;32m     46\u001b[0m         \u001b[0mmsg\u001b[0m \u001b[0;34m=\u001b[0m \u001b[0;34mf\"{deprecated} {is_} deprecated and should be removed.\"\u001b[0m\u001b[0;34m\u001b[0m\u001b[0;34m\u001b[0m\u001b[0m\n\u001b[0;32m---> 47\u001b[0;31m         \u001b[0;32mraise\u001b[0m \u001b[0mRuntimeError\u001b[0m\u001b[0;34m(\u001b[0m\u001b[0mmsg\u001b[0m\u001b[0;34m)\u001b[0m\u001b[0;34m\u001b[0m\u001b[0;34m\u001b[0m\u001b[0m\n\u001b[0m\u001b[1;32m     48\u001b[0m     \u001b[0;32melif\u001b[0m \u001b[0mwhen\u001b[0m \u001b[0;34m==\u001b[0m \u001b[0;36m10\u001b[0m\u001b[0;34m:\u001b[0m\u001b[0;34m\u001b[0m\u001b[0;34m\u001b[0m\u001b[0m\n\u001b[1;32m     49\u001b[0m         \u001b[0mremoved\u001b[0m \u001b[0;34m=\u001b[0m \u001b[0;34m\"Pillow 10 (2023-07-01)\"\u001b[0m\u001b[0;34m\u001b[0m\u001b[0;34m\u001b[0m\u001b[0m\n",
      "\u001b[0;31mRuntimeError\u001b[0m: textsize is deprecated and should be removed."
     ]
    },
    {
     "data": {
      "text/plain": [
       "<Figure size 1440x576 with 0 Axes>"
      ]
     },
     "metadata": {},
     "output_type": "display_data"
    }
   ],
   "source": [
    "## For Positive Words\n",
    "plt.figure(figsize=(20, 8))\n",
    "wc = WordCloud(max_words=10000, width=1600, height=500, \n",
    "               collocations=False).generate(\" \".join(dataset[dataset['target']==4]['text'].astype(str)))\n",
    "plt.title('Positve Words Visualization', fontsize=14, c='k')\n",
    "plt.imshow(wc)\n",
    "plt.show()"
   ]
  },
  {
   "cell_type": "code",
   "execution_count": null,
   "id": "3f9a685e",
   "metadata": {},
   "outputs": [
    {
     "ename": "RuntimeError",
     "evalue": "textsize is deprecated and should be removed.",
     "output_type": "error",
     "traceback": [
      "\u001b[0;31m---------------------------------------------------------------------------\u001b[0m",
      "\u001b[0;31mRuntimeError\u001b[0m                              Traceback (most recent call last)",
      "\u001b[0;32m/tmp/ipykernel_14977/4257346876.py\u001b[0m in \u001b[0;36m<module>\u001b[0;34m\u001b[0m\n\u001b[1;32m      1\u001b[0m \u001b[0;31m## For Negative Words\u001b[0m\u001b[0;34m\u001b[0m\u001b[0;34m\u001b[0m\u001b[0;34m\u001b[0m\u001b[0m\n\u001b[1;32m      2\u001b[0m \u001b[0mplt\u001b[0m\u001b[0;34m.\u001b[0m\u001b[0mfigure\u001b[0m\u001b[0;34m(\u001b[0m\u001b[0mfigsize\u001b[0m\u001b[0;34m=\u001b[0m\u001b[0;34m(\u001b[0m\u001b[0;36m20\u001b[0m\u001b[0;34m,\u001b[0m \u001b[0;36m8\u001b[0m\u001b[0;34m)\u001b[0m\u001b[0;34m)\u001b[0m\u001b[0;34m\u001b[0m\u001b[0;34m\u001b[0m\u001b[0m\n\u001b[0;32m----> 3\u001b[0;31m wc = WordCloud(max_words=10000, width=1600, height=500, \n\u001b[0m\u001b[1;32m      4\u001b[0m                collocations=False).generate(\" \".join(dataset[dataset['target']==0]['text'].astype(str)))\n\u001b[1;32m      5\u001b[0m \u001b[0mplt\u001b[0m\u001b[0;34m.\u001b[0m\u001b[0mtitle\u001b[0m\u001b[0;34m(\u001b[0m\u001b[0;34m'Negative Words Visualization'\u001b[0m\u001b[0;34m,\u001b[0m \u001b[0mfontsize\u001b[0m\u001b[0;34m=\u001b[0m\u001b[0;36m14\u001b[0m\u001b[0;34m,\u001b[0m \u001b[0mc\u001b[0m\u001b[0;34m=\u001b[0m\u001b[0;34m'k'\u001b[0m\u001b[0;34m)\u001b[0m\u001b[0;34m\u001b[0m\u001b[0;34m\u001b[0m\u001b[0m\n",
      "\u001b[0;32m~/.local/lib/python3.8/site-packages/wordcloud/wordcloud.py\u001b[0m in \u001b[0;36mgenerate\u001b[0;34m(self, text)\u001b[0m\n\u001b[1;32m    637\u001b[0m \u001b[0;34m\u001b[0m\u001b[0m\n\u001b[1;32m    638\u001b[0m         \u001b[0mReturns\u001b[0m\u001b[0;34m\u001b[0m\u001b[0;34m\u001b[0m\u001b[0m\n\u001b[0;32m--> 639\u001b[0;31m         \u001b[0;34m-\u001b[0m\u001b[0;34m-\u001b[0m\u001b[0;34m-\u001b[0m\u001b[0;34m-\u001b[0m\u001b[0;34m-\u001b[0m\u001b[0;34m-\u001b[0m\u001b[0;34m-\u001b[0m\u001b[0;34m\u001b[0m\u001b[0;34m\u001b[0m\u001b[0m\n\u001b[0m\u001b[1;32m    640\u001b[0m         \u001b[0mself\u001b[0m\u001b[0;34m\u001b[0m\u001b[0;34m\u001b[0m\u001b[0m\n\u001b[1;32m    641\u001b[0m         \"\"\"\n",
      "\u001b[0;32m~/.local/lib/python3.8/site-packages/wordcloud/wordcloud.py\u001b[0m in \u001b[0;36mgenerate_from_text\u001b[0;34m(self, text)\u001b[0m\n\u001b[1;32m    619\u001b[0m         \u001b[0mReturns\u001b[0m\u001b[0;34m\u001b[0m\u001b[0;34m\u001b[0m\u001b[0m\n\u001b[1;32m    620\u001b[0m         \u001b[0;34m-\u001b[0m\u001b[0;34m-\u001b[0m\u001b[0;34m-\u001b[0m\u001b[0;34m-\u001b[0m\u001b[0;34m-\u001b[0m\u001b[0;34m-\u001b[0m\u001b[0;34m-\u001b[0m\u001b[0;34m\u001b[0m\u001b[0;34m\u001b[0m\u001b[0m\n\u001b[0;32m--> 621\u001b[0;31m         \u001b[0mself\u001b[0m\u001b[0;34m\u001b[0m\u001b[0;34m\u001b[0m\u001b[0m\n\u001b[0m\u001b[1;32m    622\u001b[0m         \"\"\"\n\u001b[1;32m    623\u001b[0m         \u001b[0mwords\u001b[0m \u001b[0;34m=\u001b[0m \u001b[0mself\u001b[0m\u001b[0;34m.\u001b[0m\u001b[0mprocess_text\u001b[0m\u001b[0;34m(\u001b[0m\u001b[0mtext\u001b[0m\u001b[0;34m)\u001b[0m\u001b[0;34m\u001b[0m\u001b[0;34m\u001b[0m\u001b[0m\n",
      "\u001b[0;32m~/.local/lib/python3.8/site-packages/wordcloud/wordcloud.py\u001b[0m in \u001b[0;36mgenerate_from_frequencies\u001b[0;34m(self, frequencies, max_font_size)\u001b[0m\n\u001b[1;32m    451\u001b[0m                 \u001b[0mfont_size\u001b[0m \u001b[0;34m=\u001b[0m \u001b[0mself\u001b[0m\u001b[0;34m.\u001b[0m\u001b[0mheight\u001b[0m\u001b[0;34m\u001b[0m\u001b[0;34m\u001b[0m\u001b[0m\n\u001b[1;32m    452\u001b[0m             \u001b[0;32melse\u001b[0m\u001b[0;34m:\u001b[0m\u001b[0;34m\u001b[0m\u001b[0;34m\u001b[0m\u001b[0m\n\u001b[0;32m--> 453\u001b[0;31m                 self.generate_from_frequencies(dict(frequencies[:2]),\n\u001b[0m\u001b[1;32m    454\u001b[0m                                                max_font_size=self.height)\n\u001b[1;32m    455\u001b[0m                 \u001b[0;31m# find font sizes\u001b[0m\u001b[0;34m\u001b[0m\u001b[0;34m\u001b[0m\u001b[0;34m\u001b[0m\u001b[0m\n",
      "\u001b[0;32m~/.local/lib/python3.8/site-packages/wordcloud/wordcloud.py\u001b[0m in \u001b[0;36mgenerate_from_frequencies\u001b[0;34m(self, frequencies, max_font_size)\u001b[0m\n\u001b[1;32m    506\u001b[0m                 \u001b[0mfont\u001b[0m \u001b[0;34m=\u001b[0m \u001b[0mImageFont\u001b[0m\u001b[0;34m.\u001b[0m\u001b[0mtruetype\u001b[0m\u001b[0;34m(\u001b[0m\u001b[0mself\u001b[0m\u001b[0;34m.\u001b[0m\u001b[0mfont_path\u001b[0m\u001b[0;34m,\u001b[0m \u001b[0mfont_size\u001b[0m\u001b[0;34m)\u001b[0m\u001b[0;34m\u001b[0m\u001b[0;34m\u001b[0m\u001b[0m\n\u001b[1;32m    507\u001b[0m                 \u001b[0;31m# transpose font optionally\u001b[0m\u001b[0;34m\u001b[0m\u001b[0;34m\u001b[0m\u001b[0;34m\u001b[0m\u001b[0m\n\u001b[0;32m--> 508\u001b[0;31m                 transposed_font = ImageFont.TransposedFont(\n\u001b[0m\u001b[1;32m    509\u001b[0m                     font, orientation=orientation)\n\u001b[1;32m    510\u001b[0m                 \u001b[0;31m# get size of resulting text\u001b[0m\u001b[0;34m\u001b[0m\u001b[0;34m\u001b[0m\u001b[0;34m\u001b[0m\u001b[0m\n",
      "\u001b[0;32m~/.local/lib/python3.8/site-packages/PIL/ImageDraw.py\u001b[0m in \u001b[0;36mtextsize\u001b[0;34m(self, text, font, spacing, direction, features, language, stroke_width)\u001b[0m\n\u001b[1;32m    657\u001b[0m             \u001b[0;32mfor\u001b[0m \u001b[0mline\u001b[0m \u001b[0;32min\u001b[0m \u001b[0mlines\u001b[0m\u001b[0;34m:\u001b[0m\u001b[0;34m\u001b[0m\u001b[0;34m\u001b[0m\u001b[0m\n\u001b[1;32m    658\u001b[0m                 line_width, line_height = self.textsize(\n\u001b[0;32m--> 659\u001b[0;31m                     \u001b[0mline\u001b[0m\u001b[0;34m,\u001b[0m\u001b[0;34m\u001b[0m\u001b[0;34m\u001b[0m\u001b[0m\n\u001b[0m\u001b[1;32m    660\u001b[0m                     \u001b[0mfont\u001b[0m\u001b[0;34m,\u001b[0m\u001b[0;34m\u001b[0m\u001b[0;34m\u001b[0m\u001b[0m\n\u001b[1;32m    661\u001b[0m                     \u001b[0mspacing\u001b[0m\u001b[0;34m,\u001b[0m\u001b[0;34m\u001b[0m\u001b[0;34m\u001b[0m\u001b[0m\n",
      "\u001b[0;32m~/.local/lib/python3.8/site-packages/PIL/_deprecate.py\u001b[0m in \u001b[0;36mdeprecate\u001b[0;34m(deprecated, when, replacement, action, plural)\u001b[0m\n\u001b[1;32m     45\u001b[0m     \u001b[0;32melif\u001b[0m \u001b[0mwhen\u001b[0m \u001b[0;34m<=\u001b[0m \u001b[0mint\u001b[0m\u001b[0;34m(\u001b[0m\u001b[0m__version__\u001b[0m\u001b[0;34m.\u001b[0m\u001b[0msplit\u001b[0m\u001b[0;34m(\u001b[0m\u001b[0;34m\".\"\u001b[0m\u001b[0;34m)\u001b[0m\u001b[0;34m[\u001b[0m\u001b[0;36m0\u001b[0m\u001b[0;34m]\u001b[0m\u001b[0;34m)\u001b[0m\u001b[0;34m:\u001b[0m\u001b[0;34m\u001b[0m\u001b[0;34m\u001b[0m\u001b[0m\n\u001b[1;32m     46\u001b[0m         \u001b[0mmsg\u001b[0m \u001b[0;34m=\u001b[0m \u001b[0;34mf\"{deprecated} {is_} deprecated and should be removed.\"\u001b[0m\u001b[0;34m\u001b[0m\u001b[0;34m\u001b[0m\u001b[0m\n\u001b[0;32m---> 47\u001b[0;31m         \u001b[0;32mraise\u001b[0m \u001b[0mRuntimeError\u001b[0m\u001b[0;34m(\u001b[0m\u001b[0mmsg\u001b[0m\u001b[0;34m)\u001b[0m\u001b[0;34m\u001b[0m\u001b[0;34m\u001b[0m\u001b[0m\n\u001b[0m\u001b[1;32m     48\u001b[0m     \u001b[0;32melif\u001b[0m \u001b[0mwhen\u001b[0m \u001b[0;34m==\u001b[0m \u001b[0;36m10\u001b[0m\u001b[0;34m:\u001b[0m\u001b[0;34m\u001b[0m\u001b[0;34m\u001b[0m\u001b[0m\n\u001b[1;32m     49\u001b[0m         \u001b[0mremoved\u001b[0m \u001b[0;34m=\u001b[0m \u001b[0;34m\"Pillow 10 (2023-07-01)\"\u001b[0m\u001b[0;34m\u001b[0m\u001b[0;34m\u001b[0m\u001b[0m\n",
      "\u001b[0;31mRuntimeError\u001b[0m: textsize is deprecated and should be removed."
     ]
    },
    {
     "data": {
      "text/plain": [
       "<Figure size 1440x576 with 0 Axes>"
      ]
     },
     "metadata": {},
     "output_type": "display_data"
    }
   ],
   "source": [
    "## For Negative Words\n",
    "plt.figure(figsize=(20, 8))\n",
    "wc = WordCloud(max_words=10000, width=1600, height=500, \n",
    "               collocations=False).generate(\" \".join(dataset[dataset['target']==0]['text'].astype(str)))\n",
    "plt.title('Negative Words Visualization', fontsize=14, c='k')\n",
    "plt.imshow(wc)\n",
    "plt.show()"
   ]
  },
  {
   "cell_type": "code",
   "execution_count": null,
   "id": "720d01e5",
   "metadata": {},
   "outputs": [
    {
     "ename": "RuntimeError",
     "evalue": "textsize is deprecated and should be removed.",
     "output_type": "error",
     "traceback": [
      "\u001b[0;31m---------------------------------------------------------------------------\u001b[0m",
      "\u001b[0;31mRuntimeError\u001b[0m                              Traceback (most recent call last)",
      "\u001b[0;32m/tmp/ipykernel_14977/2079279390.py\u001b[0m in \u001b[0;36m<module>\u001b[0;34m\u001b[0m\n\u001b[1;32m      1\u001b[0m \u001b[0;31m## For Neutral Words\u001b[0m\u001b[0;34m\u001b[0m\u001b[0;34m\u001b[0m\u001b[0;34m\u001b[0m\u001b[0m\n\u001b[1;32m      2\u001b[0m \u001b[0mplt\u001b[0m\u001b[0;34m.\u001b[0m\u001b[0mfigure\u001b[0m\u001b[0;34m(\u001b[0m\u001b[0mfigsize\u001b[0m\u001b[0;34m=\u001b[0m\u001b[0;34m(\u001b[0m\u001b[0;36m20\u001b[0m\u001b[0;34m,\u001b[0m \u001b[0;36m8\u001b[0m\u001b[0;34m)\u001b[0m\u001b[0;34m)\u001b[0m\u001b[0;34m\u001b[0m\u001b[0;34m\u001b[0m\u001b[0m\n\u001b[0;32m----> 3\u001b[0;31m wc = WordCloud(max_words=10000, width=1600, height=500, \n\u001b[0m\u001b[1;32m      4\u001b[0m                collocations=False).generate(\" \".join(dataset[dataset['target']==2]['text'].astype(str)))\n\u001b[1;32m      5\u001b[0m \u001b[0mplt\u001b[0m\u001b[0;34m.\u001b[0m\u001b[0mtitle\u001b[0m\u001b[0;34m(\u001b[0m\u001b[0;34m'Neutral Words Visualization'\u001b[0m\u001b[0;34m,\u001b[0m \u001b[0mfontsize\u001b[0m\u001b[0;34m=\u001b[0m\u001b[0;36m14\u001b[0m\u001b[0;34m,\u001b[0m \u001b[0mc\u001b[0m\u001b[0;34m=\u001b[0m\u001b[0;34m'k'\u001b[0m\u001b[0;34m)\u001b[0m\u001b[0;34m\u001b[0m\u001b[0;34m\u001b[0m\u001b[0m\n",
      "\u001b[0;32m~/.local/lib/python3.8/site-packages/wordcloud/wordcloud.py\u001b[0m in \u001b[0;36mgenerate\u001b[0;34m(self, text)\u001b[0m\n\u001b[1;32m    637\u001b[0m \u001b[0;34m\u001b[0m\u001b[0m\n\u001b[1;32m    638\u001b[0m         \u001b[0mReturns\u001b[0m\u001b[0;34m\u001b[0m\u001b[0;34m\u001b[0m\u001b[0m\n\u001b[0;32m--> 639\u001b[0;31m         \u001b[0;34m-\u001b[0m\u001b[0;34m-\u001b[0m\u001b[0;34m-\u001b[0m\u001b[0;34m-\u001b[0m\u001b[0;34m-\u001b[0m\u001b[0;34m-\u001b[0m\u001b[0;34m-\u001b[0m\u001b[0;34m\u001b[0m\u001b[0;34m\u001b[0m\u001b[0m\n\u001b[0m\u001b[1;32m    640\u001b[0m         \u001b[0mself\u001b[0m\u001b[0;34m\u001b[0m\u001b[0;34m\u001b[0m\u001b[0m\n\u001b[1;32m    641\u001b[0m         \"\"\"\n",
      "\u001b[0;32m~/.local/lib/python3.8/site-packages/wordcloud/wordcloud.py\u001b[0m in \u001b[0;36mgenerate_from_text\u001b[0;34m(self, text)\u001b[0m\n\u001b[1;32m    619\u001b[0m         \u001b[0mReturns\u001b[0m\u001b[0;34m\u001b[0m\u001b[0;34m\u001b[0m\u001b[0m\n\u001b[1;32m    620\u001b[0m         \u001b[0;34m-\u001b[0m\u001b[0;34m-\u001b[0m\u001b[0;34m-\u001b[0m\u001b[0;34m-\u001b[0m\u001b[0;34m-\u001b[0m\u001b[0;34m-\u001b[0m\u001b[0;34m-\u001b[0m\u001b[0;34m\u001b[0m\u001b[0;34m\u001b[0m\u001b[0m\n\u001b[0;32m--> 621\u001b[0;31m         \u001b[0mself\u001b[0m\u001b[0;34m\u001b[0m\u001b[0;34m\u001b[0m\u001b[0m\n\u001b[0m\u001b[1;32m    622\u001b[0m         \"\"\"\n\u001b[1;32m    623\u001b[0m         \u001b[0mwords\u001b[0m \u001b[0;34m=\u001b[0m \u001b[0mself\u001b[0m\u001b[0;34m.\u001b[0m\u001b[0mprocess_text\u001b[0m\u001b[0;34m(\u001b[0m\u001b[0mtext\u001b[0m\u001b[0;34m)\u001b[0m\u001b[0;34m\u001b[0m\u001b[0;34m\u001b[0m\u001b[0m\n",
      "\u001b[0;32m~/.local/lib/python3.8/site-packages/wordcloud/wordcloud.py\u001b[0m in \u001b[0;36mgenerate_from_frequencies\u001b[0;34m(self, frequencies, max_font_size)\u001b[0m\n\u001b[1;32m    451\u001b[0m                 \u001b[0mfont_size\u001b[0m \u001b[0;34m=\u001b[0m \u001b[0mself\u001b[0m\u001b[0;34m.\u001b[0m\u001b[0mheight\u001b[0m\u001b[0;34m\u001b[0m\u001b[0;34m\u001b[0m\u001b[0m\n\u001b[1;32m    452\u001b[0m             \u001b[0;32melse\u001b[0m\u001b[0;34m:\u001b[0m\u001b[0;34m\u001b[0m\u001b[0;34m\u001b[0m\u001b[0m\n\u001b[0;32m--> 453\u001b[0;31m                 self.generate_from_frequencies(dict(frequencies[:2]),\n\u001b[0m\u001b[1;32m    454\u001b[0m                                                max_font_size=self.height)\n\u001b[1;32m    455\u001b[0m                 \u001b[0;31m# find font sizes\u001b[0m\u001b[0;34m\u001b[0m\u001b[0;34m\u001b[0m\u001b[0;34m\u001b[0m\u001b[0m\n",
      "\u001b[0;32m~/.local/lib/python3.8/site-packages/wordcloud/wordcloud.py\u001b[0m in \u001b[0;36mgenerate_from_frequencies\u001b[0;34m(self, frequencies, max_font_size)\u001b[0m\n\u001b[1;32m    506\u001b[0m                 \u001b[0mfont\u001b[0m \u001b[0;34m=\u001b[0m \u001b[0mImageFont\u001b[0m\u001b[0;34m.\u001b[0m\u001b[0mtruetype\u001b[0m\u001b[0;34m(\u001b[0m\u001b[0mself\u001b[0m\u001b[0;34m.\u001b[0m\u001b[0mfont_path\u001b[0m\u001b[0;34m,\u001b[0m \u001b[0mfont_size\u001b[0m\u001b[0;34m)\u001b[0m\u001b[0;34m\u001b[0m\u001b[0;34m\u001b[0m\u001b[0m\n\u001b[1;32m    507\u001b[0m                 \u001b[0;31m# transpose font optionally\u001b[0m\u001b[0;34m\u001b[0m\u001b[0;34m\u001b[0m\u001b[0;34m\u001b[0m\u001b[0m\n\u001b[0;32m--> 508\u001b[0;31m                 transposed_font = ImageFont.TransposedFont(\n\u001b[0m\u001b[1;32m    509\u001b[0m                     font, orientation=orientation)\n\u001b[1;32m    510\u001b[0m                 \u001b[0;31m# get size of resulting text\u001b[0m\u001b[0;34m\u001b[0m\u001b[0;34m\u001b[0m\u001b[0;34m\u001b[0m\u001b[0m\n",
      "\u001b[0;32m~/.local/lib/python3.8/site-packages/PIL/ImageDraw.py\u001b[0m in \u001b[0;36mtextsize\u001b[0;34m(self, text, font, spacing, direction, features, language, stroke_width)\u001b[0m\n\u001b[1;32m    657\u001b[0m             \u001b[0;32mfor\u001b[0m \u001b[0mline\u001b[0m \u001b[0;32min\u001b[0m \u001b[0mlines\u001b[0m\u001b[0;34m:\u001b[0m\u001b[0;34m\u001b[0m\u001b[0;34m\u001b[0m\u001b[0m\n\u001b[1;32m    658\u001b[0m                 line_width, line_height = self.textsize(\n\u001b[0;32m--> 659\u001b[0;31m                     \u001b[0mline\u001b[0m\u001b[0;34m,\u001b[0m\u001b[0;34m\u001b[0m\u001b[0;34m\u001b[0m\u001b[0m\n\u001b[0m\u001b[1;32m    660\u001b[0m                     \u001b[0mfont\u001b[0m\u001b[0;34m,\u001b[0m\u001b[0;34m\u001b[0m\u001b[0;34m\u001b[0m\u001b[0m\n\u001b[1;32m    661\u001b[0m                     \u001b[0mspacing\u001b[0m\u001b[0;34m,\u001b[0m\u001b[0;34m\u001b[0m\u001b[0;34m\u001b[0m\u001b[0m\n",
      "\u001b[0;32m~/.local/lib/python3.8/site-packages/PIL/_deprecate.py\u001b[0m in \u001b[0;36mdeprecate\u001b[0;34m(deprecated, when, replacement, action, plural)\u001b[0m\n\u001b[1;32m     45\u001b[0m     \u001b[0;32melif\u001b[0m \u001b[0mwhen\u001b[0m \u001b[0;34m<=\u001b[0m \u001b[0mint\u001b[0m\u001b[0;34m(\u001b[0m\u001b[0m__version__\u001b[0m\u001b[0;34m.\u001b[0m\u001b[0msplit\u001b[0m\u001b[0;34m(\u001b[0m\u001b[0;34m\".\"\u001b[0m\u001b[0;34m)\u001b[0m\u001b[0;34m[\u001b[0m\u001b[0;36m0\u001b[0m\u001b[0;34m]\u001b[0m\u001b[0;34m)\u001b[0m\u001b[0;34m:\u001b[0m\u001b[0;34m\u001b[0m\u001b[0;34m\u001b[0m\u001b[0m\n\u001b[1;32m     46\u001b[0m         \u001b[0mmsg\u001b[0m \u001b[0;34m=\u001b[0m \u001b[0;34mf\"{deprecated} {is_} deprecated and should be removed.\"\u001b[0m\u001b[0;34m\u001b[0m\u001b[0;34m\u001b[0m\u001b[0m\n\u001b[0;32m---> 47\u001b[0;31m         \u001b[0;32mraise\u001b[0m \u001b[0mRuntimeError\u001b[0m\u001b[0;34m(\u001b[0m\u001b[0mmsg\u001b[0m\u001b[0;34m)\u001b[0m\u001b[0;34m\u001b[0m\u001b[0;34m\u001b[0m\u001b[0m\n\u001b[0m\u001b[1;32m     48\u001b[0m     \u001b[0;32melif\u001b[0m \u001b[0mwhen\u001b[0m \u001b[0;34m==\u001b[0m \u001b[0;36m10\u001b[0m\u001b[0;34m:\u001b[0m\u001b[0;34m\u001b[0m\u001b[0;34m\u001b[0m\u001b[0m\n\u001b[1;32m     49\u001b[0m         \u001b[0mremoved\u001b[0m \u001b[0;34m=\u001b[0m \u001b[0;34m\"Pillow 10 (2023-07-01)\"\u001b[0m\u001b[0;34m\u001b[0m\u001b[0;34m\u001b[0m\u001b[0m\n",
      "\u001b[0;31mRuntimeError\u001b[0m: textsize is deprecated and should be removed."
     ]
    },
    {
     "data": {
      "text/plain": [
       "<Figure size 1440x576 with 0 Axes>"
      ]
     },
     "metadata": {},
     "output_type": "display_data"
    }
   ],
   "source": [
    "## For Neutral Words\n",
    "plt.figure(figsize=(20, 8))\n",
    "wc = WordCloud(max_words=10000, width=1600, height=500, \n",
    "               collocations=False).generate(\" \".join(dataset[dataset['target']==2]['text'].astype(str)))\n",
    "plt.title('Neutral Words Visualization', fontsize=14, c='k')\n",
    "plt.imshow(wc)\n",
    "plt.show()"
   ]
  },
  {
   "cell_type": "markdown",
   "id": "dfebbe7c",
   "metadata": {},
   "source": [
    "### `Text Preprocessing`\n",
    "`I will try differnet techiques (BOW, TF-IDF)`"
   ]
  },
  {
   "cell_type": "code",
   "execution_count": 110,
   "id": "53679d6f",
   "metadata": {},
   "outputs": [],
   "source": [
    "## Previously, I made max_features=1000, These are just parameters\n",
    "## To be 1000 means to take only the features that repeated much more\n",
    "## Note: It is max_features not features (may be features numbers in the dataset is less than that)"
   ]
  },
  {
   "cell_type": "markdown",
   "id": "c6928266",
   "metadata": {},
   "source": [
    "####  `1. BOW`"
   ]
  },
  {
   "cell_type": "code",
   "execution_count": 111,
   "id": "39d2bbb7",
   "metadata": {},
   "outputs": [
    {
     "data": {
      "text/plain": [
       "array([[0, 0, 0, ..., 0, 0, 0],\n",
       "       [0, 0, 0, ..., 0, 0, 0],\n",
       "       [0, 0, 0, ..., 0, 0, 0],\n",
       "       ...,\n",
       "       [0, 0, 0, ..., 0, 0, 0],\n",
       "       [0, 0, 0, ..., 0, 0, 0],\n",
       "       [0, 0, 0, ..., 0, 0, 0]])"
      ]
     },
     "execution_count": 111,
     "metadata": {},
     "output_type": "execute_result"
    }
   ],
   "source": [
    "## Extracting Features from Cleaned Tweets using BOW \n",
    "bow_vectorizer = CountVectorizer(max_df=0.90, min_df=2, max_features=None, stop_words='english')\n",
    "X_bow = bow_vectorizer.fit_transform(dataset['text'])\n",
    "X_bow = X_bow.toarray()\n",
    "X_bow"
   ]
  },
  {
   "cell_type": "code",
   "execution_count": 112,
   "id": "7ce9a9b2",
   "metadata": {},
   "outputs": [
    {
     "data": {
      "text/plain": [
       "['bow_vec.pkl']"
      ]
     },
     "execution_count": 112,
     "metadata": {},
     "output_type": "execute_result"
    }
   ],
   "source": [
    "joblib.dump(bow_vectorizer, 'bow_vec.pkl')"
   ]
  },
  {
   "cell_type": "markdown",
   "id": "b77ee4ff",
   "metadata": {},
   "source": [
    "####  `2. TF-IDF`"
   ]
  },
  {
   "cell_type": "code",
   "execution_count": 113,
   "id": "596b19f0",
   "metadata": {},
   "outputs": [
    {
     "data": {
      "text/plain": [
       "array([[0., 0., 0., ..., 0., 0., 0.],\n",
       "       [0., 0., 0., ..., 0., 0., 0.],\n",
       "       [0., 0., 0., ..., 0., 0., 0.],\n",
       "       ...,\n",
       "       [0., 0., 0., ..., 0., 0., 0.],\n",
       "       [0., 0., 0., ..., 0., 0., 0.],\n",
       "       [0., 0., 0., ..., 0., 0., 0.]])"
      ]
     },
     "execution_count": 113,
     "metadata": {},
     "output_type": "execute_result"
    }
   ],
   "source": [
    "## Extracting Features from Cleaned Tweets using TF-IDF\n",
    "tfidf_vectorizer = TfidfVectorizer(max_df=0.90, min_df=2, max_features=None, stop_words='english')\n",
    "X_tfidf = tfidf_vectorizer.fit_transform(dataset['text'])\n",
    "X_tfidf = X_tfidf.toarray()\n",
    "X_tfidf"
   ]
  },
  {
   "cell_type": "code",
   "execution_count": 114,
   "id": "7a9ca786",
   "metadata": {},
   "outputs": [
    {
     "data": {
      "text/plain": [
       "['tfidf_vec.pkl']"
      ]
     },
     "execution_count": 114,
     "metadata": {},
     "output_type": "execute_result"
    }
   ],
   "source": [
    "joblib.dump(bow_vectorizer, 'tfidf_vec.pkl')"
   ]
  },
  {
   "cell_type": "code",
   "execution_count": 115,
   "id": "4ddf310f",
   "metadata": {},
   "outputs": [
    {
     "data": {
      "text/html": [
       "<div>\n",
       "<style scoped>\n",
       "    .dataframe tbody tr th:only-of-type {\n",
       "        vertical-align: middle;\n",
       "    }\n",
       "\n",
       "    .dataframe tbody tr th {\n",
       "        vertical-align: top;\n",
       "    }\n",
       "\n",
       "    .dataframe thead th {\n",
       "        text-align: right;\n",
       "    }\n",
       "</style>\n",
       "<table border=\"1\" class=\"dataframe\">\n",
       "  <thead>\n",
       "    <tr style=\"text-align: right;\">\n",
       "      <th></th>\n",
       "      <th>target</th>\n",
       "      <th>text</th>\n",
       "    </tr>\n",
       "  </thead>\n",
       "  <tbody>\n",
       "    <tr>\n",
       "      <th>0</th>\n",
       "      <td>4</td>\n",
       "      <td>love Kindle cool fantastic right</td>\n",
       "    </tr>\n",
       "    <tr>\n",
       "      <th>1</th>\n",
       "      <td>4</td>\n",
       "      <td>Reading kindle Love child good read</td>\n",
       "    </tr>\n",
       "    <tr>\n",
       "      <th>2</th>\n",
       "      <td>4</td>\n",
       "      <td>first assesment kindle fucking rock</td>\n",
       "    </tr>\n",
       "    <tr>\n",
       "      <th>3</th>\n",
       "      <td>4</td>\n",
       "      <td>love Kindle mine month never looked back huge need remorse Happy</td>\n",
       "    </tr>\n",
       "    <tr>\n",
       "      <th>4</th>\n",
       "      <td>4</td>\n",
       "      <td>Fair enough Kindle think perfect Happy</td>\n",
       "    </tr>\n",
       "    <tr>\n",
       "      <th>...</th>\n",
       "      <td>...</td>\n",
       "      <td>...</td>\n",
       "    </tr>\n",
       "    <tr>\n",
       "      <th>493</th>\n",
       "      <td>2</td>\n",
       "      <td>Programming LaTeX InDesign submitted calcio link comment</td>\n",
       "    </tr>\n",
       "    <tr>\n",
       "      <th>494</th>\n",
       "      <td>0</td>\n",
       "      <td>note hate Word hate Pages hate LaTeX said hate LaTeX TEXN come kill</td>\n",
       "    </tr>\n",
       "    <tr>\n",
       "      <th>495</th>\n",
       "      <td>4</td>\n",
       "      <td>back real text editing environment LaTeX</td>\n",
       "    </tr>\n",
       "    <tr>\n",
       "      <th>496</th>\n",
       "      <td>0</td>\n",
       "      <td>Trouble Iran Iran Iran away flockofseagullsweregeopoliticallycorrect</td>\n",
       "    </tr>\n",
       "    <tr>\n",
       "      <th>497</th>\n",
       "      <td>0</td>\n",
       "      <td>Reading tweet coming Iran whole thing terrifying incredibly</td>\n",
       "    </tr>\n",
       "  </tbody>\n",
       "</table>\n",
       "<p>498 rows × 2 columns</p>\n",
       "</div>"
      ],
      "text/plain": [
       "     target  \\\n",
       "0         4   \n",
       "1         4   \n",
       "2         4   \n",
       "3         4   \n",
       "4         4   \n",
       "..      ...   \n",
       "493       2   \n",
       "494       0   \n",
       "495       4   \n",
       "496       0   \n",
       "497       0   \n",
       "\n",
       "                                                                     text  \n",
       "0                                        love Kindle cool fantastic right  \n",
       "1                                     Reading kindle Love child good read  \n",
       "2                                     first assesment kindle fucking rock  \n",
       "3        love Kindle mine month never looked back huge need remorse Happy  \n",
       "4                                  Fair enough Kindle think perfect Happy  \n",
       "..                                                                    ...  \n",
       "493              Programming LaTeX InDesign submitted calcio link comment  \n",
       "494   note hate Word hate Pages hate LaTeX said hate LaTeX TEXN come kill  \n",
       "495                              back real text editing environment LaTeX  \n",
       "496  Trouble Iran Iran Iran away flockofseagullsweregeopoliticallycorrect  \n",
       "497           Reading tweet coming Iran whole thing terrifying incredibly  \n",
       "\n",
       "[498 rows x 2 columns]"
      ]
     },
     "execution_count": 115,
     "metadata": {},
     "output_type": "execute_result"
    }
   ],
   "source": [
    "dataset"
   ]
  },
  {
   "cell_type": "markdown",
   "id": "65d6ce97",
   "metadata": {},
   "source": [
    "------"
   ]
  },
  {
   "cell_type": "markdown",
   "id": "3a7648de",
   "metadata": {},
   "source": [
    "### `Split the Dataset`"
   ]
  },
  {
   "cell_type": "code",
   "execution_count": 116,
   "id": "8077ceb8",
   "metadata": {},
   "outputs": [
    {
     "data": {
      "text/plain": [
       "0    1\n",
       "1    1\n",
       "2    1\n",
       "3    1\n",
       "4    1\n",
       "Name: target, dtype: int64"
      ]
     },
     "execution_count": 116,
     "metadata": {},
     "output_type": "execute_result"
    }
   ],
   "source": [
    "## mapping --> Some Algoritms can't handle non sequential encoding 0--1--2\n",
    "dict_map = {0: 0, 4: 1, 2: 2}    ## 0: Negative (still 0) || 4: Positive > 1 || 2: Neutral (still 2)\n",
    "dict_rev_map = {v:k for k, v in dict_map.items()}\n",
    "\n",
    "## Apply that to the dataset\n",
    "dataset['target']= dataset['target'].map(dict_map)\n",
    "dataset['target'].head()"
   ]
  },
  {
   "cell_type": "code",
   "execution_count": 117,
   "id": "2a068752",
   "metadata": {},
   "outputs": [],
   "source": [
    "## Function to be easy in training the model\n",
    "def before_models(method='BOW'):\n",
    "    if method == 'bow' or method == 'BOW':\n",
    "        X = X_bow\n",
    "    elif method == 'tfidf' or method == 'TFIDF':\n",
    "        X = X_tfidf\n",
    "    else:\n",
    "        print('Enter a method from (bow, tfidf)')\n",
    "        \n",
    "    y = dataset['target']\n",
    "    \n",
    "    ## Using SMOTE to solve imblanced dataset\n",
    "    over = SMOTE() # after spliting but the data is small\n",
    "    X_new, y_new = over.fit_resample(X, y)\n",
    "\n",
    "    ## Split Datsets to train and test\n",
    "    X_train, X_test, y_train, y_test = train_test_split(X_new, y_new, \n",
    "                                                        shuffle=True, stratify=y_new, \n",
    "                                                        test_size=0.2, random_state=15)\n",
    "    \n",
    "    return X_train, X_test, y_train, y_test"
   ]
  },
  {
   "cell_type": "markdown",
   "id": "d597a081",
   "metadata": {},
   "source": [
    "-----"
   ]
  },
  {
   "cell_type": "markdown",
   "id": "3a52ea29",
   "metadata": {},
   "source": [
    "## <center>`Building Models` </center>\n"
   ]
  },
  {
   "cell_type": "markdown",
   "id": "d63006a4",
   "metadata": {},
   "source": [
    "* I will follow the following steps:\n",
    "* `Firstly, Without Jaya (In This Notebook):`\n",
    "    * 1. `SVM` for Features using `BOW, TFIDF, Word2VEC, BERT` sequentially `Without Jaya`\n",
    "    * 2. `KNN` for Features using `BOW, TFIDF, Word2VEC, BERT` sequentially `Without Jaya`\n",
    "    * 3. `Logistic Regression` for Features using `BOW, TFIDF, Word2VEC, BERT` sequentially `Without Jaya`\n",
    "    * 4. `Random Forest` for Features using `BOW, TFIDF, Word2VEC, BERT` sequentially `Without Jaya`\n",
    "    * 5. `Decision Trees` for Features using `BOW, TFIDF, Word2VEC, BERT` sequentially `Without Jaya`\n",
    "    * 6. `Naive Bayes` for Features using `BOW, TFIDF, Word2VEC, BERT` sequentially `Without Jaya`\n",
    "    * 7. `XGBOOST` for Features using `BOW, TFIDF, Word2VEC, BERT` sequentially `Without Jaya`"
   ]
  },
  {
   "cell_type": "markdown",
   "id": "df94a831",
   "metadata": {},
   "source": [
    "### `SVM without Jaya`"
   ]
  },
  {
   "cell_type": "code",
   "execution_count": 118,
   "id": "bc5dc6d8",
   "metadata": {},
   "outputs": [],
   "source": [
    "## Using function to apply DRY concept in an intelligent way without repearting and rewriting code \n",
    "def svm_without_jaya(method: str): \n",
    "    ''' This Function is to train MODEL using the given method and returns the train and test accuracy.\n",
    "    Args:\n",
    "    ****\n",
    "        (method: str) --> The method of features on of (BOW, TFIDF, Word2Vec, BERT)\n",
    "    \n",
    "    Returns:\n",
    "    *******\n",
    "        (acc_train_svc: float) --> The training accuracy \n",
    "        (acc_test_svc: float) --> The test accuracy\n",
    "    ''' \n",
    "    \n",
    "    ## Split the Dataset first --> Call the function\n",
    "    X_train, X_test, y_train, y_test = before_models(method=method)\n",
    "    \n",
    "    ## SVM without jaya optimizer (Using some initilaized and tuned params)\n",
    "    svc = SVC(C=4, kernel='rbf', gamma=0.15, random_state=42)\n",
    "    svc.fit(X_train, y_train)\n",
    "    \n",
    "    ## Accuracy\n",
    "    y_pred_train_svc = svc.predict(X_train)\n",
    "    y_pred_test_svc = svc.predict(X_test)\n",
    "    \n",
    "    acc_train_svc = round(100*accuracy_score(y_train, y_pred_train_svc), 4)\n",
    "    acc_test_svc = round(100*accuracy_score(y_test, y_pred_test_svc), 4)\n",
    "    \n",
    "    ## I will return the model (In case we want it for inference in real time and deployment) with accuracies.\n",
    "    return svc, acc_train_svc, acc_test_svc"
   ]
  },
  {
   "cell_type": "markdown",
   "id": "a28701a2",
   "metadata": {},
   "source": [
    "`1. Using BOW`"
   ]
  },
  {
   "cell_type": "code",
   "execution_count": 119,
   "id": "f55c958a",
   "metadata": {},
   "outputs": [
    {
     "name": "stdout",
     "output_type": "stream",
     "text": [
      "Accuracy Score for Training Dataset using BOW using SVM without Jaya \t 96.1009 %\n",
      "Accuracy Score for Testing Dataset using BOW using SVM without Jaya \t 75.4545 %\n"
     ]
    }
   ],
   "source": [
    "## BOW using SVM\n",
    "svc_bow, acc_train_svm_bow, acc_test_svm_bow = svm_without_jaya(method='BOW')\n",
    "print(f'Accuracy Score for Training Dataset using BOW using SVM without Jaya \\t {acc_train_svm_bow} %')\n",
    "print(f'Accuracy Score for Testing Dataset using BOW using SVM without Jaya \\t {acc_test_svm_bow} %')"
   ]
  },
  {
   "cell_type": "code",
   "execution_count": 120,
   "id": "0a924c6e",
   "metadata": {},
   "outputs": [
    {
     "data": {
      "text/plain": [
       "['svc_bow.pkl']"
      ]
     },
     "execution_count": 120,
     "metadata": {},
     "output_type": "execute_result"
    }
   ],
   "source": [
    "joblib.dump(svc_bow, 'svc_bow.pkl')"
   ]
  },
  {
   "cell_type": "markdown",
   "id": "0926d4a6",
   "metadata": {},
   "source": [
    "`2. Using TFIDF`"
   ]
  },
  {
   "cell_type": "code",
   "execution_count": 122,
   "id": "95ddf229",
   "metadata": {},
   "outputs": [
    {
     "name": "stdout",
     "output_type": "stream",
     "text": [
      "Accuracy Score for Training Dataset using TFIDF using SVM without Jaya \t 93.8073 %\n",
      "Accuracy Score for Testing Dataset using TFIDF using SVM without Jaya \t 74.5455 %\n"
     ]
    }
   ],
   "source": [
    "## Using TFIDF using SVM\n",
    "svc_tfidf, acc_train_svm_tfidf, acc_test_svm_tfidf = svm_without_jaya(method='TFIDF')\n",
    "print(f'Accuracy Score for Training Dataset using TFIDF using SVM without Jaya \\t {acc_train_svm_tfidf} %')\n",
    "print(f'Accuracy Score for Testing Dataset using TFIDF using SVM without Jaya \\t {acc_test_svm_tfidf} %')"
   ]
  },
  {
   "cell_type": "code",
   "execution_count": 124,
   "id": "a2bd6026",
   "metadata": {},
   "outputs": [
    {
     "data": {
      "text/plain": [
       "['svc_tfidf.pkl']"
      ]
     },
     "execution_count": 124,
     "metadata": {},
     "output_type": "execute_result"
    }
   ],
   "source": [
    "joblib.dump(svc_tfidf, 'svc_tfidf.pkl')"
   ]
  },
  {
   "cell_type": "code",
   "execution_count": 126,
   "id": "24edc768",
   "metadata": {},
   "outputs": [],
   "source": [
    "map_label = {\n",
    "\n",
    "    0: \"Negative\",\n",
    "    1: \"Positive\",\n",
    "    2: \"Neutral\"\n",
    "\n",
    "}"
   ]
  },
  {
   "cell_type": "code",
   "execution_count": 128,
   "id": "d7a67a26",
   "metadata": {},
   "outputs": [],
   "source": [
    "y_predict = svc_tfidf.predict([X_tfidf[100]])[0]"
   ]
  },
  {
   "cell_type": "code",
   "execution_count": 129,
   "id": "b02ed4a5",
   "metadata": {},
   "outputs": [
    {
     "data": {
      "text/plain": [
       "'Negative'"
      ]
     },
     "execution_count": 129,
     "metadata": {},
     "output_type": "execute_result"
    }
   ],
   "source": [
    "map_label.get(y_predict)"
   ]
  },
  {
   "cell_type": "markdown",
   "id": "5b357284",
   "metadata": {},
   "source": [
    "* `Combine all results for SVM without Jaya`"
   ]
  },
  {
   "cell_type": "code",
   "execution_count": 125,
   "id": "587bd3d3",
   "metadata": {},
   "outputs": [
    {
     "data": {
      "text/html": [
       "<div>\n",
       "<style scoped>\n",
       "    .dataframe tbody tr th:only-of-type {\n",
       "        vertical-align: middle;\n",
       "    }\n",
       "\n",
       "    .dataframe tbody tr th {\n",
       "        vertical-align: top;\n",
       "    }\n",
       "\n",
       "    .dataframe thead th {\n",
       "        text-align: right;\n",
       "    }\n",
       "</style>\n",
       "<table border=\"1\" class=\"dataframe\">\n",
       "  <thead>\n",
       "    <tr style=\"text-align: right;\">\n",
       "      <th></th>\n",
       "      <th>Method</th>\n",
       "      <th>Train Accuracy</th>\n",
       "      <th>Test Accuracy</th>\n",
       "    </tr>\n",
       "  </thead>\n",
       "  <tbody>\n",
       "    <tr>\n",
       "      <th>0</th>\n",
       "      <td>SVC BOW</td>\n",
       "      <td>96.1009</td>\n",
       "      <td>75.4545</td>\n",
       "    </tr>\n",
       "    <tr>\n",
       "      <th>1</th>\n",
       "      <td>SVC TF-IDF</td>\n",
       "      <td>93.8073</td>\n",
       "      <td>74.5455</td>\n",
       "    </tr>\n",
       "  </tbody>\n",
       "</table>\n",
       "</div>"
      ],
      "text/plain": [
       "       Method  Train Accuracy  Test Accuracy\n",
       "0     SVC BOW         96.1009        75.4545\n",
       "1  SVC TF-IDF         93.8073        74.5455"
      ]
     },
     "execution_count": 125,
     "metadata": {},
     "output_type": "execute_result"
    }
   ],
   "source": [
    "## Combine all results of SVM wihtout Jaya in one DataFrame\n",
    "acc_train_svm = [acc_train_svm_bow, acc_train_svm_tfidf]\n",
    "acc_test_svm = [acc_test_svm_bow, acc_test_svm_tfidf]\n",
    "\n",
    "\n",
    "## Create a DataFrame for SVM accuracies\n",
    "data_svm = {\n",
    "        'Method': ['SVC BOW', 'SVC TF-IDF'],\n",
    "        'Train Accuracy': acc_train_svm,\n",
    "        'Test Accuracy': acc_test_svm\n",
    "            }\n",
    "\n",
    "svm_accuracy_df = pd.DataFrame(data_svm)\n",
    "svm_accuracy_df"
   ]
  },
  {
   "cell_type": "code",
   "execution_count": null,
   "id": "e0e40197",
   "metadata": {},
   "outputs": [
    {
     "data": {
      "image/png": "[encoded data removed]",
      "text/plain": [
       "<Figure size 1000x600 with 1 Axes>"
      ]
     },
     "metadata": {},
     "output_type": "display_data"
    }
   ],
   "source": [
    "## Pivot the DataFrame to have separate columns for Train and Test Accuracy\n",
    "svm_accuracy_df_pivot = svm_accuracy_df.melt(id_vars='Method', var_name='Dataset', value_name='Accuracy')\n",
    "\n",
    "## Create the grouped bar chart using Seaborn\n",
    "plt.figure(figsize=(10, 6))\n",
    "sns.barplot(x='Method', y='Accuracy', hue='Dataset', data=svm_accuracy_df_pivot)\n",
    "plt.xlabel('SVM Methods', color='k')\n",
    "plt.ylabel('Accuracy', color='k')\n",
    "plt.title('SVM Accuracy without Jaya Optimizer on Train and Test Dataset', fontsize=14, color='k')\n",
    "plt.xticks(rotation=45)\n",
    "plt.legend(title='Dataset', loc='upper left')\n",
    "plt.grid(True)\n",
    "plt.tight_layout()\n",
    "plt.show()"
   ]
  },
  {
   "cell_type": "markdown",
   "id": "fc8e1add",
   "metadata": {},
   "source": [
    "---"
   ]
  },
  {
   "cell_type": "markdown",
   "id": "68e35c66",
   "metadata": {},
   "source": [
    "### `KNN without Jaya`"
   ]
  },
  {
   "cell_type": "code",
   "execution_count": null,
   "id": "0ca9a2c9",
   "metadata": {},
   "outputs": [],
   "source": [
    "## Using function to apply DRY concept in an intelligent way without repearting and rewriting code \n",
    "def knn_without_jaya(method: str): \n",
    "    ''' This Function is to train MODEL using the given method and returns the train and test accuracy.\n",
    "    Args:\n",
    "    ****\n",
    "        (method: str) --> The method of features on of (BOW, TFIDF, Word2Vec, BERT)\n",
    "    \n",
    "    Returns:\n",
    "    *******\n",
    "        (acc_train_svc: float) --> The training accuracy \n",
    "        (acc_test_svc: float) --> The test accuracy\n",
    "    ''' \n",
    "    \n",
    "    ## Split the Dataset first --> Call the function\n",
    "    X_train, X_test, y_train, y_test = before_models(method=method)\n",
    "    \n",
    "    ## Knn without using jaya\n",
    "    knn = KNeighborsClassifier(n_neighbors=5, p=2, metric='minkowski')\n",
    "    knn.fit(X_train, y_train)\n",
    "    \n",
    "    ## Accuracy\n",
    "    y_pred_train_knn = knn.predict(X_train)\n",
    "    y_pred_test_knn = knn.predict(X_test)\n",
    "    \n",
    "    acc_train_knn = round(100*accuracy_score(y_train, y_pred_train_knn), 4)\n",
    "    acc_test_knn = round(100*accuracy_score(y_test, y_pred_test_knn), 4)\n",
    "    \n",
    "    ## I will return the model (In case we want it for inference in real time and deployment) with accuracies.\n",
    "    return knn, acc_train_knn, acc_test_knn"
   ]
  },
  {
   "cell_type": "markdown",
   "id": "c13ec472",
   "metadata": {},
   "source": [
    "`1. Using BOW`"
   ]
  },
  {
   "cell_type": "code",
   "execution_count": null,
   "id": "836a9c57",
   "metadata": {},
   "outputs": [
    {
     "name": "stdout",
     "output_type": "stream",
     "text": [
      "Accuracy Score for Training Dataset using BOW using KNN without Jaya \t 62.844 %\n",
      "Accuracy Score for Testing Dataset using BOW using KNN without Jaya \t 48.1818 %\n"
     ]
    }
   ],
   "source": [
    "## BOW using KNN\n",
    "knn_bow, acc_train_knn_bow, acc_test_knn_bow = knn_without_jaya(method='BOW')\n",
    "print(f'Accuracy Score for Training Dataset using BOW using KNN without Jaya \\t {acc_train_knn_bow} %')\n",
    "print(f'Accuracy Score for Testing Dataset using BOW using KNN without Jaya \\t {acc_test_knn_bow} %')"
   ]
  },
  {
   "cell_type": "markdown",
   "id": "bca1bc8f",
   "metadata": {},
   "source": [
    "`2. Using TFIDF`"
   ]
  },
  {
   "cell_type": "code",
   "execution_count": null,
   "id": "604d1b6c",
   "metadata": {},
   "outputs": [
    {
     "name": "stdout",
     "output_type": "stream",
     "text": [
      "Accuracy Score for Training Dataset using TFIDF using KNN without Jaya \t 69.0367 %\n",
      "Accuracy Score for Testing Dataset using TFIDF using KNN without Jaya \t 52.7273 %\n"
     ]
    }
   ],
   "source": [
    "## TFIDF using KNN\n",
    "knn_tfidf, acc_train_knn_tfidf, acc_test_knn_tfidf = knn_without_jaya(method='TFIDF')\n",
    "print(f'Accuracy Score for Training Dataset using TFIDF using KNN without Jaya \\t {acc_train_knn_tfidf} %')\n",
    "print(f'Accuracy Score for Testing Dataset using TFIDF using KNN without Jaya \\t {acc_test_knn_tfidf} %')"
   ]
  },
  {
   "cell_type": "markdown",
   "id": "ecb7a0a9",
   "metadata": {},
   "source": [
    "* `Combine all results for KNN without Jaya`"
   ]
  },
  {
   "cell_type": "code",
   "execution_count": null,
   "id": "ea77b7a8",
   "metadata": {},
   "outputs": [
    {
     "data": {
      "text/html": [
       "<div>\n",
       "<style scoped>\n",
       "    .dataframe tbody tr th:only-of-type {\n",
       "        vertical-align: middle;\n",
       "    }\n",
       "\n",
       "    .dataframe tbody tr th {\n",
       "        vertical-align: top;\n",
       "    }\n",
       "\n",
       "    .dataframe thead th {\n",
       "        text-align: right;\n",
       "    }\n",
       "</style>\n",
       "<table border=\"1\" class=\"dataframe\">\n",
       "  <thead>\n",
       "    <tr style=\"text-align: right;\">\n",
       "      <th></th>\n",
       "      <th>Method</th>\n",
       "      <th>Train Accuracy</th>\n",
       "      <th>Test Accuracy</th>\n",
       "    </tr>\n",
       "  </thead>\n",
       "  <tbody>\n",
       "    <tr>\n",
       "      <th>0</th>\n",
       "      <td>KNN BOW</td>\n",
       "      <td>62.8440</td>\n",
       "      <td>48.1818</td>\n",
       "    </tr>\n",
       "    <tr>\n",
       "      <th>1</th>\n",
       "      <td>KNN TF-IDF</td>\n",
       "      <td>69.0367</td>\n",
       "      <td>52.7273</td>\n",
       "    </tr>\n",
       "  </tbody>\n",
       "</table>\n",
       "</div>"
      ],
      "text/plain": [
       "       Method  Train Accuracy  Test Accuracy\n",
       "0     KNN BOW         62.8440        48.1818\n",
       "1  KNN TF-IDF         69.0367        52.7273"
      ]
     },
     "execution_count": 56,
     "metadata": {},
     "output_type": "execute_result"
    }
   ],
   "source": [
    "## Combine all results of SVM wihtout Jaya in one DataFrame\n",
    "acc_train_knn = [acc_train_knn_bow, acc_train_knn_tfidf]\n",
    "acc_test_knn = [acc_test_knn_bow, acc_test_knn_tfidf]\n",
    "\n",
    "\n",
    "## Create a DataFrame for KNN accuracies\n",
    "data_knn = {\n",
    "        'Method': ['KNN BOW', 'KNN TF-IDF'],\n",
    "        'Train Accuracy': acc_train_knn,\n",
    "        'Test Accuracy': acc_test_knn\n",
    "            }\n",
    "\n",
    "knn_accuracy_df = pd.DataFrame(data_knn)\n",
    "knn_accuracy_df"
   ]
  },
  {
   "cell_type": "code",
   "execution_count": null,
   "id": "0f89588a",
   "metadata": {},
   "outputs": [
    {
     "data": {
      "image/png": "[encoded data removed]",
      "text/plain": [
       "<Figure size 1000x600 with 1 Axes>"
      ]
     },
     "metadata": {},
     "output_type": "display_data"
    }
   ],
   "source": [
    "## Pivot the DataFrame to have separate columns for Train and Test Accuracy\n",
    "knn_accuracy_df_pivot = knn_accuracy_df.melt(id_vars='Method', var_name='Dataset', value_name='Accuracy')\n",
    "\n",
    "## Create the grouped bar chart using Seaborn\n",
    "plt.figure(figsize=(10, 6))\n",
    "sns.barplot(x='Method', y='Accuracy', hue='Dataset', data=knn_accuracy_df_pivot)\n",
    "plt.xlabel('KNN Methods', color='k')\n",
    "plt.ylabel('Accuracy', color='k')\n",
    "plt.title('KNN Accuracy without Jaya Optimizer on Train and Test Dataset', fontsize=14, color='k')\n",
    "plt.xticks(rotation=45)\n",
    "plt.legend(title='Dataset', loc='upper left')\n",
    "plt.grid(True)\n",
    "plt.tight_layout()\n",
    "plt.show()"
   ]
  },
  {
   "cell_type": "markdown",
   "id": "3aa3629f",
   "metadata": {},
   "source": [
    "--------"
   ]
  },
  {
   "cell_type": "markdown",
   "id": "dc86dd33",
   "metadata": {},
   "source": [
    "### `Logistic Regression without Jaya`"
   ]
  },
  {
   "cell_type": "code",
   "execution_count": null,
   "id": "68b9cce2",
   "metadata": {},
   "outputs": [],
   "source": [
    "## Using function to apply DRY concept in an intelligent way without repearting and rewriting code \n",
    "def logistic_without_jaya(method: str): \n",
    "    ''' This Function is to train MODEL using the given method and returns the train and test accuracy.\n",
    "    Args:\n",
    "    ****\n",
    "        (method: str) --> The method of features on of (BOW, TFIDF, Word2Vec, BERT)\n",
    "    \n",
    "    Returns:\n",
    "    *******\n",
    "        (acc_train_svc: float) --> The training accuracy \n",
    "        (acc_test_svc: float) --> The test accuracy\n",
    "    ''' \n",
    "    \n",
    "    ## Split the Dataset first --> Call the function\n",
    "    X_train, X_test, y_train, y_test = before_models(method=method)\n",
    "    \n",
    "    ## Knn without using jaya\n",
    "    logistic = LogisticRegression(C=1.5, random_state=42, max_iter=10000, penalty='l2')\n",
    "    logistic.fit(X_train, y_train)\n",
    "    \n",
    "    ## Accuracy\n",
    "    y_pred_train_log = logistic.predict(X_train)\n",
    "    y_pred_test_log = logistic.predict(X_test)\n",
    "    \n",
    "    acc_train_log = round(100*accuracy_score(y_train, y_pred_train_log), 4)\n",
    "    acc_test_log = round(100*accuracy_score(y_test, y_pred_test_log), 4)\n",
    "    \n",
    "    ## I will return the model (In case we want it for inference in real time and deployment) with accuracies.\n",
    "    return logistic, acc_train_log, acc_test_log"
   ]
  },
  {
   "cell_type": "markdown",
   "id": "96877b91",
   "metadata": {},
   "source": [
    "`1. Using BOW`"
   ]
  },
  {
   "cell_type": "code",
   "execution_count": null,
   "id": "0ca26dc9",
   "metadata": {},
   "outputs": [
    {
     "name": "stdout",
     "output_type": "stream",
     "text": [
      "Accuracy Score for Training Dataset using BOW using Logistic without Jaya \t 94.0367 %\n",
      "Accuracy Score for Testing Dataset using BOW using Logistic without Jaya \t 70.9091 %\n"
     ]
    }
   ],
   "source": [
    "## BOW using Logisitic\n",
    "log_bow, acc_train_log_bow, acc_test_log_bow = logistic_without_jaya(method='BOW')\n",
    "print(f'Accuracy Score for Training Dataset using BOW using Logistic without Jaya \\t {acc_train_log_bow} %')\n",
    "print(f'Accuracy Score for Testing Dataset using BOW using Logistic without Jaya \\t {acc_test_log_bow} %')"
   ]
  },
  {
   "cell_type": "markdown",
   "id": "d050398d",
   "metadata": {},
   "source": [
    "`2. Using TFIDF`"
   ]
  },
  {
   "cell_type": "code",
   "execution_count": null,
   "id": "d6657995",
   "metadata": {},
   "outputs": [
    {
     "name": "stdout",
     "output_type": "stream",
     "text": [
      "Accuracy Score for Training Dataset using TFIDF using Logistic without Jaya \t 92.8899 %\n",
      "Accuracy Score for Testing Dataset using TFIDF using Logistic without Jaya \t 71.8182 %\n"
     ]
    }
   ],
   "source": [
    "## TFIDF using Logisitic\n",
    "log_tfidf, acc_train_log_tfidf, acc_test_log_tfidf = logistic_without_jaya(method='TFIDF')\n",
    "print(f'Accuracy Score for Training Dataset using TFIDF using Logistic without Jaya \\t {acc_train_log_tfidf} %')\n",
    "print(f'Accuracy Score for Testing Dataset using TFIDF using Logistic without Jaya \\t {acc_test_log_tfidf} %')"
   ]
  },
  {
   "cell_type": "markdown",
   "id": "bff11023",
   "metadata": {},
   "source": [
    "* `Combine all results for Logistic without Jaya`"
   ]
  },
  {
   "cell_type": "code",
   "execution_count": null,
   "id": "7aaf3bce",
   "metadata": {},
   "outputs": [
    {
     "data": {
      "text/html": [
       "<div>\n",
       "<style scoped>\n",
       "    .dataframe tbody tr th:only-of-type {\n",
       "        vertical-align: middle;\n",
       "    }\n",
       "\n",
       "    .dataframe tbody tr th {\n",
       "        vertical-align: top;\n",
       "    }\n",
       "\n",
       "    .dataframe thead th {\n",
       "        text-align: right;\n",
       "    }\n",
       "</style>\n",
       "<table border=\"1\" class=\"dataframe\">\n",
       "  <thead>\n",
       "    <tr style=\"text-align: right;\">\n",
       "      <th></th>\n",
       "      <th>Method</th>\n",
       "      <th>Train Accuracy</th>\n",
       "      <th>Test Accuracy</th>\n",
       "    </tr>\n",
       "  </thead>\n",
       "  <tbody>\n",
       "    <tr>\n",
       "      <th>0</th>\n",
       "      <td>Log BOW</td>\n",
       "      <td>94.0367</td>\n",
       "      <td>70.9091</td>\n",
       "    </tr>\n",
       "    <tr>\n",
       "      <th>1</th>\n",
       "      <td>Log TF-IDF</td>\n",
       "      <td>92.8899</td>\n",
       "      <td>71.8182</td>\n",
       "    </tr>\n",
       "  </tbody>\n",
       "</table>\n",
       "</div>"
      ],
      "text/plain": [
       "       Method  Train Accuracy  Test Accuracy\n",
       "0     Log BOW         94.0367        70.9091\n",
       "1  Log TF-IDF         92.8899        71.8182"
      ]
     },
     "execution_count": 61,
     "metadata": {},
     "output_type": "execute_result"
    }
   ],
   "source": [
    "## Combine all results of Logisitc wihtout Jaya in one DataFrame\n",
    "acc_train_log = [acc_train_log_bow, acc_train_log_tfidf]\n",
    "acc_test_log = [acc_test_log_bow, acc_test_log_tfidf]\n",
    "\n",
    "\n",
    "## Create a DataFrame for Logistic accuracies\n",
    "data_log = {\n",
    "        'Method': ['Log BOW', 'Log TF-IDF'],\n",
    "        'Train Accuracy': acc_train_log,\n",
    "        'Test Accuracy': acc_test_log\n",
    "            }\n",
    "\n",
    "log_accuracy_df = pd.DataFrame(data_log)\n",
    "log_accuracy_df"
   ]
  },
  {
   "cell_type": "code",
   "execution_count": null,
   "id": "6d912bc8",
   "metadata": {},
   "outputs": [
    {
     "data": {
      "image/png": "[encoded data removed]",
      "text/plain": [
       "<Figure size 1000x600 with 1 Axes>"
      ]
     },
     "metadata": {},
     "output_type": "display_data"
    }
   ],
   "source": [
    "## Pivot the DataFrame to have separate columns for Train and Test Accuracy\n",
    "log_accuracy_df_pivot = log_accuracy_df.melt(id_vars='Method', var_name='Dataset', value_name='Accuracy')\n",
    "\n",
    "## Create the grouped bar chart using Seaborn\n",
    "plt.figure(figsize=(10, 6))\n",
    "sns.barplot(x='Method', y='Accuracy', hue='Dataset', data=log_accuracy_df_pivot)\n",
    "plt.xlabel('Logistic Methods', color='k')\n",
    "plt.ylabel('Accuracy', color='k')\n",
    "plt.title('Logistic Accuracy without Jaya Optimizer on Train and Test Dataset', fontsize=14, color='k')\n",
    "plt.xticks(rotation=45)\n",
    "plt.legend(title='Dataset', loc='upper left')\n",
    "plt.grid(True)\n",
    "plt.tight_layout()\n",
    "plt.show()"
   ]
  },
  {
   "cell_type": "markdown",
   "id": "a9a97cbf",
   "metadata": {},
   "source": [
    "----"
   ]
  },
  {
   "cell_type": "markdown",
   "id": "84f01c15",
   "metadata": {},
   "source": [
    "### `Random Forest without Jaya`"
   ]
  },
  {
   "cell_type": "code",
   "execution_count": null,
   "id": "b4b66488",
   "metadata": {},
   "outputs": [],
   "source": [
    "## Using function to apply DRY concept in an intelligent way without repearting and rewriting code \n",
    "def forest_without_jaya(method: str): \n",
    "    ''' This Function is to train MODEL using the given method and returns the train and test accuracy.\n",
    "    Args:\n",
    "    ****\n",
    "        (method: str) --> The method of features on of (BOW, TFIDF, Word2Vec, BERT)\n",
    "    \n",
    "    Returns:\n",
    "    *******\n",
    "        (acc_train_svc: float) --> The training accuracy \n",
    "        (acc_test_svc: float) --> The test accuracy\n",
    "    ''' \n",
    "    \n",
    "    ## Split the Dataset first --> Call the function\n",
    "    X_train, X_test, y_train, y_test = before_models(method=method)\n",
    "    \n",
    "    ## RF without using jaya\n",
    "    forest = RandomForestClassifier(n_estimators=150, max_depth=5, random_state=42, max_features=0.8)\n",
    "    forest.fit(X_train, y_train)\n",
    "    \n",
    "    ## Accuracy\n",
    "    y_pred_train_forest = forest.predict(X_train)\n",
    "    y_pred_test_forest = forest.predict(X_test)\n",
    "    \n",
    "    acc_train_forest = round(100*accuracy_score(y_train, y_pred_train_forest), 4)\n",
    "    acc_test_forest= round(100*accuracy_score(y_test, y_pred_test_forest), 4)\n",
    "    \n",
    "    ## I will return the model (In case we want it for inference in real time and deployment) with accuracies.\n",
    "    return forest, acc_train_forest, acc_test_forest"
   ]
  },
  {
   "cell_type": "markdown",
   "id": "b168474e",
   "metadata": {},
   "source": [
    "`1. Using BOW`"
   ]
  },
  {
   "cell_type": "code",
   "execution_count": null,
   "id": "9be66471",
   "metadata": {},
   "outputs": [
    {
     "name": "stdout",
     "output_type": "stream",
     "text": [
      "Accuracy Score for Training Dataset using BOW using RandomForest without Jaya \t 62.3853 %\n",
      "Accuracy Score for Testing Dataset using BOW using RandomForest without Jaya \t 57.2727 %\n"
     ]
    }
   ],
   "source": [
    "## BOW using RF\n",
    "forest_bow, acc_train_forest_bow, acc_test_forest_bow = forest_without_jaya(method='BOW')\n",
    "print(f'Accuracy Score for Training Dataset using BOW using RandomForest without Jaya \\t {acc_train_forest_bow} %')\n",
    "print(f'Accuracy Score for Testing Dataset using BOW using RandomForest without Jaya \\t {acc_test_forest_bow} %')"
   ]
  },
  {
   "cell_type": "markdown",
   "id": "27bc6d43",
   "metadata": {},
   "source": [
    "`2. Using TFIDF`"
   ]
  },
  {
   "cell_type": "code",
   "execution_count": null,
   "id": "04ff802f",
   "metadata": {},
   "outputs": [
    {
     "name": "stdout",
     "output_type": "stream",
     "text": [
      "Accuracy Score for Training Dataset using TFIDF using RandomForest without Jaya \t 63.3028 %\n",
      "Accuracy Score for Testing Dataset using TFIDF using RandomForest without Jaya \t 57.2727 %\n"
     ]
    }
   ],
   "source": [
    "## TFIDF using RF\n",
    "forest_tfidf, acc_train_forest_tfidf, acc_test_forest_tfidf = forest_without_jaya(method='TFIDF')\n",
    "print(f'Accuracy Score for Training Dataset using TFIDF using RandomForest without Jaya \\t {acc_train_forest_tfidf} %')\n",
    "print(f'Accuracy Score for Testing Dataset using TFIDF using RandomForest without Jaya \\t {acc_test_forest_tfidf} %')"
   ]
  },
  {
   "cell_type": "markdown",
   "id": "8950281b",
   "metadata": {},
   "source": [
    "* `Combine all results for RF without Jaya`"
   ]
  },
  {
   "cell_type": "code",
   "execution_count": null,
   "id": "282e4419",
   "metadata": {},
   "outputs": [
    {
     "data": {
      "text/html": [
       "<div>\n",
       "<style scoped>\n",
       "    .dataframe tbody tr th:only-of-type {\n",
       "        vertical-align: middle;\n",
       "    }\n",
       "\n",
       "    .dataframe tbody tr th {\n",
       "        vertical-align: top;\n",
       "    }\n",
       "\n",
       "    .dataframe thead th {\n",
       "        text-align: right;\n",
       "    }\n",
       "</style>\n",
       "<table border=\"1\" class=\"dataframe\">\n",
       "  <thead>\n",
       "    <tr style=\"text-align: right;\">\n",
       "      <th></th>\n",
       "      <th>Method</th>\n",
       "      <th>Train Accuracy</th>\n",
       "      <th>Test Accuracy</th>\n",
       "    </tr>\n",
       "  </thead>\n",
       "  <tbody>\n",
       "    <tr>\n",
       "      <th>0</th>\n",
       "      <td>RF BOW</td>\n",
       "      <td>62.3853</td>\n",
       "      <td>57.2727</td>\n",
       "    </tr>\n",
       "    <tr>\n",
       "      <th>1</th>\n",
       "      <td>RF TF-IDF</td>\n",
       "      <td>63.3028</td>\n",
       "      <td>57.2727</td>\n",
       "    </tr>\n",
       "  </tbody>\n",
       "</table>\n",
       "</div>"
      ],
      "text/plain": [
       "      Method  Train Accuracy  Test Accuracy\n",
       "0     RF BOW         62.3853        57.2727\n",
       "1  RF TF-IDF         63.3028        57.2727"
      ]
     },
     "execution_count": 66,
     "metadata": {},
     "output_type": "execute_result"
    }
   ],
   "source": [
    "## Combine all results of RF wihtout Jaya in one DataFrame\n",
    "acc_train_forest = [acc_train_forest_bow, acc_train_forest_tfidf]\n",
    "acc_test_forest = [acc_test_forest_bow, acc_test_forest_tfidf]\n",
    "\n",
    "\n",
    "## Create a DataFrame for RF accuracies\n",
    "data_forest = {\n",
    "        'Method': ['RF BOW', 'RF TF-IDF'],\n",
    "        'Train Accuracy': acc_train_forest,\n",
    "        'Test Accuracy': acc_test_forest\n",
    "            }\n",
    "\n",
    "forest_accuracy_df = pd.DataFrame(data_forest)\n",
    "forest_accuracy_df"
   ]
  },
  {
   "cell_type": "code",
   "execution_count": null,
   "id": "86360b92",
   "metadata": {},
   "outputs": [
    {
     "data": {
      "image/png": "[encoded data removed]",
      "text/plain": [
       "<Figure size 1000x600 with 1 Axes>"
      ]
     },
     "metadata": {},
     "output_type": "display_data"
    }
   ],
   "source": [
    "## Pivot the DataFrame to have separate columns for Train and Test Accuracy\n",
    "forest_accuracy_df_pivot = forest_accuracy_df.melt(id_vars='Method', var_name='Dataset', value_name='Accuracy')\n",
    "\n",
    "## Create the grouped bar chart using Seaborn\n",
    "plt.figure(figsize=(10, 6))\n",
    "sns.barplot(x='Method', y='Accuracy', hue='Dataset', data=forest_accuracy_df_pivot)\n",
    "plt.xlabel('RF Methods', color='k')\n",
    "plt.ylabel('Accuracy', color='k')\n",
    "plt.title('RF Accuracy without Jaya Optimizer on Train and Test Dataset', fontsize=14, color='k')\n",
    "plt.xticks(rotation=45)\n",
    "plt.legend(title='Dataset', loc='upper left')\n",
    "plt.grid(True)\n",
    "plt.tight_layout()\n",
    "plt.show()"
   ]
  },
  {
   "cell_type": "markdown",
   "id": "18e5d4e0",
   "metadata": {},
   "source": [
    "-----"
   ]
  },
  {
   "cell_type": "markdown",
   "id": "531f2408",
   "metadata": {},
   "source": [
    "### `Naive Bayes without Jaya`"
   ]
  },
  {
   "cell_type": "code",
   "execution_count": null,
   "id": "088350d9",
   "metadata": {},
   "outputs": [],
   "source": [
    "def naive_bayes_without_jaya(method: str): \n",
    "    ''' This Function is to train MODEL using the given method and returns the train and test accuracy.\n",
    "    Args:\n",
    "    ****\n",
    "        (method: str) --> The method of features on of (BOW, TFIDF, Word2Vec, BERT)\n",
    "    \n",
    "    Returns:\n",
    "    *******\n",
    "        (acc_train_svc: float) --> The training accuracy \n",
    "        (acc_test_svc: float) --> The test accuracy\n",
    "    ''' \n",
    "    \n",
    "    ## Split the Dataset first --> Call the function\n",
    "    X_train, X_test, y_train, y_test = before_models(method=method)\n",
    "    \n",
    "    ## Naive Bayes without using jaya\n",
    "    naive = GaussianNB()\n",
    "    naive.fit(X_train, y_train)\n",
    "    \n",
    "    ## Accuracy\n",
    "    y_pred_train_naive = naive.predict(X_train)\n",
    "    y_pred_test_naive = naive.predict(X_test)\n",
    "    \n",
    "    acc_train_naive = round(100*accuracy_score(y_train, y_pred_train_naive), 4)\n",
    "    acc_test_naive = round(100*accuracy_score(y_test, y_pred_test_naive), 4)\n",
    "    \n",
    "    ## I will return the model (In case we want it for inference in real time and deployment) with accuracies.\n",
    "    return naive, acc_train_naive, acc_test_naive"
   ]
  },
  {
   "cell_type": "markdown",
   "id": "fafe5ae7",
   "metadata": {},
   "source": [
    "`1. Using BOW`"
   ]
  },
  {
   "cell_type": "code",
   "execution_count": null,
   "id": "dfe09724",
   "metadata": {},
   "outputs": [
    {
     "name": "stdout",
     "output_type": "stream",
     "text": [
      "Accuracy Score for Training Dataset using BOW using NaiveBayes without Jaya \t 86.6972 %\n",
      "Accuracy Score for Testing Dataset using BOW using NaiveBayes without Jaya \t 67.2727 %\n"
     ]
    }
   ],
   "source": [
    "## BOW using naive bayes\n",
    "naive_bow, acc_train_naive_bow, acc_test_naive_bow = naive_bayes_without_jaya(method='BOW')\n",
    "print(f'Accuracy Score for Training Dataset using BOW using NaiveBayes without Jaya \\t {acc_train_naive_bow} %')\n",
    "print(f'Accuracy Score for Testing Dataset using BOW using NaiveBayes without Jaya \\t {acc_test_naive_bow} %')"
   ]
  },
  {
   "cell_type": "markdown",
   "id": "a0135d62",
   "metadata": {},
   "source": [
    "`2. Using TFIDF`"
   ]
  },
  {
   "cell_type": "code",
   "execution_count": null,
   "id": "413d476d",
   "metadata": {},
   "outputs": [
    {
     "name": "stdout",
     "output_type": "stream",
     "text": [
      "Accuracy Score for Training Dataset using TFIDF using NaiveBayes without Jaya \t 88.7615 %\n",
      "Accuracy Score for Testing Dataset using TFIDF using NaiveBayes without Jaya \t 70.0 %\n"
     ]
    }
   ],
   "source": [
    "## TFIDF using naive bayes\n",
    "naive_tfidf, acc_train_naive_tfidf, acc_test_naive_tfidf = naive_bayes_without_jaya(method='TFIDF')\n",
    "print(f'Accuracy Score for Training Dataset using TFIDF using NaiveBayes without Jaya \\t {acc_train_naive_tfidf} %')\n",
    "print(f'Accuracy Score for Testing Dataset using TFIDF using NaiveBayes without Jaya \\t {acc_test_naive_tfidf} %')"
   ]
  },
  {
   "cell_type": "markdown",
   "id": "be22af12",
   "metadata": {},
   "source": [
    "* `Combine all results for NB without Jaya`"
   ]
  },
  {
   "cell_type": "code",
   "execution_count": null,
   "id": "3640c84b",
   "metadata": {},
   "outputs": [
    {
     "data": {
      "text/html": [
       "<div>\n",
       "<style scoped>\n",
       "    .dataframe tbody tr th:only-of-type {\n",
       "        vertical-align: middle;\n",
       "    }\n",
       "\n",
       "    .dataframe tbody tr th {\n",
       "        vertical-align: top;\n",
       "    }\n",
       "\n",
       "    .dataframe thead th {\n",
       "        text-align: right;\n",
       "    }\n",
       "</style>\n",
       "<table border=\"1\" class=\"dataframe\">\n",
       "  <thead>\n",
       "    <tr style=\"text-align: right;\">\n",
       "      <th></th>\n",
       "      <th>Method</th>\n",
       "      <th>Train Accuracy</th>\n",
       "      <th>Test Accuracy</th>\n",
       "    </tr>\n",
       "  </thead>\n",
       "  <tbody>\n",
       "    <tr>\n",
       "      <th>0</th>\n",
       "      <td>NB BOW</td>\n",
       "      <td>86.6972</td>\n",
       "      <td>67.2727</td>\n",
       "    </tr>\n",
       "    <tr>\n",
       "      <th>1</th>\n",
       "      <td>NB TF-IDF</td>\n",
       "      <td>88.7615</td>\n",
       "      <td>70.0000</td>\n",
       "    </tr>\n",
       "  </tbody>\n",
       "</table>\n",
       "</div>"
      ],
      "text/plain": [
       "      Method  Train Accuracy  Test Accuracy\n",
       "0     NB BOW         86.6972        67.2727\n",
       "1  NB TF-IDF         88.7615        70.0000"
      ]
     },
     "execution_count": 71,
     "metadata": {},
     "output_type": "execute_result"
    }
   ],
   "source": [
    "## Combine all results of Naive wihtout Jaya in one DataFrame\n",
    "acc_train_naive = [acc_train_naive_bow, acc_train_naive_tfidf]\n",
    "acc_test_naive = [acc_test_naive_bow, acc_test_naive_tfidf]\n",
    "\n",
    "\n",
    "## Create a DataFrame for NB accuracies\n",
    "data_naive = {\n",
    "        'Method': ['NB BOW', 'NB TF-IDF'],\n",
    "        'Train Accuracy': acc_train_naive,\n",
    "        'Test Accuracy': acc_test_naive\n",
    "            }\n",
    "\n",
    "naive_accuracy_df = pd.DataFrame(data_naive)\n",
    "naive_accuracy_df"
   ]
  },
  {
   "cell_type": "code",
   "execution_count": null,
   "id": "48b2aa9f",
   "metadata": {},
   "outputs": [
    {
     "data": {
      "image/png": "[encoded data removed]",
      "text/plain": [
       "<Figure size 1000x600 with 1 Axes>"
      ]
     },
     "metadata": {},
     "output_type": "display_data"
    }
   ],
   "source": [
    "## Pivot the DataFrame to have separate columns for Train and Test Accuracy\n",
    "naive_accuracy_df_pivot = naive_accuracy_df.melt(id_vars='Method', var_name='Dataset', value_name='Accuracy')\n",
    "\n",
    "## Create the grouped bar chart using Seaborn\n",
    "plt.figure(figsize=(10, 6))\n",
    "sns.barplot(x='Method', y='Accuracy', hue='Dataset', data=naive_accuracy_df_pivot)\n",
    "plt.xlabel('NB Methods', color='k')\n",
    "plt.ylabel('Accuracy', color='k')\n",
    "plt.title('NB Accuracy without Jaya Optimizer on Train and Test Dataset', fontsize=14, color='k')\n",
    "plt.xticks(rotation=45)\n",
    "plt.legend(title='Dataset', loc='upper left')\n",
    "plt.grid(True)\n",
    "plt.tight_layout()\n",
    "plt.show()"
   ]
  },
  {
   "cell_type": "markdown",
   "id": "5375bc34",
   "metadata": {},
   "source": [
    "-------"
   ]
  },
  {
   "cell_type": "markdown",
   "id": "d6db66ea",
   "metadata": {},
   "source": [
    "### `XGBOOST without Jaya`"
   ]
  },
  {
   "cell_type": "code",
   "execution_count": null,
   "id": "2c6ccbd0",
   "metadata": {},
   "outputs": [],
   "source": [
    "def xgboost_without_jaya(method: str): \n",
    "    ''' This Function is to train MODEL using the given method and returns the train and test accuracy.\n",
    "    Args:\n",
    "    ****\n",
    "        (method: str) --> The method of features on of (BOW, TFIDF, Word2Vec, BERT)\n",
    "    \n",
    "    Returns:\n",
    "    *******\n",
    "        (acc_train_svc: float) --> The training accuracy \n",
    "        (acc_test_svc: float) --> The test accuracy\n",
    "    ''' \n",
    "    \n",
    "    ## Split the Dataset first --> Call the function\n",
    "    X_train, X_test, y_train, y_test = before_models(method=method)\n",
    "    \n",
    "    ## Gradient Boosting (GB)\n",
    "    gboost = XGBClassifier(n_estimators=150, max_depth=5, learning_rate=0.01, colsample_bytree=0.8)\n",
    "    gboost.fit(X_train, y_train)\n",
    "    \n",
    "    ## Accuracy\n",
    "    y_pred_train_gboost = gboost.predict(X_train)\n",
    "    y_pred_test_gboost = gboost.predict(X_test)\n",
    "    \n",
    "    acc_train_gboost = round(100*accuracy_score(y_train, y_pred_train_gboost), 4)\n",
    "    acc_test_gboost = round(100*accuracy_score(y_test, y_pred_test_gboost), 4)\n",
    "    \n",
    "    return gboost, acc_train_gboost, acc_test_gboost"
   ]
  },
  {
   "cell_type": "markdown",
   "id": "73bcef91",
   "metadata": {},
   "source": [
    "`1. Using BOW`"
   ]
  },
  {
   "cell_type": "code",
   "execution_count": null,
   "id": "7a5a52b6",
   "metadata": {},
   "outputs": [
    {
     "name": "stdout",
     "output_type": "stream",
     "text": [
      "Accuracy Score for Training Dataset using BOW using XGBOOST without Jaya \t 67.6606 %\n",
      "Accuracy Score for Testing Dataset using BOW using XGBOOST without Jaya \t 62.7273 %\n"
     ]
    }
   ],
   "source": [
    "## BOW using XGBoost\n",
    "gboost_bow, acc_train_gboost_bow, acc_test_gboost_bow = xgboost_without_jaya(method='BOW')\n",
    "print(f'Accuracy Score for Training Dataset using BOW using XGBOOST without Jaya \\t {acc_train_gboost_bow} %')\n",
    "print(f'Accuracy Score for Testing Dataset using BOW using XGBOOST without Jaya \\t {acc_test_gboost_bow} %')"
   ]
  },
  {
   "cell_type": "markdown",
   "id": "4fd14695",
   "metadata": {},
   "source": [
    "`2. Using TFIDF`"
   ]
  },
  {
   "cell_type": "code",
   "execution_count": null,
   "id": "1f232a06",
   "metadata": {},
   "outputs": [
    {
     "name": "stdout",
     "output_type": "stream",
     "text": [
      "Accuracy Score for Training Dataset using TFIDF using XGBOOST without Jaya \t 71.789 %\n",
      "Accuracy Score for Testing Dataset using TFIDF using XGBOOST without Jaya \t 57.2727 %\n"
     ]
    }
   ],
   "source": [
    "## TFIDF using XGBoost\n",
    "gboost_tfidf, acc_train_gboost_tfidf, acc_test_gboost_tfidf = xgboost_without_jaya(method='TFIDF')\n",
    "print(f'Accuracy Score for Training Dataset using TFIDF using XGBOOST without Jaya \\t {acc_train_gboost_tfidf} %')\n",
    "print(f'Accuracy Score for Testing Dataset using TFIDF using XGBOOST without Jaya \\t {acc_test_gboost_tfidf} %')"
   ]
  },
  {
   "cell_type": "markdown",
   "id": "a5b1b498",
   "metadata": {},
   "source": [
    "* `Combine all results for XGBOOST without Jaya`"
   ]
  },
  {
   "cell_type": "code",
   "execution_count": null,
   "id": "d4629b5e",
   "metadata": {},
   "outputs": [
    {
     "data": {
      "text/html": [
       "<div>\n",
       "<style scoped>\n",
       "    .dataframe tbody tr th:only-of-type {\n",
       "        vertical-align: middle;\n",
       "    }\n",
       "\n",
       "    .dataframe tbody tr th {\n",
       "        vertical-align: top;\n",
       "    }\n",
       "\n",
       "    .dataframe thead th {\n",
       "        text-align: right;\n",
       "    }\n",
       "</style>\n",
       "<table border=\"1\" class=\"dataframe\">\n",
       "  <thead>\n",
       "    <tr style=\"text-align: right;\">\n",
       "      <th></th>\n",
       "      <th>Method</th>\n",
       "      <th>Train Accuracy</th>\n",
       "      <th>Test Accuracy</th>\n",
       "    </tr>\n",
       "  </thead>\n",
       "  <tbody>\n",
       "    <tr>\n",
       "      <th>0</th>\n",
       "      <td>XGBOOST BOW</td>\n",
       "      <td>67.6606</td>\n",
       "      <td>62.7273</td>\n",
       "    </tr>\n",
       "    <tr>\n",
       "      <th>1</th>\n",
       "      <td>XGBOOST TF-IDF</td>\n",
       "      <td>71.7890</td>\n",
       "      <td>57.2727</td>\n",
       "    </tr>\n",
       "  </tbody>\n",
       "</table>\n",
       "</div>"
      ],
      "text/plain": [
       "           Method  Train Accuracy  Test Accuracy\n",
       "0     XGBOOST BOW         67.6606        62.7273\n",
       "1  XGBOOST TF-IDF         71.7890        57.2727"
      ]
     },
     "execution_count": 76,
     "metadata": {},
     "output_type": "execute_result"
    }
   ],
   "source": [
    "## Combine all results of XGBOOST wihtout Jaya in one DataFrame\n",
    "acc_train_gboost = [acc_train_gboost_bow, acc_train_gboost_tfidf]\n",
    "acc_test_gboost = [acc_test_gboost_bow, acc_test_gboost_tfidf]\n",
    "\n",
    "\n",
    "## Create a DataFrame for XGBOOST accuracies\n",
    "data_gboost = {\n",
    "        'Method': ['XGBOOST BOW', 'XGBOOST TF-IDF'],\n",
    "        'Train Accuracy': acc_train_gboost,\n",
    "        'Test Accuracy': acc_test_gboost\n",
    "            }\n",
    "\n",
    "gboost_accuracy_df = pd.DataFrame(data_gboost)\n",
    "gboost_accuracy_df"
   ]
  },
  {
   "cell_type": "code",
   "execution_count": null,
   "id": "fcdbf784",
   "metadata": {},
   "outputs": [
    {
     "data": {
      "image/png": "[encoded data removed]",
      "text/plain": [
       "<Figure size 1000x600 with 1 Axes>"
      ]
     },
     "metadata": {},
     "output_type": "display_data"
    }
   ],
   "source": [
    "## Pivot the DataFrame to have separate columns for Train and Test Accuracy\n",
    "gboost_accuracy_df_pivot = gboost_accuracy_df.melt(id_vars='Method', var_name='Dataset', value_name='Accuracy')\n",
    "\n",
    "## Create the grouped bar chart using Seaborn\n",
    "plt.figure(figsize=(10, 6))\n",
    "sns.barplot(x='Method', y='Accuracy', hue='Dataset', data=gboost_accuracy_df_pivot)\n",
    "plt.xlabel('XGBoost Methods', color='k')\n",
    "plt.ylabel('Accuracy', color='k')\n",
    "plt.title('XGBoost Accuracy without Jaya Optimizer on Train and Test Dataset', fontsize=14, color='k')\n",
    "plt.xticks(rotation=45)\n",
    "plt.legend(title='Dataset', loc='upper left')\n",
    "plt.grid(True)\n",
    "plt.tight_layout()\n",
    "plt.show()"
   ]
  },
  {
   "cell_type": "markdown",
   "id": "c5bc399d",
   "metadata": {},
   "source": [
    "--------------------"
   ]
  },
  {
   "cell_type": "markdown",
   "id": "c2df2321",
   "metadata": {},
   "source": [
    "## <center> Done </center>"
   ]
  },
  {
   "cell_type": "markdown",
   "id": "475040d8",
   "metadata": {},
   "source": [
    "------------"
   ]
  }
 ],
 "metadata": {
  "kernelspec": {
   "display_name": "Python 3 (ipykernel)",
   "language": "python",
   "name": "python3"
  },
  "language_info": {
   "codemirror_mode": {
    "name": "ipython",
    "version": 3
   },
   "file_extension": ".py",
   "mimetype": "text/x-python",
   "name": "python",
   "nbconvert_exporter": "python",
   "pygments_lexer": "ipython3",
   "version": "3.8.10"
  }
 },
 "nbformat": 4,
 "nbformat_minor": 5
}
