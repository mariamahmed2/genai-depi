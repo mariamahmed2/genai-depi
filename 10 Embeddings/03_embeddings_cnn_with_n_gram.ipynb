{
  "cells": [
    {
      "cell_type": "markdown",
      "metadata": {
        "id": "ULIhEkG2WpYs"
      },
      "source": [
        "### `CNNs for Text Classification`\n",
        "* This Notebook will discuss how convolutional neural networks can be used to find general patterns in text and perform text classification.\n",
        "* The end of this Notebook specifically addresses training a CNN to classify the sentiment (positive or negative) of movie reviews.\n",
        "\n",
        "![cnn](https://cezannec.github.io/assets/cnn_text/conv_maxpooling_steps.gif)"
      ]
    },
    {
      "cell_type": "markdown",
      "metadata": {
        "id": "oTHXGg77WuvB"
      },
      "source": [
        "![img.png](https://cezannec.github.io/assets/cnn_text/conv_dimensions.png)"
      ]
    },
    {
      "cell_type": "markdown",
      "metadata": {
        "id": "hJmEiGmfXF6L"
      },
      "source": [
        "![img2.png](https://cezannec.github.io/assets/cnn_text/similar_phrases_conv_out.png)"
      ]
    },
    {
      "cell_type": "markdown",
      "metadata": {
        "id": "EkUqxPLxXQC1"
      },
      "source": [
        "![img3.png](https://cezannec.github.io/assets/cnn_text/maxpooling_over_time.png)"
      ]
    },
    {
      "cell_type": "markdown",
      "metadata": {
        "id": "zaiqmjHNXUzV"
      },
      "source": [
        "![img4.png](https://cezannec.github.io/assets/cnn_text/complete_text_classification_CNN.png)"
      ]
    },
    {
      "cell_type": "markdown",
      "metadata": {
        "id": "n8RJLmF_XaCv"
      },
      "source": [
        "----"
      ]
    },
    {
      "cell_type": "code",
      "execution_count": 1,
      "metadata": {
        "colab": {
          "base_uri": "https://localhost:8080/"
        },
        "id": "K90ijj6_Xqly",
        "outputId": "54bfb3cf-303f-4dfd-cddf-bd92c7cdf3b1"
      },
      "outputs": [
        {
          "name": "stdout",
          "output_type": "stream",
          "text": [
            "\u001b[33mWARNING: Running pip as the 'root' user can result in broken permissions and conflicting behaviour with the system package manager, possibly rendering your system unusable.It is recommended to use a virtual environment instead: https://pip.pypa.io/warnings/venv. Use the --root-user-action option if you know what you are doing and want to suppress this warning.\u001b[0m\u001b[33m\n",
            "\u001b[0m\u001b[33mWARNING: Running pip as the 'root' user can result in broken permissions and conflicting behaviour with the system package manager, possibly rendering your system unusable.It is recommended to use a virtual environment instead: https://pip.pypa.io/warnings/venv. Use the --root-user-action option if you know what you are doing and want to suppress this warning.\u001b[0m\u001b[33m\n",
            "\u001b[0m\u001b[33mWARNING: Running pip as the 'root' user can result in broken permissions and conflicting behaviour with the system package manager, possibly rendering your system unusable.It is recommended to use a virtual environment instead: https://pip.pypa.io/warnings/venv. Use the --root-user-action option if you know what you are doing and want to suppress this warning.\u001b[0m\u001b[33m\n",
            "\u001b[0mCollecting en-core-web-md==3.7.1\n",
            "  Downloading https://github.com/explosion/spacy-models/releases/download/en_core_web_md-3.7.1/en_core_web_md-3.7.1-py3-none-any.whl (42.8 MB)\n",
            "\u001b[2K     \u001b[90m━━━━━━━━━━━━━━━━━━━━━━━━━━━━━━━━━━━━━━━━\u001b[0m \u001b[32m42.8/42.8 MB\u001b[0m \u001b[31m30.5 MB/s\u001b[0m eta \u001b[36m0:00:00\u001b[0m\n",
            "\u001b[?25hRequirement already satisfied: spacy<3.8.0,>=3.7.2 in /usr/local/lib/python3.10/dist-packages (from en-core-web-md==3.7.1) (3.7.5)\n",
            "Requirement already satisfied: spacy-legacy<3.1.0,>=3.0.11 in /usr/local/lib/python3.10/dist-packages (from spacy<3.8.0,>=3.7.2->en-core-web-md==3.7.1) (3.0.12)\n",
            "Requirement already satisfied: spacy-loggers<2.0.0,>=1.0.0 in /usr/local/lib/python3.10/dist-packages (from spacy<3.8.0,>=3.7.2->en-core-web-md==3.7.1) (1.0.5)\n",
            "Requirement already satisfied: murmurhash<1.1.0,>=0.28.0 in /usr/local/lib/python3.10/dist-packages (from spacy<3.8.0,>=3.7.2->en-core-web-md==3.7.1) (1.0.10)\n",
            "Requirement already satisfied: cymem<2.1.0,>=2.0.2 in /usr/local/lib/python3.10/dist-packages (from spacy<3.8.0,>=3.7.2->en-core-web-md==3.7.1) (2.0.8)\n",
            "Requirement already satisfied: preshed<3.1.0,>=3.0.2 in /usr/local/lib/python3.10/dist-packages (from spacy<3.8.0,>=3.7.2->en-core-web-md==3.7.1) (3.0.9)\n",
            "Requirement already satisfied: thinc<8.3.0,>=8.2.2 in /usr/local/lib/python3.10/dist-packages (from spacy<3.8.0,>=3.7.2->en-core-web-md==3.7.1) (8.2.5)\n",
            "Requirement already satisfied: wasabi<1.2.0,>=0.9.1 in /usr/local/lib/python3.10/dist-packages (from spacy<3.8.0,>=3.7.2->en-core-web-md==3.7.1) (1.1.3)\n",
            "Requirement already satisfied: srsly<3.0.0,>=2.4.3 in /usr/local/lib/python3.10/dist-packages (from spacy<3.8.0,>=3.7.2->en-core-web-md==3.7.1) (2.4.8)\n",
            "Requirement already satisfied: catalogue<2.1.0,>=2.0.6 in /usr/local/lib/python3.10/dist-packages (from spacy<3.8.0,>=3.7.2->en-core-web-md==3.7.1) (2.0.10)\n",
            "Requirement already satisfied: weasel<0.5.0,>=0.1.0 in /usr/local/lib/python3.10/dist-packages (from spacy<3.8.0,>=3.7.2->en-core-web-md==3.7.1) (0.4.1)\n",
            "Requirement already satisfied: typer<1.0.0,>=0.3.0 in /usr/local/lib/python3.10/dist-packages (from spacy<3.8.0,>=3.7.2->en-core-web-md==3.7.1) (0.12.3)\n",
            "Requirement already satisfied: tqdm<5.0.0,>=4.38.0 in /usr/local/lib/python3.10/dist-packages (from spacy<3.8.0,>=3.7.2->en-core-web-md==3.7.1) (4.66.4)\n",
            "Requirement already satisfied: requests<3.0.0,>=2.13.0 in /usr/local/lib/python3.10/dist-packages (from spacy<3.8.0,>=3.7.2->en-core-web-md==3.7.1) (2.31.0)\n",
            "Requirement already satisfied: pydantic!=1.8,!=1.8.1,<3.0.0,>=1.7.4 in /usr/local/lib/python3.10/dist-packages (from spacy<3.8.0,>=3.7.2->en-core-web-md==3.7.1) (2.8.2)\n",
            "Requirement already satisfied: jinja2 in /usr/local/lib/python3.10/dist-packages (from spacy<3.8.0,>=3.7.2->en-core-web-md==3.7.1) (3.1.4)\n",
            "Requirement already satisfied: setuptools in /usr/local/lib/python3.10/dist-packages (from spacy<3.8.0,>=3.7.2->en-core-web-md==3.7.1) (71.0.1)\n",
            "Requirement already satisfied: packaging>=20.0 in /usr/local/lib/python3.10/dist-packages (from spacy<3.8.0,>=3.7.2->en-core-web-md==3.7.1) (24.1)\n",
            "Requirement already satisfied: langcodes<4.0.0,>=3.2.0 in /usr/local/lib/python3.10/dist-packages (from spacy<3.8.0,>=3.7.2->en-core-web-md==3.7.1) (3.4.0)\n",
            "Requirement already satisfied: numpy>=1.19.0 in /usr/local/lib/python3.10/dist-packages (from spacy<3.8.0,>=3.7.2->en-core-web-md==3.7.1) (1.25.2)\n",
            "Requirement already satisfied: language-data>=1.2 in /usr/local/lib/python3.10/dist-packages (from langcodes<4.0.0,>=3.2.0->spacy<3.8.0,>=3.7.2->en-core-web-md==3.7.1) (1.2.0)\n",
            "Requirement already satisfied: annotated-types>=0.4.0 in /usr/local/lib/python3.10/dist-packages (from pydantic!=1.8,!=1.8.1,<3.0.0,>=1.7.4->spacy<3.8.0,>=3.7.2->en-core-web-md==3.7.1) (0.7.0)\n",
            "Requirement already satisfied: pydantic-core==2.20.1 in /usr/local/lib/python3.10/dist-packages (from pydantic!=1.8,!=1.8.1,<3.0.0,>=1.7.4->spacy<3.8.0,>=3.7.2->en-core-web-md==3.7.1) (2.20.1)\n",
            "Requirement already satisfied: typing-extensions>=4.6.1 in /usr/local/lib/python3.10/dist-packages (from pydantic!=1.8,!=1.8.1,<3.0.0,>=1.7.4->spacy<3.8.0,>=3.7.2->en-core-web-md==3.7.1) (4.12.2)\n",
            "Requirement already satisfied: charset-normalizer<4,>=2 in /usr/local/lib/python3.10/dist-packages (from requests<3.0.0,>=2.13.0->spacy<3.8.0,>=3.7.2->en-core-web-md==3.7.1) (3.3.2)\n",
            "Requirement already satisfied: idna<4,>=2.5 in /usr/local/lib/python3.10/dist-packages (from requests<3.0.0,>=2.13.0->spacy<3.8.0,>=3.7.2->en-core-web-md==3.7.1) (3.7)\n",
            "Requirement already satisfied: urllib3<3,>=1.21.1 in /usr/local/lib/python3.10/dist-packages (from requests<3.0.0,>=2.13.0->spacy<3.8.0,>=3.7.2->en-core-web-md==3.7.1) (2.0.7)\n",
            "Requirement already satisfied: certifi>=2017.4.17 in /usr/local/lib/python3.10/dist-packages (from requests<3.0.0,>=2.13.0->spacy<3.8.0,>=3.7.2->en-core-web-md==3.7.1) (2024.7.4)\n",
            "Requirement already satisfied: blis<0.8.0,>=0.7.8 in /usr/local/lib/python3.10/dist-packages (from thinc<8.3.0,>=8.2.2->spacy<3.8.0,>=3.7.2->en-core-web-md==3.7.1) (0.7.11)\n",
            "Requirement already satisfied: confection<1.0.0,>=0.0.1 in /usr/local/lib/python3.10/dist-packages (from thinc<8.3.0,>=8.2.2->spacy<3.8.0,>=3.7.2->en-core-web-md==3.7.1) (0.1.5)\n",
            "Requirement already satisfied: click>=8.0.0 in /usr/local/lib/python3.10/dist-packages (from typer<1.0.0,>=0.3.0->spacy<3.8.0,>=3.7.2->en-core-web-md==3.7.1) (8.1.7)\n",
            "Requirement already satisfied: shellingham>=1.3.0 in /usr/local/lib/python3.10/dist-packages (from typer<1.0.0,>=0.3.0->spacy<3.8.0,>=3.7.2->en-core-web-md==3.7.1) (1.5.4)\n",
            "Requirement already satisfied: rich>=10.11.0 in /usr/local/lib/python3.10/dist-packages (from typer<1.0.0,>=0.3.0->spacy<3.8.0,>=3.7.2->en-core-web-md==3.7.1) (13.7.1)\n",
            "Requirement already satisfied: cloudpathlib<1.0.0,>=0.7.0 in /usr/local/lib/python3.10/dist-packages (from weasel<0.5.0,>=0.1.0->spacy<3.8.0,>=3.7.2->en-core-web-md==3.7.1) (0.18.1)\n",
            "Requirement already satisfied: smart-open<8.0.0,>=5.2.1 in /usr/local/lib/python3.10/dist-packages (from weasel<0.5.0,>=0.1.0->spacy<3.8.0,>=3.7.2->en-core-web-md==3.7.1) (7.0.4)\n",
            "Requirement already satisfied: MarkupSafe>=2.0 in /usr/local/lib/python3.10/dist-packages (from jinja2->spacy<3.8.0,>=3.7.2->en-core-web-md==3.7.1) (2.1.5)\n",
            "Requirement already satisfied: marisa-trie>=0.7.7 in /usr/local/lib/python3.10/dist-packages (from language-data>=1.2->langcodes<4.0.0,>=3.2.0->spacy<3.8.0,>=3.7.2->en-core-web-md==3.7.1) (1.2.0)\n",
            "Requirement already satisfied: markdown-it-py>=2.2.0 in /usr/local/lib/python3.10/dist-packages (from rich>=10.11.0->typer<1.0.0,>=0.3.0->spacy<3.8.0,>=3.7.2->en-core-web-md==3.7.1) (3.0.0)\n",
            "Requirement already satisfied: pygments<3.0.0,>=2.13.0 in /usr/local/lib/python3.10/dist-packages (from rich>=10.11.0->typer<1.0.0,>=0.3.0->spacy<3.8.0,>=3.7.2->en-core-web-md==3.7.1) (2.18.0)\n",
            "Requirement already satisfied: wrapt in /usr/local/lib/python3.10/dist-packages (from smart-open<8.0.0,>=5.2.1->weasel<0.5.0,>=0.1.0->spacy<3.8.0,>=3.7.2->en-core-web-md==3.7.1) (1.14.1)\n",
            "Requirement already satisfied: mdurl~=0.1 in /usr/local/lib/python3.10/dist-packages (from markdown-it-py>=2.2.0->rich>=10.11.0->typer<1.0.0,>=0.3.0->spacy<3.8.0,>=3.7.2->en-core-web-md==3.7.1) (0.1.2)\n",
            "\u001b[33mWARNING: Running pip as the 'root' user can result in broken permissions and conflicting behaviour with the system package manager, possibly rendering your system unusable.It is recommended to use a virtual environment instead: https://pip.pypa.io/warnings/venv. Use the --root-user-action option if you know what you are doing and want to suppress this warning.\u001b[0m\u001b[33m\n",
            "\u001b[0m\u001b[38;5;2m✔ Download and installation successful\u001b[0m\n",
            "You can now load the package via spacy.load('en_core_web_md')\n",
            "\u001b[38;5;3m⚠ Restart to reload dependencies\u001b[0m\n",
            "If you are in a Jupyter or Colab notebook, you may need to restart Python in\n",
            "order to load all the package's dependencies. You can do this by selecting the\n",
            "'Restart kernel' or 'Restart runtime' option.\n"
          ]
        }
      ],
      "source": [
        "# Install some dependencies\n",
        "!pip install -q pydot graphviz tqdm spacy termcolor\n",
        "!pip install -q -U pip setuptools wheel\n",
        "!pip install -q -U spacy\n",
        "!python -q -m spacy download en_core_web_md"
      ]
    },
    {
      "cell_type": "markdown",
      "metadata": {
        "id": "DyxD3u8db-Nl"
      },
      "source": [
        "* `Import Libraries`"
      ]
    },
    {
      "cell_type": "code",
      "execution_count": 2,
      "metadata": {
        "id": "HiFr-EYLWmuj"
      },
      "outputs": [],
      "source": [
        "import numpy as np\n",
        "import pandas as pd\n",
        "import random\n",
        "from collections import Counter\n",
        "from termcolor import colored\n",
        "from tqdm.auto import tqdm\n",
        "import matplotlib.pyplot as plt\n",
        "import spacy\n",
        "\n",
        "# sklearn\n",
        "from sklearn.datasets import fetch_20newsgroups\n",
        "from sklearn.metrics.pairwise import cosine_similarity, euclidean_distances\n",
        "from sklearn.model_selection import train_test_split\n",
        "from sklearn.metrics import accuracy_score, classification_report\n",
        "from sklearn.svm import LinearSVC\n",
        "from sklearn.preprocessing import LabelEncoder\n",
        "\n",
        "# tensorflow\n",
        "import tensorflow as tf"
      ]
    },
    {
      "cell_type": "markdown",
      "metadata": {
        "id": "NSZ8Pl5WcCPg"
      },
      "source": [
        "* `Load the Dataset`"
      ]
    },
    {
      "cell_type": "code",
      "execution_count": 3,
      "metadata": {
        "id": "4-gS4aQBXbvH"
      },
      "outputs": [],
      "source": [
        "# Load dataset\n",
        "data = fetch_20newsgroups(subset='test', remove=['headers', 'footers', 'quotes'],\n",
        "                         categories=['rec.autos', 'comp.windows.x',\n",
        "                                     'soc.religion.christian', 'rec.sport.baseball'])\n",
        "\n",
        "# Split to X & y\n",
        "X = data.data\n",
        "y = [data.target_names[i] for i in data.target]\n",
        "\n",
        "# Split to train and test\n",
        "X_train, X_test, y_train, y_test = train_test_split(X, y, test_size=0.2, stratify=y, random_state=42)"
      ]
    },
    {
      "cell_type": "code",
      "execution_count": 4,
      "metadata": {
        "id": "rrQfrXOlXdgi"
      },
      "outputs": [],
      "source": [
        "# Load the GloVe model from spacy\n",
        "nlp = spacy.load('en_core_web_md')"
      ]
    },
    {
      "cell_type": "code",
      "execution_count": 5,
      "metadata": {
        "colab": {
          "base_uri": "https://localhost:8080/"
        },
        "id": "ptfjx9f0XlSo",
        "outputId": "2638b1dd-047b-42a4-851c-51e47b8cf696"
      },
      "outputs": [
        {
          "data": {
            "text/plain": [
              "8535"
            ]
          },
          "execution_count": 5,
          "metadata": {},
          "output_type": "execute_result"
        }
      ],
      "source": [
        "# Get the longest length text in X\n",
        "longest_input = max(len(doc.split()) for doc in X_train)\n",
        "longest_input # too much, I will truncate instead"
      ]
    },
    {
      "cell_type": "code",
      "execution_count": 6,
      "metadata": {
        "id": "ojfHoBMpcQ8d"
      },
      "outputs": [],
      "source": [
        "# truncation to make max tokens in each doc (first 500) with each token embedding of size 300\n",
        "MAX_TOKENS = 500\n",
        "EMBED_SIZE = 300"
      ]
    },
    {
      "cell_type": "code",
      "execution_count": 7,
      "metadata": {
        "colab": {
          "base_uri": "https://localhost:8080/",
          "height": 49,
          "referenced_widgets": [
            "1f561c61d52345e48d2766e0aa6b3e44",
            "8c25def9a98e491dbfde5672f7c0c3a0",
            "09886525dc23463a817d1fabce223da0",
            "2e3a9b18726b429c8afbbb945087b8bb",
            "b3668517cf2e4eaf90709572960f85fd",
            "dce3efefac9844d1a3b540af17512f75",
            "046342a2a84e4c369c098153cac2ee59",
            "4c4bda2fa3b94248b55bf2c70b134a3a",
            "1a2859e6351540dea41b8446fa2faca8",
            "1dd2eb587109430492bba02bcd79f8d5",
            "78fa4cf6151f4a379af8d1a506ec239e"
          ]
        },
        "id": "RP30DjcKZ5ht",
        "outputId": "98f8fef3-5b42-4654-fec1-9ee2dc764355"
      },
      "outputs": [
        {
          "data": {
            "application/vnd.jupyter.widget-view+json": {
              "model_id": "1f561c61d52345e48d2766e0aa6b3e44",
              "version_major": 2,
              "version_minor": 0
            },
            "text/plain": [
              "  0%|          | 0/1268 [00:00<?, ?it/s]"
            ]
          },
          "metadata": {},
          "output_type": "display_data"
        }
      ],
      "source": [
        "# Embeddings for training data (3D matrix) as I want to incoroprate n-gram (get embeddings for each token)\n",
        "X_train_embed = np.zeros((len(X_train), MAX_TOKENS, EMBED_SIZE))\n",
        "for i, doc in enumerate(tqdm(nlp.pipe(X_train), total=len(X_train))):\n",
        "    for j, token in enumerate(doc):\n",
        "        if j >= MAX_TOKENS:\n",
        "            break\n",
        "        X_train_embed[i, j] = token.vector"
      ]
    },
    {
      "cell_type": "code",
      "execution_count": 8,
      "metadata": {
        "colab": {
          "base_uri": "https://localhost:8080/",
          "height": 49,
          "referenced_widgets": [
            "62ac9c8faa3b4813b31784d65a744059",
            "87b118c4a48f468494d2cfeed62ffc52",
            "7520be34d8fa4eca9437c3112c36ba55",
            "cbaabe9f03ab442a94865bc09566f6b1",
            "c686edb3ada3442e91cc2cc0491befca",
            "7a6335457d1246558598b35eab02b161",
            "3a6998629a2047bbbd4931122ae48fe3",
            "866edc8795394e73a7c35b979c73e290",
            "7dc508d99e244d24b7e96ddb21650db7",
            "af7b3968d02a4e3b9c9403ec7c47593d",
            "291d25aba99e434097717e8915310928"
          ]
        },
        "id": "bwQ4LKQEZXYf",
        "outputId": "29001ae3-29ca-4b24-a702-a6961024ac91"
      },
      "outputs": [
        {
          "data": {
            "application/vnd.jupyter.widget-view+json": {
              "model_id": "62ac9c8faa3b4813b31784d65a744059",
              "version_major": 2,
              "version_minor": 0
            },
            "text/plain": [
              "  0%|          | 0/318 [00:00<?, ?it/s]"
            ]
          },
          "metadata": {},
          "output_type": "display_data"
        }
      ],
      "source": [
        "# Embeddings for testing data (3D matrix) as I want to incoroprate n-gram (get embeddings for each token)\n",
        "X_test_embed = np.zeros((len(X_test), MAX_TOKENS, EMBED_SIZE))\n",
        "for i, doc in enumerate(tqdm(nlp.pipe(X_test), total=len(X_test))):\n",
        "    for j, token in enumerate(doc):\n",
        "        if j >= MAX_TOKENS:\n",
        "            break\n",
        "        X_test_embed[i, j] = token.vector"
      ]
    },
    {
      "cell_type": "code",
      "execution_count": 9,
      "metadata": {
        "id": "IrzmKL9kbeav"
      },
      "outputs": [],
      "source": [
        "# Prepare target\n",
        "encoder = LabelEncoder()\n",
        "y_train_encoded = encoder.fit_transform(y_train)\n",
        "y_test_encoded = encoder.transform(y_test)"
      ]
    },
    {
      "cell_type": "markdown",
      "metadata": {
        "id": "t45S1hndlfPi"
      },
      "source": [
        "----"
      ]
    },
    {
      "cell_type": "markdown",
      "metadata": {
        "id": "NmsorQiHfLOC"
      },
      "source": [
        "* `1. Build a CNN model`"
      ]
    },
    {
      "cell_type": "code",
      "execution_count": 10,
      "metadata": {
        "id": "GjACdeUtbus_"
      },
      "outputs": [],
      "source": [
        "# Define the functional model with 1D convolutions\n",
        "inputs = tf.keras.layers.Input(shape=(MAX_TOKENS, EMBED_SIZE))\n",
        "\n",
        "# Convolution Layers with different kernel (different combination of n-gram)\n",
        "conv_1 = tf.keras.layers.Conv1D(filters=100, kernel_size=3, activation='relu')(inputs)\n",
        "conv_2 = tf.keras.layers.Conv1D(filters=100, kernel_size=4, activation='relu')(inputs)\n",
        "conv_3 = tf.keras.layers.Conv1D(filters=100, kernel_size=5, activation='relu')(inputs)\n",
        "\n",
        "# Pooling Layer for each cnn (I used Global to take the max value from the whole feature map instead of using kernel)\n",
        "pool_1 = tf.keras.layers.GlobalMaxPooling1D()(conv_1)\n",
        "pool_2 = tf.keras.layers.GlobalMaxPooling1D()(conv_2)\n",
        "pool_3 = tf.keras.layers.GlobalMaxPooling1D()(conv_3)\n",
        "\n",
        "# Merge them all\n",
        "merged_tensor = tf.keras.layers.concatenate([pool_1, pool_2, pool_3], axis=1)\n",
        "\n",
        "# Flatten and add dense layers\n",
        "flatten = tf.keras.layers.Flatten()(merged_tensor)\n",
        "clf = tf.keras.layers.Dense(100, activation='relu')(flatten)\n",
        "clf = tf.keras.layers.Dropout(0.5)(clf)\n",
        "clf = tf.keras.layers.Dense(len(encoder.classes_), activation='softmax')(clf)"
      ]
    },
    {
      "cell_type": "code",
      "execution_count": 11,
      "metadata": {
        "colab": {
          "base_uri": "https://localhost:8080/"
        },
        "id": "dZzAWtm0g5tF",
        "outputId": "60070d7c-0b89-4768-a9c2-262bb058d8da"
      },
      "outputs": [
        {
          "name": "stdout",
          "output_type": "stream",
          "text": [
            "Model: \"model\"\n",
            "__________________________________________________________________________________________________\n",
            " Layer (type)                Output Shape                 Param #   Connected to                  \n",
            "==================================================================================================\n",
            " input_1 (InputLayer)        [(None, 500, 300)]           0         []                            \n",
            "                                                                                                  \n",
            " conv1d (Conv1D)             (None, 498, 100)             90100     ['input_1[0][0]']             \n",
            "                                                                                                  \n",
            " conv1d_1 (Conv1D)           (None, 497, 100)             120100    ['input_1[0][0]']             \n",
            "                                                                                                  \n",
            " conv1d_2 (Conv1D)           (None, 496, 100)             150100    ['input_1[0][0]']             \n",
            "                                                                                                  \n",
            " global_max_pooling1d (Glob  (None, 100)                  0         ['conv1d[0][0]']              \n",
            " alMaxPooling1D)                                                                                  \n",
            "                                                                                                  \n",
            " global_max_pooling1d_1 (Gl  (None, 100)                  0         ['conv1d_1[0][0]']            \n",
            " obalMaxPooling1D)                                                                                \n",
            "                                                                                                  \n",
            " global_max_pooling1d_2 (Gl  (None, 100)                  0         ['conv1d_2[0][0]']            \n",
            " obalMaxPooling1D)                                                                                \n",
            "                                                                                                  \n",
            " concatenate (Concatenate)   (None, 300)                  0         ['global_max_pooling1d[0][0]',\n",
            "                                                                     'global_max_pooling1d_1[0][0]\n",
            "                                                                    ',                            \n",
            "                                                                     'global_max_pooling1d_2[0][0]\n",
            "                                                                    ']                            \n",
            "                                                                                                  \n",
            " flatten (Flatten)           (None, 300)                  0         ['concatenate[0][0]']         \n",
            "                                                                                                  \n",
            " dense (Dense)               (None, 100)                  30100     ['flatten[0][0]']             \n",
            "                                                                                                  \n",
            " dropout (Dropout)           (None, 100)                  0         ['dense[0][0]']               \n",
            "                                                                                                  \n",
            " dense_1 (Dense)             (None, 4)                    404       ['dropout[0][0]']             \n",
            "                                                                                                  \n",
            "==================================================================================================\n",
            "Total params: 390804 (1.49 MB)\n",
            "Trainable params: 390804 (1.49 MB)\n",
            "Non-trainable params: 0 (0.00 Byte)\n",
            "__________________________________________________________________________________________________\n"
          ]
        }
      ],
      "source": [
        "# Compile the model\n",
        "model = tf.keras.models.Model(inputs, clf)\n",
        "model.compile(optimizer='adam', loss='sparse_categorical_crossentropy', metrics=['accuracy'])\n",
        "early_stopping = tf.keras.callbacks.EarlyStopping(monitor='val_loss', patience=3, restore_best_weights=True)\n",
        "\n",
        "model.summary()"
      ]
    },
    {
      "cell_type": "code",
      "execution_count": 12,
      "metadata": {
        "colab": {
          "base_uri": "https://localhost:8080/"
        },
        "id": "au35ZL-zmHYI",
        "outputId": "d0d41498-a857-49e6-a307-3e8ae240f61b"
      },
      "outputs": [
        {
          "name": "stdout",
          "output_type": "stream",
          "text": [
            "Epoch 1/10\n",
            "40/40 [==============================] - 4s 60ms/step - loss: 3.9300 - accuracy: 0.3517 - val_loss: 1.2471 - val_accuracy: 0.4308\n",
            "Epoch 2/10\n",
            "40/40 [==============================] - 2s 44ms/step - loss: 1.2901 - accuracy: 0.4251 - val_loss: 1.1581 - val_accuracy: 0.5755\n",
            "Epoch 3/10\n",
            "40/40 [==============================] - 2s 46ms/step - loss: 1.1155 - accuracy: 0.4606 - val_loss: 0.9904 - val_accuracy: 0.6258\n",
            "Epoch 4/10\n",
            "40/40 [==============================] - 2s 45ms/step - loss: 1.0645 - accuracy: 0.4897 - val_loss: 0.9318 - val_accuracy: 0.6541\n",
            "Epoch 5/10\n",
            "40/40 [==============================] - 2s 44ms/step - loss: 0.9991 - accuracy: 0.5331 - val_loss: 0.8390 - val_accuracy: 0.6761\n",
            "Epoch 6/10\n",
            "40/40 [==============================] - 2s 44ms/step - loss: 0.9268 - accuracy: 0.5521 - val_loss: 0.7760 - val_accuracy: 0.7138\n",
            "Epoch 7/10\n",
            "40/40 [==============================] - 2s 44ms/step - loss: 0.9066 - accuracy: 0.5244 - val_loss: 0.7724 - val_accuracy: 0.6918\n",
            "Epoch 8/10\n",
            "40/40 [==============================] - 2s 44ms/step - loss: 0.7919 - accuracy: 0.6301 - val_loss: 0.6225 - val_accuracy: 0.7767\n",
            "Epoch 9/10\n",
            "40/40 [==============================] - 2s 44ms/step - loss: 0.7392 - accuracy: 0.6317 - val_loss: 0.5636 - val_accuracy: 0.8145\n",
            "Epoch 10/10\n",
            "40/40 [==============================] - 2s 46ms/step - loss: 0.6893 - accuracy: 0.6632 - val_loss: 0.5943 - val_accuracy: 0.8082\n"
          ]
        }
      ],
      "source": [
        "# Train the model\n",
        "history = model.fit(X_train_embed, y_train_encoded,\n",
        "                    validation_data=(X_test_embed, y_test_encoded),\n",
        "                    epochs=10,\n",
        "                    batch_size=32,\n",
        "                    callbacks=[early_stopping])"
      ]
    },
    {
      "cell_type": "code",
      "execution_count": 13,
      "metadata": {
        "colab": {
          "base_uri": "https://localhost:8080/"
        },
        "id": "mvdVxXG_hY33",
        "outputId": "f433d72b-88c0-4c1f-aa74-31356331c675"
      },
      "outputs": [
        {
          "name": "stdout",
          "output_type": "stream",
          "text": [
            "10/10 [==============================] - 0s 10ms/step - loss: 0.5943 - accuracy: 0.8082\n",
            "Test Loss: 0.5942628383636475\n",
            "Test Accuracy: 0.8081761002540588\n"
          ]
        }
      ],
      "source": [
        "# Evaluate the model\n",
        "loss, accuracy = model.evaluate(X_test_embed, y_test_encoded)\n",
        "print(\"Test Loss:\", loss)\n",
        "print(\"Test Accuracy:\", accuracy)"
      ]
    },
    {
      "cell_type": "code",
      "execution_count": 14,
      "metadata": {
        "colab": {
          "base_uri": "https://localhost:8080/"
        },
        "id": "-TSIW6r9mK-a",
        "outputId": "ba27131a-819d-47ba-e756-f84587b27908"
      },
      "outputs": [
        {
          "name": "stdout",
          "output_type": "stream",
          "text": [
            "10/10 [==============================] - 0s 11ms/step\n",
            "                        precision    recall  f1-score   support\n",
            "\n",
            "        comp.windows.x       0.86      0.72      0.79        79\n",
            "             rec.autos       0.76      0.80      0.78        79\n",
            "    rec.sport.baseball       0.86      0.82      0.84        80\n",
            "soc.religion.christian       0.77      0.89      0.83        80\n",
            "\n",
            "              accuracy                           0.81       318\n",
            "             macro avg       0.81      0.81      0.81       318\n",
            "          weighted avg       0.81      0.81      0.81       318\n",
            "\n"
          ]
        }
      ],
      "source": [
        "# Print classification report\n",
        "y_pred_enc = model.predict(X_test_embed)\n",
        "y_pred = encoder.inverse_transform(np.argmax(y_pred_enc, axis=1))\n",
        "print(classification_report(y_test, y_pred, target_names=encoder.classes_))"
      ]
    },
    {
      "cell_type": "code",
      "execution_count": 15,
      "metadata": {
        "colab": {
          "base_uri": "https://localhost:8080/",
          "height": 692
        },
        "id": "J6TJr6Aki5e7",
        "outputId": "4acf3d52-65a3-4c30-8919-fe91f00dc03e"
      },
      "outputs": [
        {
          "data": {
            "image/png": "[encoded data removed]",
            "text/plain": [
              "<IPython.core.display.Image object>"
            ]
          },
          "execution_count": 15,
          "metadata": {},
          "output_type": "execute_result"
        }
      ],
      "source": [
        "# Can show the graph of the model\n",
        "tf.keras.utils.plot_model(\n",
        "    model, show_shapes=False, show_layer_names=True,\n",
        "    rankdir='TB', expand_nested=False, dpi=96\n",
        ")"
      ]
    },
    {
      "cell_type": "markdown",
      "metadata": {
        "id": "jh2e3KIbmS7_"
      },
      "source": [
        "-----"
      ]
    },
    {
      "cell_type": "markdown",
      "metadata": {
        "id": "Of5x7FV8mPL8"
      },
      "source": [
        "* `2. Using cosine similarity (as we did before)`"
      ]
    },
    {
      "cell_type": "code",
      "execution_count": 16,
      "metadata": {
        "id": "qlNTsb4qjom7"
      },
      "outputs": [],
      "source": [
        "# Merge to get one vector for each document (n_docs, embed_size)\n",
        "X_train_merged = np.mean(X_train_embed, axis=1)\n",
        "X_test_merged = np.mean(X_test_embed, axis=1)"
      ]
    },
    {
      "cell_type": "code",
      "execution_count": 17,
      "metadata": {
        "colab": {
          "base_uri": "https://localhost:8080/"
        },
        "id": "ttNFOcVjjFDZ",
        "outputId": "0993d22d-b9dc-44d6-d703-2ce4bcc290ed"
      },
      "outputs": [
        {
          "name": "stdout",
          "output_type": "stream",
          "text": [
            "ID: 13\n",
            "True label: rec.autos\n",
            "0 nearest label is rec.autos similarity: 0.954\n",
            "1 nearest label is rec.autos similarity: 0.954\n",
            "2 nearest label is rec.autos similarity: 0.953\n",
            "ID: 245\n",
            "True label: comp.windows.x\n",
            "0 nearest label is comp.windows.x similarity: 0.999\n",
            "1 nearest label is comp.windows.x similarity: 0.851\n",
            "2 nearest label is comp.windows.x similarity: 0.843\n",
            "ID: 42\n",
            "True label: soc.religion.christian\n",
            "0 nearest label is soc.religion.christian similarity: 0.976\n",
            "1 nearest label is soc.religion.christian similarity: 0.963\n",
            "2 nearest label is soc.religion.christian similarity: 0.96\n",
            "ID: 81\n",
            "True label: rec.sport.baseball\n",
            "0 nearest label is soc.religion.christian similarity: 0.969\n",
            "1 nearest label is rec.autos similarity: 0.969\n",
            "2 nearest label is rec.sport.baseball similarity: 0.967\n",
            "ID: 187\n",
            "True label: comp.windows.x\n",
            "0 nearest label is comp.windows.x similarity: 1.0\n",
            "1 nearest label is comp.windows.x similarity: 1.0\n",
            "2 nearest label is comp.windows.x similarity: 0.976\n"
          ]
        }
      ],
      "source": [
        "for i in random.choices(range(0, len(X_test_merged)), k=5):\n",
        "    print(f\"ID: {i}\")\n",
        "    print(\"True label:\", colored(y_test[i], 'green'))\n",
        "    distances = cosine_similarity(X_test_merged[i].reshape(1, EMBED_SIZE), X_train_merged).flatten()\n",
        "    indices = np.argsort(distances)[::-1]\n",
        "    for _, j in enumerate(indices[:3]):\n",
        "        print(f\"{_} nearest label is {colored(y_train[j], 'green' if y_train[j]==y_test[i] else 'red')}\",\n",
        "             f\"similarity: {colored(round(distances[j], 3), 'yellow')}\")"
      ]
    },
    {
      "cell_type": "code",
      "execution_count": 18,
      "metadata": {
        "colab": {
          "base_uri": "https://localhost:8080/"
        },
        "id": "jhBT0bdlj_3b",
        "outputId": "b5ae7284-6773-4828-c319-6a1082b44c0a"
      },
      "outputs": [
        {
          "name": "stdout",
          "output_type": "stream",
          "text": [
            "Acccuray Score using cosine simlarity is: 74.528 %\n"
          ]
        }
      ],
      "source": [
        "# List to append in it the predicted of test labels\n",
        "y_pred_test = []\n",
        "\n",
        "# Loop over the entire test dataset\n",
        "for i in range(len(X_test)):\n",
        "    # Compute cosine similarity between the test instance and all training instances\n",
        "    distances = cosine_similarity(X_test_merged[i].reshape(1, EMBED_SIZE), X_train_merged).flatten()\n",
        "    # Get the indices of the training instances sorted by similarity in descending order\n",
        "    indices = np.argsort(distances)[::-1]\n",
        "    # Get the labels of the three nearest neighbors\n",
        "    nearest_labels = [y_train[j] for j in indices[:3]]\n",
        "    # Determine the most common label among the three nearest neighbors\n",
        "    y_pred_each = Counter(nearest_labels).most_common(1)[0][0]\n",
        "    # Append to list\n",
        "    y_pred_test.append(y_pred_each)\n",
        "\n",
        "# Get Accuracy score\n",
        "acc = accuracy_score(y_test, y_pred_test)\n",
        "print(f'Acccuray Score using cosine simlarity is: {acc*100:.3f} %') # using cosine similarity as a metric"
      ]
    },
    {
      "cell_type": "markdown",
      "metadata": {
        "id": "DDXf-91YkS_O"
      },
      "source": [
        "---"
      ]
    },
    {
      "cell_type": "markdown",
      "metadata": {
        "id": "_qMawflMkR5M"
      },
      "source": [
        "* `3. Using Euclidean Distance for measuring similarity`"
      ]
    },
    {
      "cell_type": "code",
      "execution_count": 19,
      "metadata": {
        "colab": {
          "base_uri": "https://localhost:8080/"
        },
        "id": "t2ItqvPGmxYX",
        "outputId": "e0464b84-a0eb-457e-de52-c41bc17657eb"
      },
      "outputs": [
        {
          "name": "stdout",
          "output_type": "stream",
          "text": [
            "ID: 158\n",
            "True label: comp.windows.x\n",
            "0 nearest label is rec.autos similarity: 1.845\n",
            "1 nearest label is comp.windows.x similarity: 1.856\n",
            "2 nearest label is comp.windows.x similarity: 1.862\n",
            "ID: 106\n",
            "True label: rec.sport.baseball\n",
            "0 nearest label is rec.sport.baseball similarity: 1.753\n",
            "1 nearest label is rec.sport.baseball similarity: 1.789\n",
            "2 nearest label is rec.sport.baseball similarity: 1.818\n",
            "ID: 157\n",
            "True label: soc.religion.christian\n",
            "0 nearest label is soc.religion.christian similarity: 0.0\n",
            "1 nearest label is soc.religion.christian similarity: 0.0\n",
            "2 nearest label is rec.autos similarity: 0.0\n",
            "ID: 248\n",
            "True label: comp.windows.x\n",
            "0 nearest label is comp.windows.x similarity: 1.683\n",
            "1 nearest label is comp.windows.x similarity: 1.723\n",
            "2 nearest label is comp.windows.x similarity: 1.723\n",
            "ID: 64\n",
            "True label: comp.windows.x\n",
            "0 nearest label is comp.windows.x similarity: 2.401\n",
            "1 nearest label is comp.windows.x similarity: 2.516\n",
            "2 nearest label is comp.windows.x similarity: 2.653\n"
          ]
        }
      ],
      "source": [
        "for i in random.choices(range(0, len(X_test)), k=5):\n",
        "    print(f\"ID: {i}\")\n",
        "    print(\"True label:\", colored(y_test[i], 'green'))\n",
        "    distances = euclidean_distances(X_test_merged[i].reshape(1, EMBED_SIZE), X_train_merged).flatten()\n",
        "    indices = np.argsort(distances)\n",
        "    for _, j in enumerate(indices[:3]):\n",
        "        print(f\"{_} nearest label is {colored(y_train[j], 'green' if y_train[j]==y_test[i] else 'red')}\",\n",
        "             f\"similarity: {colored(round(distances[j], 3), 'yellow')}\")"
      ]
    },
    {
      "cell_type": "code",
      "execution_count": 20,
      "metadata": {
        "colab": {
          "base_uri": "https://localhost:8080/"
        },
        "id": "GUSxvkdDkIAY",
        "outputId": "47e0471f-1e0f-4852-ab9a-8a7c6f41b806"
      },
      "outputs": [
        {
          "name": "stdout",
          "output_type": "stream",
          "text": [
            "Acccuray Score using Euclidean Distance is: 70.755 %\n"
          ]
        }
      ],
      "source": [
        "# List to append in it the predicted of test labels\n",
        "y_pred_test = []\n",
        "\n",
        "# Loop over the entire test dataset\n",
        "for i in range(len(X_test)):\n",
        "\n",
        "    # Compute euclidean_distances between the test instance and all training instances\n",
        "    distances = euclidean_distances(X_test_merged[i].reshape(1, EMBED_SIZE), X_train_merged).flatten()\n",
        "    # Get the indices of the training instances sorted by distance in ascending order\n",
        "    indices = np.argsort(distances)\n",
        "    # Get the labels of the three nearest neighbors\n",
        "    nearest_labels = [y_train[j] for j in indices[:3]]\n",
        "    # Determine the most common label among the three nearest neighbors\n",
        "    y_pred_each = Counter(nearest_labels).most_common(1)[0][0]\n",
        "    # Append to list\n",
        "    y_pred_test.append(y_pred_each)\n",
        "\n",
        "# Get Accuracy score\n",
        "acc = accuracy_score(y_test, y_pred_test)\n",
        "print(f'Acccuray Score using Euclidean Distance is: {acc*100:.3f} %') # usign euclidean distance"
      ]
    },
    {
      "cell_type": "markdown",
      "metadata": {
        "id": "KQQY0cQBkXhE"
      },
      "source": [
        "-----"
      ]
    }
  ],
  "metadata": {
    "accelerator": "TPU",
    "colab": {
      "gpuType": "V28",
      "provenance": []
    },
    "kernelspec": {
      "display_name": "Python 3",
      "name": "python3"
    },
    "language_info": {
      "name": "python"
    },
    "widgets": {
      "application/vnd.jupyter.widget-state+json": {
        "046342a2a84e4c369c098153cac2ee59": {
          "model_module": "@jupyter-widgets/controls",
          "model_module_version": "1.5.0",
          "model_name": "DescriptionStyleModel",
          "state": {
            "_model_module": "@jupyter-widgets/controls",
            "_model_module_version": "1.5.0",
            "_model_name": "DescriptionStyleModel",
            "_view_count": null,
            "_view_module": "@jupyter-widgets/base",
            "_view_module_version": "1.2.0",
            "_view_name": "StyleView",
            "description_width": ""
          }
        },
        "09886525dc23463a817d1fabce223da0": {
          "model_module": "@jupyter-widgets/controls",
          "model_module_version": "1.5.0",
          "model_name": "FloatProgressModel",
          "state": {
            "_dom_classes": [],
            "_model_module": "@jupyter-widgets/controls",
            "_model_module_version": "1.5.0",
            "_model_name": "FloatProgressModel",
            "_view_count": null,
            "_view_module": "@jupyter-widgets/controls",
            "_view_module_version": "1.5.0",
            "_view_name": "ProgressView",
            "bar_style": "success",
            "description": "",
            "description_tooltip": null,
            "layout": "IPY_MODEL_4c4bda2fa3b94248b55bf2c70b134a3a",
            "max": 1268,
            "min": 0,
            "orientation": "horizontal",
            "style": "IPY_MODEL_1a2859e6351540dea41b8446fa2faca8",
            "value": 1268
          }
        },
        "1a2859e6351540dea41b8446fa2faca8": {
          "model_module": "@jupyter-widgets/controls",
          "model_module_version": "1.5.0",
          "model_name": "ProgressStyleModel",
          "state": {
            "_model_module": "@jupyter-widgets/controls",
            "_model_module_version": "1.5.0",
            "_model_name": "ProgressStyleModel",
            "_view_count": null,
            "_view_module": "@jupyter-widgets/base",
            "_view_module_version": "1.2.0",
            "_view_name": "StyleView",
            "bar_color": null,
            "description_width": ""
          }
        },
        "1dd2eb587109430492bba02bcd79f8d5": {
          "model_module": "@jupyter-widgets/base",
          "model_module_version": "1.2.0",
          "model_name": "LayoutModel",
          "state": {
            "_model_module": "@jupyter-widgets/base",
            "_model_module_version": "1.2.0",
            "_model_name": "LayoutModel",
            "_view_count": null,
            "_view_module": "@jupyter-widgets/base",
            "_view_module_version": "1.2.0",
            "_view_name": "LayoutView",
            "align_content": null,
            "align_items": null,
            "align_self": null,
            "border": null,
            "bottom": null,
            "display": null,
            "flex": null,
            "flex_flow": null,
            "grid_area": null,
            "grid_auto_columns": null,
            "grid_auto_flow": null,
            "grid_auto_rows": null,
            "grid_column": null,
            "grid_gap": null,
            "grid_row": null,
            "grid_template_areas": null,
            "grid_template_columns": null,
            "grid_template_rows": null,
            "height": null,
            "justify_content": null,
            "justify_items": null,
            "left": null,
            "margin": null,
            "max_height": null,
            "max_width": null,
            "min_height": null,
            "min_width": null,
            "object_fit": null,
            "object_position": null,
            "order": null,
            "overflow": null,
            "overflow_x": null,
            "overflow_y": null,
            "padding": null,
            "right": null,
            "top": null,
            "visibility": null,
            "width": null
          }
        },
        "1f561c61d52345e48d2766e0aa6b3e44": {
          "model_module": "@jupyter-widgets/controls",
          "model_module_version": "1.5.0",
          "model_name": "HBoxModel",
          "state": {
            "_dom_classes": [],
            "_model_module": "@jupyter-widgets/controls",
            "_model_module_version": "1.5.0",
            "_model_name": "HBoxModel",
            "_view_count": null,
            "_view_module": "@jupyter-widgets/controls",
            "_view_module_version": "1.5.0",
            "_view_name": "HBoxView",
            "box_style": "",
            "children": [
              "IPY_MODEL_8c25def9a98e491dbfde5672f7c0c3a0",
              "IPY_MODEL_09886525dc23463a817d1fabce223da0",
              "IPY_MODEL_2e3a9b18726b429c8afbbb945087b8bb"
            ],
            "layout": "IPY_MODEL_b3668517cf2e4eaf90709572960f85fd"
          }
        },
        "291d25aba99e434097717e8915310928": {
          "model_module": "@jupyter-widgets/controls",
          "model_module_version": "1.5.0",
          "model_name": "DescriptionStyleModel",
          "state": {
            "_model_module": "@jupyter-widgets/controls",
            "_model_module_version": "1.5.0",
            "_model_name": "DescriptionStyleModel",
            "_view_count": null,
            "_view_module": "@jupyter-widgets/base",
            "_view_module_version": "1.2.0",
            "_view_name": "StyleView",
            "description_width": ""
          }
        },
        "2e3a9b18726b429c8afbbb945087b8bb": {
          "model_module": "@jupyter-widgets/controls",
          "model_module_version": "1.5.0",
          "model_name": "HTMLModel",
          "state": {
            "_dom_classes": [],
            "_model_module": "@jupyter-widgets/controls",
            "_model_module_version": "1.5.0",
            "_model_name": "HTMLModel",
            "_view_count": null,
            "_view_module": "@jupyter-widgets/controls",
            "_view_module_version": "1.5.0",
            "_view_name": "HTMLView",
            "description": "",
            "description_tooltip": null,
            "layout": "IPY_MODEL_1dd2eb587109430492bba02bcd79f8d5",
            "placeholder": "​",
            "style": "IPY_MODEL_78fa4cf6151f4a379af8d1a506ec239e",
            "value": " 1268/1268 [00:34&lt;00:00, 46.06it/s]"
          }
        },
        "3a6998629a2047bbbd4931122ae48fe3": {
          "model_module": "@jupyter-widgets/controls",
          "model_module_version": "1.5.0",
          "model_name": "DescriptionStyleModel",
          "state": {
            "_model_module": "@jupyter-widgets/controls",
            "_model_module_version": "1.5.0",
            "_model_name": "DescriptionStyleModel",
            "_view_count": null,
            "_view_module": "@jupyter-widgets/base",
            "_view_module_version": "1.2.0",
            "_view_name": "StyleView",
            "description_width": ""
          }
        },
        "4c4bda2fa3b94248b55bf2c70b134a3a": {
          "model_module": "@jupyter-widgets/base",
          "model_module_version": "1.2.0",
          "model_name": "LayoutModel",
          "state": {
            "_model_module": "@jupyter-widgets/base",
            "_model_module_version": "1.2.0",
            "_model_name": "LayoutModel",
            "_view_count": null,
            "_view_module": "@jupyter-widgets/base",
            "_view_module_version": "1.2.0",
            "_view_name": "LayoutView",
            "align_content": null,
            "align_items": null,
            "align_self": null,
            "border": null,
            "bottom": null,
            "display": null,
            "flex": null,
            "flex_flow": null,
            "grid_area": null,
            "grid_auto_columns": null,
            "grid_auto_flow": null,
            "grid_auto_rows": null,
            "grid_column": null,
            "grid_gap": null,
            "grid_row": null,
            "grid_template_areas": null,
            "grid_template_columns": null,
            "grid_template_rows": null,
            "height": null,
            "justify_content": null,
            "justify_items": null,
            "left": null,
            "margin": null,
            "max_height": null,
            "max_width": null,
            "min_height": null,
            "min_width": null,
            "object_fit": null,
            "object_position": null,
            "order": null,
            "overflow": null,
            "overflow_x": null,
            "overflow_y": null,
            "padding": null,
            "right": null,
            "top": null,
            "visibility": null,
            "width": null
          }
        },
        "62ac9c8faa3b4813b31784d65a744059": {
          "model_module": "@jupyter-widgets/controls",
          "model_module_version": "1.5.0",
          "model_name": "HBoxModel",
          "state": {
            "_dom_classes": [],
            "_model_module": "@jupyter-widgets/controls",
            "_model_module_version": "1.5.0",
            "_model_name": "HBoxModel",
            "_view_count": null,
            "_view_module": "@jupyter-widgets/controls",
            "_view_module_version": "1.5.0",
            "_view_name": "HBoxView",
            "box_style": "",
            "children": [
              "IPY_MODEL_87b118c4a48f468494d2cfeed62ffc52",
              "IPY_MODEL_7520be34d8fa4eca9437c3112c36ba55",
              "IPY_MODEL_cbaabe9f03ab442a94865bc09566f6b1"
            ],
            "layout": "IPY_MODEL_c686edb3ada3442e91cc2cc0491befca"
          }
        },
        "7520be34d8fa4eca9437c3112c36ba55": {
          "model_module": "@jupyter-widgets/controls",
          "model_module_version": "1.5.0",
          "model_name": "FloatProgressModel",
          "state": {
            "_dom_classes": [],
            "_model_module": "@jupyter-widgets/controls",
            "_model_module_version": "1.5.0",
            "_model_name": "FloatProgressModel",
            "_view_count": null,
            "_view_module": "@jupyter-widgets/controls",
            "_view_module_version": "1.5.0",
            "_view_name": "ProgressView",
            "bar_style": "success",
            "description": "",
            "description_tooltip": null,
            "layout": "IPY_MODEL_866edc8795394e73a7c35b979c73e290",
            "max": 318,
            "min": 0,
            "orientation": "horizontal",
            "style": "IPY_MODEL_7dc508d99e244d24b7e96ddb21650db7",
            "value": 318
          }
        },
        "78fa4cf6151f4a379af8d1a506ec239e": {
          "model_module": "@jupyter-widgets/controls",
          "model_module_version": "1.5.0",
          "model_name": "DescriptionStyleModel",
          "state": {
            "_model_module": "@jupyter-widgets/controls",
            "_model_module_version": "1.5.0",
            "_model_name": "DescriptionStyleModel",
            "_view_count": null,
            "_view_module": "@jupyter-widgets/base",
            "_view_module_version": "1.2.0",
            "_view_name": "StyleView",
            "description_width": ""
          }
        },
        "7a6335457d1246558598b35eab02b161": {
          "model_module": "@jupyter-widgets/base",
          "model_module_version": "1.2.0",
          "model_name": "LayoutModel",
          "state": {
            "_model_module": "@jupyter-widgets/base",
            "_model_module_version": "1.2.0",
            "_model_name": "LayoutModel",
            "_view_count": null,
            "_view_module": "@jupyter-widgets/base",
            "_view_module_version": "1.2.0",
            "_view_name": "LayoutView",
            "align_content": null,
            "align_items": null,
            "align_self": null,
            "border": null,
            "bottom": null,
            "display": null,
            "flex": null,
            "flex_flow": null,
            "grid_area": null,
            "grid_auto_columns": null,
            "grid_auto_flow": null,
            "grid_auto_rows": null,
            "grid_column": null,
            "grid_gap": null,
            "grid_row": null,
            "grid_template_areas": null,
            "grid_template_columns": null,
            "grid_template_rows": null,
            "height": null,
            "justify_content": null,
            "justify_items": null,
            "left": null,
            "margin": null,
            "max_height": null,
            "max_width": null,
            "min_height": null,
            "min_width": null,
            "object_fit": null,
            "object_position": null,
            "order": null,
            "overflow": null,
            "overflow_x": null,
            "overflow_y": null,
            "padding": null,
            "right": null,
            "top": null,
            "visibility": null,
            "width": null
          }
        },
        "7dc508d99e244d24b7e96ddb21650db7": {
          "model_module": "@jupyter-widgets/controls",
          "model_module_version": "1.5.0",
          "model_name": "ProgressStyleModel",
          "state": {
            "_model_module": "@jupyter-widgets/controls",
            "_model_module_version": "1.5.0",
            "_model_name": "ProgressStyleModel",
            "_view_count": null,
            "_view_module": "@jupyter-widgets/base",
            "_view_module_version": "1.2.0",
            "_view_name": "StyleView",
            "bar_color": null,
            "description_width": ""
          }
        },
        "866edc8795394e73a7c35b979c73e290": {
          "model_module": "@jupyter-widgets/base",
          "model_module_version": "1.2.0",
          "model_name": "LayoutModel",
          "state": {
            "_model_module": "@jupyter-widgets/base",
            "_model_module_version": "1.2.0",
            "_model_name": "LayoutModel",
            "_view_count": null,
            "_view_module": "@jupyter-widgets/base",
            "_view_module_version": "1.2.0",
            "_view_name": "LayoutView",
            "align_content": null,
            "align_items": null,
            "align_self": null,
            "border": null,
            "bottom": null,
            "display": null,
            "flex": null,
            "flex_flow": null,
            "grid_area": null,
            "grid_auto_columns": null,
            "grid_auto_flow": null,
            "grid_auto_rows": null,
            "grid_column": null,
            "grid_gap": null,
            "grid_row": null,
            "grid_template_areas": null,
            "grid_template_columns": null,
            "grid_template_rows": null,
            "height": null,
            "justify_content": null,
            "justify_items": null,
            "left": null,
            "margin": null,
            "max_height": null,
            "max_width": null,
            "min_height": null,
            "min_width": null,
            "object_fit": null,
            "object_position": null,
            "order": null,
            "overflow": null,
            "overflow_x": null,
            "overflow_y": null,
            "padding": null,
            "right": null,
            "top": null,
            "visibility": null,
            "width": null
          }
        },
        "87b118c4a48f468494d2cfeed62ffc52": {
          "model_module": "@jupyter-widgets/controls",
          "model_module_version": "1.5.0",
          "model_name": "HTMLModel",
          "state": {
            "_dom_classes": [],
            "_model_module": "@jupyter-widgets/controls",
            "_model_module_version": "1.5.0",
            "_model_name": "HTMLModel",
            "_view_count": null,
            "_view_module": "@jupyter-widgets/controls",
            "_view_module_version": "1.5.0",
            "_view_name": "HTMLView",
            "description": "",
            "description_tooltip": null,
            "layout": "IPY_MODEL_7a6335457d1246558598b35eab02b161",
            "placeholder": "​",
            "style": "IPY_MODEL_3a6998629a2047bbbd4931122ae48fe3",
            "value": "100%"
          }
        },
        "8c25def9a98e491dbfde5672f7c0c3a0": {
          "model_module": "@jupyter-widgets/controls",
          "model_module_version": "1.5.0",
          "model_name": "HTMLModel",
          "state": {
            "_dom_classes": [],
            "_model_module": "@jupyter-widgets/controls",
            "_model_module_version": "1.5.0",
            "_model_name": "HTMLModel",
            "_view_count": null,
            "_view_module": "@jupyter-widgets/controls",
            "_view_module_version": "1.5.0",
            "_view_name": "HTMLView",
            "description": "",
            "description_tooltip": null,
            "layout": "IPY_MODEL_dce3efefac9844d1a3b540af17512f75",
            "placeholder": "​",
            "style": "IPY_MODEL_046342a2a84e4c369c098153cac2ee59",
            "value": "100%"
          }
        },
        "af7b3968d02a4e3b9c9403ec7c47593d": {
          "model_module": "@jupyter-widgets/base",
          "model_module_version": "1.2.0",
          "model_name": "LayoutModel",
          "state": {
            "_model_module": "@jupyter-widgets/base",
            "_model_module_version": "1.2.0",
            "_model_name": "LayoutModel",
            "_view_count": null,
            "_view_module": "@jupyter-widgets/base",
            "_view_module_version": "1.2.0",
            "_view_name": "LayoutView",
            "align_content": null,
            "align_items": null,
            "align_self": null,
            "border": null,
            "bottom": null,
            "display": null,
            "flex": null,
            "flex_flow": null,
            "grid_area": null,
            "grid_auto_columns": null,
            "grid_auto_flow": null,
            "grid_auto_rows": null,
            "grid_column": null,
            "grid_gap": null,
            "grid_row": null,
            "grid_template_areas": null,
            "grid_template_columns": null,
            "grid_template_rows": null,
            "height": null,
            "justify_content": null,
            "justify_items": null,
            "left": null,
            "margin": null,
            "max_height": null,
            "max_width": null,
            "min_height": null,
            "min_width": null,
            "object_fit": null,
            "object_position": null,
            "order": null,
            "overflow": null,
            "overflow_x": null,
            "overflow_y": null,
            "padding": null,
            "right": null,
            "top": null,
            "visibility": null,
            "width": null
          }
        },
        "b3668517cf2e4eaf90709572960f85fd": {
          "model_module": "@jupyter-widgets/base",
          "model_module_version": "1.2.0",
          "model_name": "LayoutModel",
          "state": {
            "_model_module": "@jupyter-widgets/base",
            "_model_module_version": "1.2.0",
            "_model_name": "LayoutModel",
            "_view_count": null,
            "_view_module": "@jupyter-widgets/base",
            "_view_module_version": "1.2.0",
            "_view_name": "LayoutView",
            "align_content": null,
            "align_items": null,
            "align_self": null,
            "border": null,
            "bottom": null,
            "display": null,
            "flex": null,
            "flex_flow": null,
            "grid_area": null,
            "grid_auto_columns": null,
            "grid_auto_flow": null,
            "grid_auto_rows": null,
            "grid_column": null,
            "grid_gap": null,
            "grid_row": null,
            "grid_template_areas": null,
            "grid_template_columns": null,
            "grid_template_rows": null,
            "height": null,
            "justify_content": null,
            "justify_items": null,
            "left": null,
            "margin": null,
            "max_height": null,
            "max_width": null,
            "min_height": null,
            "min_width": null,
            "object_fit": null,
            "object_position": null,
            "order": null,
            "overflow": null,
            "overflow_x": null,
            "overflow_y": null,
            "padding": null,
            "right": null,
            "top": null,
            "visibility": null,
            "width": null
          }
        },
        "c686edb3ada3442e91cc2cc0491befca": {
          "model_module": "@jupyter-widgets/base",
          "model_module_version": "1.2.0",
          "model_name": "LayoutModel",
          "state": {
            "_model_module": "@jupyter-widgets/base",
            "_model_module_version": "1.2.0",
            "_model_name": "LayoutModel",
            "_view_count": null,
            "_view_module": "@jupyter-widgets/base",
            "_view_module_version": "1.2.0",
            "_view_name": "LayoutView",
            "align_content": null,
            "align_items": null,
            "align_self": null,
            "border": null,
            "bottom": null,
            "display": null,
            "flex": null,
            "flex_flow": null,
            "grid_area": null,
            "grid_auto_columns": null,
            "grid_auto_flow": null,
            "grid_auto_rows": null,
            "grid_column": null,
            "grid_gap": null,
            "grid_row": null,
            "grid_template_areas": null,
            "grid_template_columns": null,
            "grid_template_rows": null,
            "height": null,
            "justify_content": null,
            "justify_items": null,
            "left": null,
            "margin": null,
            "max_height": null,
            "max_width": null,
            "min_height": null,
            "min_width": null,
            "object_fit": null,
            "object_position": null,
            "order": null,
            "overflow": null,
            "overflow_x": null,
            "overflow_y": null,
            "padding": null,
            "right": null,
            "top": null,
            "visibility": null,
            "width": null
          }
        },
        "cbaabe9f03ab442a94865bc09566f6b1": {
          "model_module": "@jupyter-widgets/controls",
          "model_module_version": "1.5.0",
          "model_name": "HTMLModel",
          "state": {
            "_dom_classes": [],
            "_model_module": "@jupyter-widgets/controls",
            "_model_module_version": "1.5.0",
            "_model_name": "HTMLModel",
            "_view_count": null,
            "_view_module": "@jupyter-widgets/controls",
            "_view_module_version": "1.5.0",
            "_view_name": "HTMLView",
            "description": "",
            "description_tooltip": null,
            "layout": "IPY_MODEL_af7b3968d02a4e3b9c9403ec7c47593d",
            "placeholder": "​",
            "style": "IPY_MODEL_291d25aba99e434097717e8915310928",
            "value": " 318/318 [00:09&lt;00:00, 40.13it/s]"
          }
        },
        "dce3efefac9844d1a3b540af17512f75": {
          "model_module": "@jupyter-widgets/base",
          "model_module_version": "1.2.0",
          "model_name": "LayoutModel",
          "state": {
            "_model_module": "@jupyter-widgets/base",
            "_model_module_version": "1.2.0",
            "_model_name": "LayoutModel",
            "_view_count": null,
            "_view_module": "@jupyter-widgets/base",
            "_view_module_version": "1.2.0",
            "_view_name": "LayoutView",
            "align_content": null,
            "align_items": null,
            "align_self": null,
            "border": null,
            "bottom": null,
            "display": null,
            "flex": null,
            "flex_flow": null,
            "grid_area": null,
            "grid_auto_columns": null,
            "grid_auto_flow": null,
            "grid_auto_rows": null,
            "grid_column": null,
            "grid_gap": null,
            "grid_row": null,
            "grid_template_areas": null,
            "grid_template_columns": null,
            "grid_template_rows": null,
            "height": null,
            "justify_content": null,
            "justify_items": null,
            "left": null,
            "margin": null,
            "max_height": null,
            "max_width": null,
            "min_height": null,
            "min_width": null,
            "object_fit": null,
            "object_position": null,
            "order": null,
            "overflow": null,
            "overflow_x": null,
            "overflow_y": null,
            "padding": null,
            "right": null,
            "top": null,
            "visibility": null,
            "width": null
          }
        }
      }
    }
  },
  "nbformat": 4,
  "nbformat_minor": 0
}
